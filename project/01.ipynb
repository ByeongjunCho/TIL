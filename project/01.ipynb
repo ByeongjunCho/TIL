{
 "cells": [
  {
   "cell_type": "code",
   "execution_count": 61,
   "metadata": {},
   "outputs": [
    {
     "name": "stdout",
     "output_type": "stream",
     "text": [
      "http://www.kobis.or.kr/kobisopenapi/webservice/rest/boxoffice/searchWeeklyBoxOfficeList.json?key=39482ee966f81c52351ae45548ec214f&targetDt=20190713&weekGb=0\n"
     ]
    }
   ],
   "source": [
    "import requests\n",
    "\n",
    "key = '39482ee966f81c52351ae45548ec214f'\n",
    "targetDt = '20190713' #yyyymmdd\n",
    "weekGb = '0'\n",
    "api_url = f'http://www.kobis.or.kr/kobisopenapi/webservice/rest/boxoffice/searchWeeklyBoxOfficeList.json?key={key}&targetDt={targetDt}&weekGb={weekGb}'\n",
    "print(api_url)\n",
    "\n",
    "response = requests.get(api_url).json()\n",
    "# print(response)"
   ]
  },
  {
   "cell_type": "code",
   "execution_count": 33,
   "metadata": {},
   "outputs": [
    {
     "name": "stdout",
     "output_type": "stream",
     "text": [
      "{'rnum': '1', 'rank': '1', 'rankInten': '12', 'rankOldAndNew': 'OLD', 'movieCd': '20186202', 'movieNm': '신과함께-인과 연', 'openDt': '2018-08-01', 'salesAmt': '51755528737', 'salesShare': '60.8', 'salesInten': '51654507637', 'salesChange': '51132.4', 'salesAcc': '51859487837', 'audiCnt': '6182041', 'audiInten': '6170734', 'audiChange': '54574.5', 'audiAcc': '6193754', 'scrnCnt': '2235', 'showCnt': '52637'}\n"
     ]
    }
   ],
   "source": [
    "weeklyBoxOfficeList = response.get('boxOfficeResult').get('weeklyBoxOfficeList')\n",
    "# print(weeklyBoxOfficeList[0])\n",
    "# movieCd 영화 대표코드\n",
    "# movieNm 영화명\n",
    "# audiAcc 누적관객수"
   ]
  },
  {
   "cell_type": "code",
   "execution_count": 7,
   "metadata": {},
   "outputs": [
    {
     "name": "stdout",
     "output_type": "stream",
     "text": [
      "20180728\n",
      "<class 'datetime.datetime'>\n",
      "2018-07-28 00:00:00\n",
      "<class 'str'>\n",
      "2018\n",
      "07\n",
      "28\n"
     ]
    }
   ],
   "source": [
    "import datetime\n",
    "weeks_50ago = datetime.timedelta(days=7*50)\n",
    "# 시작 날짜 설정\n",
    "start_day = datetime.datetime(2019, 7, 13) - weeks_50ago\n",
    "print(start_day.strftime('%Y%m%d'))\n",
    "print(type(start_day))\n",
    "print(str(start_day))\n",
    "print(type(str(start_day)))\n",
    "print(str(start_day)[0:4])\n",
    "print(str(start_day)[5:7])\n",
    "print(str(start_day)[8:10])"
   ]
  },
  {
   "cell_type": "code",
   "execution_count": 18,
   "metadata": {
    "scrolled": true
   },
   "outputs": [],
   "source": [
    "import requests\n",
    "import datetime\n",
    "from pprint import pprint\n",
    "key = '39482ee966f81c52351ae45548ec214f'\n",
    "weekGb = '0'\n",
    "boxoffice = {}\n",
    "for week in range(51):\n",
    "    # 날짜 설정\n",
    "    call_day = datetime.datetime(2019, 7, 13) - datetime.timedelta(weeks = 50 - week)\n",
    "    targetDt = call_day.strftime('%Y%m%d')\n",
    "    # api를 이용해 데이터 요청\n",
    "    api_url = f'http://www.kobis.or.kr/kobisopenapi/webservice/rest/boxoffice/searchWeeklyBoxOfficeList.json?key={key}&targetDt={targetDt}&weekGb={weekGb}'\n",
    "    response = requests.get(api_url).json()\n",
    "    weeklyBoxOfficeList = response.get('boxOfficeResult').get('weeklyBoxOfficeList')\n",
    "    \n",
    "    for datas in weeklyBoxOfficeList:\n",
    "        boxoffice[datas.get('movieCd')] = {'영화 대표코드': datas.get('movieCd'), '영화명': datas.get('movieNm'), '해당일 누적관객수': datas.get('audiAcc')}\n",
    "    \n",
    "    # movieCd 영화 대표코드\n",
    "    # movieNm 영화명\n",
    "    # audiAcc 누적관객수"
   ]
  },
  {
   "cell_type": "code",
   "execution_count": 19,
   "metadata": {
    "scrolled": false
   },
   "outputs": [
    {
     "name": "stdout",
     "output_type": "stream",
     "text": [
      "{'20170942': {'영화 대표코드': '20170942', '영화명': '인랑', '해당일 누적관객수': '891308'},\n",
      " '20179101': {'영화 대표코드': '20179101', '영화명': '공작', '해당일 누적관객수': '2066490'},\n",
      " '20180522': {'영화 대표코드': '20180522', '영화명': '앤트맨과 와스프', '해당일 누적관객수': '5444801'},\n",
      " '20181181': {'영화 대표코드': '20181181',\n",
      "              '영화명': '미션 임파서블: 폴아웃',\n",
      "              '해당일 누적관객수': '6152563'},\n",
      " '20181443': {'영화 대표코드': '20181443', '영화명': '스카이스크래퍼', '해당일 누적관객수': '999978'},\n",
      " '20181942': {'영화 대표코드': '20181942', '영화명': '맘마미아!2', '해당일 누적관객수': '861456'},\n",
      " '20183361': {'영화 대표코드': '20183361', '영화명': '인크레더블 2', '해당일 누적관객수': '2998015'},\n",
      " '20184802': {'영화 대표코드': '20184802', '영화명': '몬스터 호텔 3', '해당일 누적관객수': '511348'},\n",
      " '20185242': {'영화 대표코드': '20185242',\n",
      "              '영화명': '신비아파트: 금빛 도깨비와 비밀의 동굴',\n",
      "              '해당일 누적관객수': '667879'},\n",
      " '20185341': {'영화 대표코드': '20185341', '영화명': '마녀', '해당일 누적관객수': '3188405'},\n",
      " '20186001': {'영화 대표코드': '20186001',\n",
      "              '영화명': '신은 죽지 않았다 3: 어둠 속의 빛',\n",
      "              '해당일 누적관객수': '63047'},\n",
      " '20186121': {'영화 대표코드': '20186121', '영화명': '어느 가족', '해당일 누적관객수': '123887'},\n",
      " '20186202': {'영화 대표코드': '20186202',\n",
      "              '영화명': '신과함께-인과 연',\n",
      "              '해당일 누적관객수': '9631229'},\n",
      " '20186501': {'영화 대표코드': '20186501',\n",
      "              '영화명': '극장판 헬로카봇 : 백악기 시대',\n",
      "              '해당일 누적관객수': '785341'},\n",
      " '20187427': {'영화 대표코드': '20187427',\n",
      "              '영화명': '명탐정 코난 : 제로의 집행인',\n",
      "              '해당일 누적관객수': '282149'},\n",
      " '20188042': {'영화 대표코드': '20188042',\n",
      "              '영화명': '독전: 익스텐디드 컷',\n",
      "              '해당일 누적관객수': '136885'}}\n"
     ]
    }
   ],
   "source": [
    "pprint(boxoffice)"
   ]
  },
  {
   "cell_type": "code",
   "execution_count": 17,
   "metadata": {},
   "outputs": [],
   "source": [
    "import csv\n",
    "with open('boxoffice.csv', 'w', encoding='utf-8') as f:\n",
    "    fieldnames = ['영화명', '영화 대표코드', '해당일 누적관객수']\n",
    "    csv_writer = csv.DictWriter(f, fieldnames=fieldnames)\n",
    "    csv_writer.writeheader()\n",
    "    for item in boxoffice.values():\n",
    "        csv_writer.writerow(item)"
   ]
  }
 ],
 "metadata": {
  "kernelspec": {
   "display_name": "Python 3",
   "language": "python",
   "name": "python3"
  },
  "language_info": {
   "codemirror_mode": {
    "name": "ipython",
    "version": 3
   },
   "file_extension": ".py",
   "mimetype": "text/x-python",
   "name": "python",
   "nbconvert_exporter": "python",
   "pygments_lexer": "ipython3",
   "version": "3.7.3"
  },
  "toc": {
   "base_numbering": 1,
   "nav_menu": {},
   "number_sections": true,
   "sideBar": true,
   "skip_h1_title": false,
   "title_cell": "Table of Contents",
   "title_sidebar": "Contents",
   "toc_cell": false,
   "toc_position": {},
   "toc_section_display": true,
   "toc_window_display": false
  }
 },
 "nbformat": 4,
 "nbformat_minor": 2
}
