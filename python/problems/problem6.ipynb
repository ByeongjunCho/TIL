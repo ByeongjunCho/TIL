{
 "cells": [
  {
   "cell_type": "markdown",
   "metadata": {},
   "source": [
    "# 메소드 없는 세상 <1>\n",
    "\n",
    "> 알파벳으로 이뤄진 word를 입력받아 알파벳 대소문자를 서로 교환한 결과를 반환하는 `my_swapcase(word)`를 작성해주세요.\n",
    "\n",
    "**`.upper()`, `.lower()`, `swapcase()`는 사용하지 말아주세요.**\n",
    "\n",
    "**Tip! 문자와 숫자에는 특별한 관계가 있습니다. Google에서 아스키 코드를 참고하세요**\n",
    "\n",
    "```python\n",
    "# 예시\n",
    "print(my_swapcase('hello, World!')) # => HELLO, wORLD!\n",
    "print(my_swapcase('@_@')) # => @_@\n",
    "print(my_swapcase('2^3은 8이다!')) # => 2^3은 8이다!\n",
    "```"
   ]
  },
  {
   "cell_type": "code",
   "execution_count": 87,
   "metadata": {},
   "outputs": [
    {
     "data": {
      "text/plain": [
       "97"
      ]
     },
     "execution_count": 87,
     "metadata": {},
     "output_type": "execute_result"
    }
   ],
   "source": [
    "ord('a')"
   ]
  },
  {
   "cell_type": "code",
   "execution_count": 88,
   "metadata": {},
   "outputs": [],
   "source": [
    "# 아래에 코드를 작성해주세요.\n",
    "def my_swapcase(words):\n",
    "    result = ''\n",
    "    for word in words:\n",
    "        ascii_word = ord(word)\n",
    "        if ord('A') <= ascii_word <= ord('Z'):\n",
    "            result += chr(ascii_word + 32)\n",
    "        elif ord('a') <= ascii_word <= ord('z'):\n",
    "            result += chr(ascii_word - 32)\n",
    "        else:\n",
    "            result += word\n",
    "    return result\n",
    "\n",
    "def my_swapcase(words):\n",
    "    result = ''\n",
    "    # +32 대문자 -> 소문자\n",
    "    # -32 소문자 -> 대문자\n",
    "    for char in words:\n",
    "        # 만약에 대문자라면,\n",
    "        if 65 <= ord(char) <= 90:\n",
    "            result += chr(ord(char) + 32)\n",
    "        # 만약에 대문자라면,\n",
    "        elif 97 <= ord(char) <= 122:\n",
    "            result += chr(ord(char) - 32)\n",
    "        # 알파벳이 아닐 경우\n",
    "        else:\n",
    "            result += char\n",
    "    return result"
   ]
  },
  {
   "cell_type": "code",
   "execution_count": 89,
   "metadata": {},
   "outputs": [
    {
     "name": "stdout",
     "output_type": "stream",
     "text": [
      "HELLO, wORLD!\n",
      "@_@\n",
      "2^3은 8이다!\n",
      "Az\n"
     ]
    }
   ],
   "source": [
    "print(my_swapcase('hello, World!'))\n",
    "print(my_swapcase('@_@'))\n",
    "print(my_swapcase('2^3은 8이다!'))\n",
    "print(my_swapcase('aZ'))"
   ]
  },
  {
   "cell_type": "markdown",
   "metadata": {},
   "source": [
    "# 메소드 없는 세상 <2>\n",
    "\n",
    "> 우리는 문자열을 만들어 나갈 때, `.join(iterable)` 함수를 사용합니다. \n",
    ">\n",
    "> `.join(iterable)`이 생각나지 않을 때를 위해 직접 만들어보면서 감사함을 느껴봅시다.\n",
    ">\n",
    "> `my_join(target, word)`를 만들어 문자열을 반환해주세요.\n",
    ">\n",
    "> target은 바꿀 대상(iterable)이며, word는 합쳐지는 단어입니다. \n",
    "\n",
    "---\n",
    "\n",
    "\n",
    "예시)\n",
    "\n",
    "`''.join(a)` 와 `my_join(a, '')`은 같은 함수 호출입니다.\n",
    "\n",
    "```python\n",
    "print(my_join('배고파', '.')) # => 배.고.파\n",
    "print(my_join(['1', '2', '3'], '')) # => 123\n",
    "```"
   ]
  },
  {
   "cell_type": "code",
   "execution_count": 1,
   "metadata": {},
   "outputs": [],
   "source": [
    "# 아래에 코드를 작성해주세요.\n",
    "def my_join(target, word):\n",
    "    result = ''\n",
    "    for ix, tar in enumerate(target):\n",
    "        result += tar if ix == len(target)-1 else tar+word\n",
    "    return result\n",
    "\n",
    "def my_join(target, word):\n",
    "    result = ''\n",
    "    for char in target:\n",
    "        result += char + word\n",
    "    return result"
   ]
  },
  {
   "cell_type": "code",
   "execution_count": 96,
   "metadata": {},
   "outputs": [],
   "source": [
    "def my_join(target, word):\n",
    "    result = ''\n",
    "    for idx, char in enumerate(target):\n",
    "        # 난 지금 마지막 횟수인 것을 알고 싶다... \n",
    "        # => 반복문 돌 때마다 카운트, 마지막일 때 len(target)\n",
    "        if idx+1 == len(target):\n",
    "            result += char\n",
    "        else:\n",
    "            result += char + word\n",
    "    return result"
   ]
  },
  {
   "cell_type": "code",
   "execution_count": 98,
   "metadata": {},
   "outputs": [],
   "source": [
    "def my_join(target, word):\n",
    "    result = ''\n",
    "    for char in target:\n",
    "        result += char + word\n",
    "        # 마지막이 해당 문자랑 같으면 삭제\n",
    "    return result[:-1] if result[-1] != word else result"
   ]
  },
  {
   "cell_type": "code",
   "execution_count": 100,
   "metadata": {},
   "outputs": [],
   "source": [
    "def my_join(target, word):\n",
    "    result = target[0] # 첫글자로 초기화\n",
    "    for char in target[1:]: # word+target 순으로 작성\n",
    "        result += word + char\n",
    "    return result"
   ]
  },
  {
   "cell_type": "code",
   "execution_count": 2,
   "metadata": {},
   "outputs": [
    {
     "name": "stdout",
     "output_type": "stream",
     "text": [
      "배.고.파.\n",
      "123\n",
      "2!5!3!\n"
     ]
    }
   ],
   "source": [
    "print(my_join('배고파', '.'))\n",
    "print(my_join(['1', '2', '3'], ''))\n",
    "print(my_join(['2', '5', '3'], '!'))"
   ]
  },
  {
   "cell_type": "markdown",
   "metadata": {},
   "source": [
    "#  가능한 적게 변경하기\n",
    "\n",
    "> 대문자와 소문자가 혼합되어 있는 문자열어 주어지며\n",
    ">\n",
    "> 다음의 기준에 따라서 문자열을 소문자 혹은 대문자로 변환하세요.\n",
    "\n",
    "\n",
    "*  가능한 적게 변경하세요.\n",
    "*  만약에 문자열의 대문자 혹은 소문자가 같다면, 문자열을 모두 소문자로 변경하세요.\n",
    "\n",
    "--- \n",
    "\n",
    "```python\n",
    "# 예시 입력) \n",
    "print(solve('coDe'))\n",
    "print(solve('CODe'))\n",
    "print(solve('coDE'))\n",
    "\n",
    "# 예시 출력)\n",
    "'code'\n",
    "'CODE'\n",
    "'code'\n",
    "```"
   ]
  },
  {
   "cell_type": "code",
   "execution_count": null,
   "metadata": {},
   "outputs": [],
   "source": [
    "# 아래에 코드를 작성해주세요.\n",
    "def solve(words):\n",
    "    lower_count = 0\n",
    "    upper_count = 0\n",
    "    # 소문자와 대문자 갯수 파악\n",
    "    for word in words:\n",
    "        if ord('a') <= ord(word) <= ord('z'):\n",
    "            lower_count += 1\n",
    "        else:\n",
    "            upper_count += 1\n",
    "        return words.lower() if lower_count >= upper_count else words.upper()"
   ]
  },
  {
   "cell_type": "code",
   "execution_count": null,
   "metadata": {},
   "outputs": [],
   "source": [
    "def solve(word):\n",
    "    # 대문자 / 소문자 갯수를 확인.\n",
    "    lower = 0\n",
    "    upper = 0\n",
    "    for char in word:\n",
    "        if char.islower():\n",
    "            lower += 1\n",
    "        else:\n",
    "            upper += 1\n",
    "    # 소문자\n",
    "    if lower >= upper:\n",
    "        return word.lower()\n",
    "    # 대문자\n",
    "    else:\n",
    "        return word.upper()"
   ]
  },
  {
   "cell_type": "code",
   "execution_count": 110,
   "metadata": {},
   "outputs": [],
   "source": [
    "def solve(word):\n",
    "    count = sum([1 for char in word if char.isupper()]) # 대문자 갯수\n",
    "    if count > len(word)/2: # 대소문자 밖에 없으니 2로 나눠서\n",
    "        return word.upper()\n",
    "    else:\n",
    "        return word.lower()"
   ]
  },
  {
   "cell_type": "code",
   "execution_count": 111,
   "metadata": {},
   "outputs": [
    {
     "name": "stdout",
     "output_type": "stream",
     "text": [
      "code\n",
      "CODE\n",
      "code\n"
     ]
    }
   ],
   "source": [
    "print(solve('coDe'))\n",
    "print(solve('CODe'))\n",
    "print(solve('coDE'))"
   ]
  },
  {
   "cell_type": "markdown",
   "metadata": {},
   "source": [
    "# 숨바꼭질\n",
    "\n",
    "> 숫자가 주어지면, 사용되지 않은 숫자를 프린트하세요.\n",
    "\n",
    "---\n",
    "\n",
    "```python\n",
    "# 예시)\n",
    "unused_digits(12, 34, 56, 78) # => '09'\n",
    "\n",
    "unused_digits(2015, 8, 26)  # => '3479'\n",
    "```\n",
    "\n",
    "\n",
    "**결과값은 정렬되어야 합니다.**\n",
    "\n"
   ]
  },
  {
   "cell_type": "code",
   "execution_count": 10,
   "metadata": {},
   "outputs": [],
   "source": [
    "def unused_digits(*nums):\n",
    "    tmp = set(map(str, range(10)))\n",
    "    for n in nums:\n",
    "        tmp -= set(str(n))\n",
    "    return ''.join(sorted(tmp))"
   ]
  },
  {
   "cell_type": "code",
   "execution_count": 122,
   "metadata": {},
   "outputs": [],
   "source": [
    "def unused_digits(*numbers):\n",
    "    # 나중에 사용할 0~9까지 문자로 바꾸고\n",
    "    result = list(map(str, range(10)))\n",
    "    tmp = ''\n",
    "    for number in numbers:\n",
    "        tmp += str(number)\n",
    "    # 리스트에서 하나씩 지운다.\n",
    "    for num in tmp:\n",
    "        if num in result:\n",
    "            result.remove(num)\n",
    "    return result"
   ]
  },
  {
   "cell_type": "code",
   "execution_count": 3,
   "metadata": {},
   "outputs": [],
   "source": [
    "# 아래에 코드를 작성해주세요.\n",
    "\n",
    "def unused_digits(*numbers):\n",
    "    string = ''\n",
    "    for num in numbers:\n",
    "        string += str(num)\n",
    "    return ''.join([str(x) for x in range(10) if str(x) not in string])"
   ]
  },
  {
   "cell_type": "code",
   "execution_count": 118,
   "metadata": {},
   "outputs": [],
   "source": [
    "def unused_digits(*numbers):\n",
    "    result = set('01123456789')\n",
    "    for num in numbers:\n",
    "        result -= set(str(num))\n",
    "    return ''.join(sorted(result))"
   ]
  },
  {
   "cell_type": "code",
   "execution_count": 11,
   "metadata": {},
   "outputs": [
    {
     "name": "stdout",
     "output_type": "stream",
     "text": [
      "09\n",
      "3479\n",
      "9\n"
     ]
    }
   ],
   "source": [
    "print(unused_digits(12, 34, 56, 78))\n",
    "print(unused_digits(2015, 8, 26))\n",
    "print(unused_digits(2015, 8, 26,22334321512,656766))"
   ]
  },
  {
   "cell_type": "markdown",
   "metadata": {},
   "source": [
    "# 짝홀짝홀"
   ]
  },
  {
   "cell_type": "markdown",
   "metadata": {},
   "source": [
    "> n개의 양의 정수 리스트가 주어지면, 홀수와 짝수를 분리하고 각각의 조건에 맞게 홀수와 짝수를 \n",
    "정렬하세요.\n",
    "\n",
    "> 조건\n",
    "1. 짝수와 홀수가 번갈아 가면서 나오게 됩니다.\n",
    "2. 짝수가 먼저 시작됩니다.\n",
    "3. 짝수는 오름차순으로 홀수는 내림차순으로 되어야합니다.\n",
    "\n",
    "> 실습 입력 인자 조건\n",
    "1. 인자 리스트의 크기는 적어도 4이상입니다.\n",
    "2. 인자 리스트의 요소값으로 0은 존재하지 않습니다.\n",
    "3. 인자 리스트의 요소값이 반복될 수 있으나 출력할 때는 중복 값이 없습니다.\n",
    "\n",
    "```python\n",
    "# 예시) \n",
    "\n",
    "print(even_and_odd([7, 3 , 14 , 17]))\n",
    "# => [14, 17, 7, 3]\n",
    "\n",
    "print(even_and_odd([1, 3, 5, 7, 9, 11]))\n",
    "# => [11, 9, 7, 5, 3, 1]\n",
    "\n",
    "print(even_and_odd([1, 2, 2, 4, 4, 6, 6, 2004, 9, 11]))\n",
    "# => [2, 11, 4, 9, 6, 1, 2004]\n",
    "```"
   ]
  },
  {
   "cell_type": "code",
   "execution_count": null,
   "metadata": {},
   "outputs": [],
   "source": [
    "def even_and_odd(nums):\n",
    "    if "
   ]
  },
  {
   "cell_type": "code",
   "execution_count": 83,
   "metadata": {},
   "outputs": [],
   "source": [
    "# 여기에 코드를 작성하세요\n",
    "def even_and_odd(numbers):\n",
    "    even = []\n",
    "    odd = []\n",
    "    [odd.append(x) if x % 2 else even.append(x) for x in set(numbers)]\n",
    "    even.sort(reverse=False)\n",
    "    odd.sort(reverse=True)\n",
    "    result = []\n",
    "    even_lenth = len(even)\n",
    "    odd_lenth = len(odd)\n",
    "    \n",
    "    if even_lenth == 0:\n",
    "        return odd\n",
    "    elif odd_lenth == 0:\n",
    "        return even\n",
    "    \n",
    "    if even_lenth >= odd_lenth:\n",
    "        for i in range(odd_lenth):\n",
    "            result.append(even[i])\n",
    "            result.append(odd[i])\n",
    "        result.extend(even[i+1:])\n",
    "    \n",
    "    elif even_lenth < odd_lenth:\n",
    "        for i in range(even_lenth):\n",
    "            result.append(even[i])\n",
    "            result.append(odd[i])\n",
    "        result.extend(odd[i+1:])\n",
    "\n",
    "    return result"
   ]
  },
  {
   "cell_type": "code",
   "execution_count": 146,
   "metadata": {},
   "outputs": [],
   "source": [
    "def even_and_odd(numbers):\n",
    "    # 1. 짝수, 홀수 분리 - 정렬+중복제거\n",
    "    # 중복제거, 정렬, 짝수만\n",
    "    even = [i for i in sorted(set(numbers)) if not i%2]\n",
    "    odd = [i for i in sorted(set(numbers)) if i%2][::-1]\n",
    "    \n",
    "    # 2. 결과를 만든다.\n",
    "    # 짝수랑 홀수 길이 중 큰 것으로 돌린다. or 작은 것으로 돌린다.\n",
    "    if len(even) > len(odd): # 짝수가 더 기니까\n",
    "        tmp = even[len(odd):] # 홀수길이 이후를 따로 저장    \n",
    "        even = even[:len(odd)] # 홀수 길이만큼 저장\n",
    "    else:\n",
    "        tmp = odd[len(even):] # 짝수길이 이후를 따로 저장    \n",
    "        odd = odd[:len(even)] # 짝수 길이만큼 저장\n",
    "        \n",
    "    # 결과통\n",
    "    result = []\n",
    "    for even_num, odd_num in zip(even, odd):\n",
    "        result.append(even_num)\n",
    "        result.append(odd_num)\n",
    "        \n",
    "    return result + tmp"
   ]
  },
  {
   "cell_type": "code",
   "execution_count": 148,
   "metadata": {},
   "outputs": [],
   "source": [
    "a = [1,2,3]"
   ]
  },
  {
   "cell_type": "code",
   "execution_count": 153,
   "metadata": {},
   "outputs": [
    {
     "data": {
      "text/plain": [
       "[1, 2]"
      ]
     },
     "execution_count": 153,
     "metadata": {},
     "output_type": "execute_result"
    }
   ],
   "source": [
    "a[:-1]"
   ]
  },
  {
   "cell_type": "code",
   "execution_count": 152,
   "metadata": {},
   "outputs": [
    {
     "data": {
      "text/plain": [
       "[3, 2, 1]"
      ]
     },
     "execution_count": 152,
     "metadata": {},
     "output_type": "execute_result"
    }
   ],
   "source": [
    "a[::-1]"
   ]
  },
  {
   "cell_type": "code",
   "execution_count": null,
   "metadata": {},
   "outputs": [],
   "source": [
    "while True:\n",
    "    if len(even) == 0 and len(odd) == 0:\n",
    "        break\n",
    "    if len(even) > 0:\n",
    "        result.append(even.pop())\n",
    "    if len(odd) > 0:\n",
    "        result.append(odd.pop())"
   ]
  },
  {
   "cell_type": "code",
   "execution_count": 147,
   "metadata": {
    "scrolled": true
   },
   "outputs": [
    {
     "name": "stdout",
     "output_type": "stream",
     "text": [
      "[14, 17, 7, 3]\n",
      "[11, 9, 7, 5, 3, 1]\n",
      "[2, 11, 4, 9, 6, 1, 2004]\n"
     ]
    }
   ],
   "source": [
    "print(even_and_odd([7, 3, 14, 17]))\n",
    "print(even_and_odd([1, 3, 5, 7, 9, 11]))\n",
    "print(even_and_odd([1, 2, 2, 4, 4, 6, 6, 2004, 9, 11]))"
   ]
  },
  {
   "cell_type": "markdown",
   "metadata": {},
   "source": [
    "# 문자열 계산하기\n",
    "\n",
    "> 아래와 같이 문자열이 주어졌을 때, 바보같은 사용자를 위해 계산을 해주려고 한다.\n",
    ">\n",
    "> 이 계산기는 더하기와 빼기밖에 못한다.\n",
    ">\n",
    "> `calc(equation)`을 만들어봅시다.\n",
    "\n",
    "\n",
    "```python\n",
    "# 예시\n",
    "calc('123+2-124')\n",
    "#=> 1\n",
    "\n",
    "calc('-12+12-7979+9191')\n",
    "#=> 1212\n",
    "\n",
    "calc('+1-1+1-1+1-1+1-1+1-1+1-1+1-1+1-1+1-1+1-1+1-1+1-1+1-1+1-1+1-1+1-1')\n",
    "#=> 0\n",
    "```"
   ]
  },
  {
   "cell_type": "code",
   "execution_count": 21,
   "metadata": {},
   "outputs": [],
   "source": [
    "def calc(equation):\n",
    "    tmp = ''\n",
    "    result = 0\n",
    "    for string in equation:\n",
    "        if tmp and not string.isdecimal():\n",
    "            result += int(tmp)\n",
    "            tmp = ''\n",
    "        tmp += string\n",
    "    return result + int(tmp)"
   ]
  },
  {
   "cell_type": "code",
   "execution_count": 130,
   "metadata": {},
   "outputs": [],
   "source": [
    "# 여기에 코드를 작성하세요.\n",
    "def calc(equation):\n",
    "    return eval(equation)\n",
    "\n",
    "def calc(equation):\n",
    "    tmp = '0'\n",
    "    result = 0\n",
    "    count = 1\n",
    "    for i in equation:\n",
    "        if i == '+':\n",
    "            result += int(tmp) * count\n",
    "            count = 1\n",
    "            tmp = ''\n",
    "        elif i == '-':\n",
    "            result += int(tmp) * count\n",
    "            count = -1\n",
    "            tmp = ''\n",
    "        else:\n",
    "            tmp += i\n",
    "    # 마지막 값을 더해준다(count는 부호)\n",
    "    else:\n",
    "        result += int(tmp) * count\n",
    "    return result"
   ]
  },
  {
   "cell_type": "code",
   "execution_count": 17,
   "metadata": {},
   "outputs": [],
   "source": [
    "def calc(equation):\n",
    "    # 결과 통 : 숫자\n",
    "    result = 0\n",
    "    # 임시 통... -> 부호를 만나기 전까지 숫자들을 기록\n",
    "    tmp = ''\n",
    "    for char in equation:\n",
    "        if tmp and not char.isdecimal(): # if not char in '0123456789'\n",
    "            # 부호를 만남\n",
    "            # result 에 숫자를 더해서 만들고,\n",
    "            result += int(tmp)\n",
    "            tmp = ''\n",
    "            # tmp 초기화 -> 부호만\n",
    "#             tmp = char\n",
    "#         else:\n",
    "#             tmp += char\n",
    "        tmp += char\n",
    "    return result + int(tmp)"
   ]
  },
  {
   "cell_type": "code",
   "execution_count": 128,
   "metadata": {},
   "outputs": [
    {
     "data": {
      "text/plain": [
       "15"
      ]
     },
     "execution_count": 128,
     "metadata": {},
     "output_type": "execute_result"
    }
   ],
   "source": [
    "int(15)"
   ]
  },
  {
   "cell_type": "code",
   "execution_count": 129,
   "metadata": {},
   "outputs": [
    {
     "data": {
      "text/plain": [
       "-15"
      ]
     },
     "execution_count": 129,
     "metadata": {},
     "output_type": "execute_result"
    }
   ],
   "source": [
    "int(-15)"
   ]
  },
  {
   "cell_type": "code",
   "execution_count": 22,
   "metadata": {},
   "outputs": [
    {
     "name": "stdout",
     "output_type": "stream",
     "text": [
      "1\n",
      "1212\n",
      "0\n"
     ]
    }
   ],
   "source": [
    "print(calc('123+2-124'))\n",
    "print(calc('-12+12-7979+9191'))\n",
    "print(calc('+1-1+1-1+1-1+1-1+1-1+1-1+1-1+1-1+1-1+1-1+1-1+1-1+1-1+1-1+1-1+1-1'))"
   ]
  }
 ],
 "metadata": {
  "kernelspec": {
   "display_name": "Python 3",
   "language": "python",
   "name": "python3"
  },
  "language_info": {
   "codemirror_mode": {
    "name": "ipython",
    "version": 3
   },
   "file_extension": ".py",
   "mimetype": "text/x-python",
   "name": "python",
   "nbconvert_exporter": "python",
   "pygments_lexer": "ipython3",
   "version": "3.5.3"
  },
  "latex_envs": {
   "LaTeX_envs_menu_present": true,
   "autoclose": false,
   "autocomplete": true,
   "bibliofile": "biblio.bib",
   "cite_by": "apalike",
   "current_citInitial": 1,
   "eqLabelWithNumbers": true,
   "eqNumInitial": 1,
   "hotkeys": {
    "equation": "Ctrl-E",
    "itemize": "Ctrl-I"
   },
   "labels_anchors": false,
   "latex_user_defs": false,
   "report_style_numbering": false,
   "user_envs_cfg": false
  },
  "toc": {
   "base_numbering": 1,
   "nav_menu": {},
   "number_sections": true,
   "sideBar": true,
   "skip_h1_title": false,
   "title_cell": "Table of Contents",
   "title_sidebar": "Contents",
   "toc_cell": false,
   "toc_position": {},
   "toc_section_display": true,
   "toc_window_display": false
  }
 },
 "nbformat": 4,
 "nbformat_minor": 2
}
