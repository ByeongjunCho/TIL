{
 "cells": [
  {
   "cell_type": "code",
   "execution_count": 1,
   "metadata": {},
   "outputs": [
    {
     "name": "stdout",
     "output_type": "stream",
     "text": [
      "\"파일은 C:\"\\Windows\\Users\\내문서\\Python에 저장되어 있습니다.\" 나는 생각했다.'cd를 써서 git bash로 들어가봐야지 '\n",
      "\n"
     ]
    }
   ],
   "source": [
    "print('\"파일은 C:\"\\\\Windows\\\\Users\\\\내문서\\\\Python에 저장되어 있습니다.\" 나는 생각했다.\\'cd를 써서 git bash로 들어가봐야지 \\'')\n",
    "print()\n",
    "# print('/'\"파일은 C:\\Windows\\Users\\내문서\\Python에 저장이 되어있습니다.\"나는 생각했다. 'cd를 써서 git bash로 들어가봐야지')"
   ]
  },
  {
   "cell_type": "code",
   "execution_count": 2,
   "metadata": {},
   "outputs": [
    {
     "data": {
      "text/plain": [
       "True"
      ]
     },
     "execution_count": 2,
     "metadata": {},
     "output_type": "execute_result"
    }
   ],
   "source": [
    "a = 0.1 * 3\n",
    "b = 0.3\n",
    "abs(a - b) < 1e-10 # 기본적인 처리방법\n",
    "import sys\n",
    "abs(a - b) <= sys.float_info.epsilon # sys모듈을 이용\n",
    "# python 3.5부터 사용 가능안 math를 이용하는 방법\n",
    "import math\n",
    "math.isclose(a, b)"
   ]
  }
 ],
 "metadata": {
  "kernelspec": {
   "display_name": "Python 3",
   "language": "python",
   "name": "python3"
  },
  "language_info": {
   "codemirror_mode": {
    "name": "ipython",
    "version": 3
   },
   "file_extension": ".py",
   "mimetype": "text/x-python",
   "name": "python",
   "nbconvert_exporter": "python",
   "pygments_lexer": "ipython3",
   "version": "3.7.3"
  }
 },
 "nbformat": 4,
 "nbformat_minor": 2
}
