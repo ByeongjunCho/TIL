{
 "cells": [
  {
   "cell_type": "code",
   "execution_count": 10,
   "metadata": {},
   "outputs": [],
   "source": [
    "import pandas as pd\n",
    "import numpy as np\n",
    "from sklearn.feature_extraction.text import CountVectorizer\n",
    "from sklearn.metrics.pairwise import cosine_similarity\n",
    "df = pd.read_csv(\"movie_dataset.csv\")"
   ]
  },
  {
   "cell_type": "code",
   "execution_count": 12,
   "metadata": {},
   "outputs": [],
   "source": [
    "# 몇가지 속성을 가져옴\n",
    "features = ['keywords', 'cast', 'genres', 'director']"
   ]
  },
  {
   "cell_type": "code",
   "execution_count": 13,
   "metadata": {},
   "outputs": [],
   "source": [
    "def combine_features(row):\n",
    "    return row['keywords']+\" \" + row['cast']+\" \"+row['genres']+ \" \" #+ row['director']"
   ]
  },
  {
   "cell_type": "code",
   "execution_count": 14,
   "metadata": {},
   "outputs": [],
   "source": [
    "# NaN이 있는 데이터를 빈 string으로 채워줌\n",
    "for feature in features:\n",
    "    df[features] = df[features].fillna('')  # NaN을 ''로 변경하여 채워줌\n",
    "df['combined_features'] = df.apply(combine_features, axis=1) # combine feature df에 추가"
   ]
  },
  {
   "cell_type": "code",
   "execution_count": 15,
   "metadata": {},
   "outputs": [
    {
     "data": {
      "text/html": [
       "<div>\n",
       "<style scoped>\n",
       "    .dataframe tbody tr th:only-of-type {\n",
       "        vertical-align: middle;\n",
       "    }\n",
       "\n",
       "    .dataframe tbody tr th {\n",
       "        vertical-align: top;\n",
       "    }\n",
       "\n",
       "    .dataframe thead th {\n",
       "        text-align: right;\n",
       "    }\n",
       "</style>\n",
       "<table border=\"1\" class=\"dataframe\">\n",
       "  <thead>\n",
       "    <tr style=\"text-align: right;\">\n",
       "      <th></th>\n",
       "      <th>index</th>\n",
       "      <th>budget</th>\n",
       "      <th>genres</th>\n",
       "      <th>homepage</th>\n",
       "      <th>id</th>\n",
       "      <th>keywords</th>\n",
       "      <th>original_language</th>\n",
       "      <th>original_title</th>\n",
       "      <th>overview</th>\n",
       "      <th>popularity</th>\n",
       "      <th>...</th>\n",
       "      <th>spoken_languages</th>\n",
       "      <th>status</th>\n",
       "      <th>tagline</th>\n",
       "      <th>title</th>\n",
       "      <th>vote_average</th>\n",
       "      <th>vote_count</th>\n",
       "      <th>cast</th>\n",
       "      <th>crew</th>\n",
       "      <th>director</th>\n",
       "      <th>combined_features</th>\n",
       "    </tr>\n",
       "  </thead>\n",
       "  <tbody>\n",
       "    <tr>\n",
       "      <td>0</td>\n",
       "      <td>0</td>\n",
       "      <td>237000000</td>\n",
       "      <td>Action Adventure Fantasy Science Fiction</td>\n",
       "      <td>http://www.avatarmovie.com/</td>\n",
       "      <td>19995</td>\n",
       "      <td>culture clash future space war space colony so...</td>\n",
       "      <td>en</td>\n",
       "      <td>Avatar</td>\n",
       "      <td>In the 22nd century, a paraplegic Marine is di...</td>\n",
       "      <td>150.437577</td>\n",
       "      <td>...</td>\n",
       "      <td>[{\"iso_639_1\": \"en\", \"name\": \"English\"}, {\"iso...</td>\n",
       "      <td>Released</td>\n",
       "      <td>Enter the World of Pandora.</td>\n",
       "      <td>Avatar</td>\n",
       "      <td>7.2</td>\n",
       "      <td>11800</td>\n",
       "      <td>Sam Worthington Zoe Saldana Sigourney Weaver S...</td>\n",
       "      <td>[{'name': 'Stephen E. Rivkin', 'gender': 0, 'd...</td>\n",
       "      <td>James Cameron</td>\n",
       "      <td>culture clash future space war space colony so...</td>\n",
       "    </tr>\n",
       "    <tr>\n",
       "      <td>1</td>\n",
       "      <td>1</td>\n",
       "      <td>300000000</td>\n",
       "      <td>Adventure Fantasy Action</td>\n",
       "      <td>http://disney.go.com/disneypictures/pirates/</td>\n",
       "      <td>285</td>\n",
       "      <td>ocean drug abuse exotic island east india trad...</td>\n",
       "      <td>en</td>\n",
       "      <td>Pirates of the Caribbean: At World's End</td>\n",
       "      <td>Captain Barbossa, long believed to be dead, ha...</td>\n",
       "      <td>139.082615</td>\n",
       "      <td>...</td>\n",
       "      <td>[{\"iso_639_1\": \"en\", \"name\": \"English\"}]</td>\n",
       "      <td>Released</td>\n",
       "      <td>At the end of the world, the adventure begins.</td>\n",
       "      <td>Pirates of the Caribbean: At World's End</td>\n",
       "      <td>6.9</td>\n",
       "      <td>4500</td>\n",
       "      <td>Johnny Depp Orlando Bloom Keira Knightley Stel...</td>\n",
       "      <td>[{'name': 'Dariusz Wolski', 'gender': 2, 'depa...</td>\n",
       "      <td>Gore Verbinski</td>\n",
       "      <td>ocean drug abuse exotic island east india trad...</td>\n",
       "    </tr>\n",
       "    <tr>\n",
       "      <td>2</td>\n",
       "      <td>2</td>\n",
       "      <td>245000000</td>\n",
       "      <td>Action Adventure Crime</td>\n",
       "      <td>http://www.sonypictures.com/movies/spectre/</td>\n",
       "      <td>206647</td>\n",
       "      <td>spy based on novel secret agent sequel mi6</td>\n",
       "      <td>en</td>\n",
       "      <td>Spectre</td>\n",
       "      <td>A cryptic message from Bond’s past sends him o...</td>\n",
       "      <td>107.376788</td>\n",
       "      <td>...</td>\n",
       "      <td>[{\"iso_639_1\": \"fr\", \"name\": \"Fran\\u00e7ais\"},...</td>\n",
       "      <td>Released</td>\n",
       "      <td>A Plan No One Escapes</td>\n",
       "      <td>Spectre</td>\n",
       "      <td>6.3</td>\n",
       "      <td>4466</td>\n",
       "      <td>Daniel Craig Christoph Waltz L\\u00e9a Seydoux ...</td>\n",
       "      <td>[{'name': 'Thomas Newman', 'gender': 2, 'depar...</td>\n",
       "      <td>Sam Mendes</td>\n",
       "      <td>spy based on novel secret agent sequel mi6 Dan...</td>\n",
       "    </tr>\n",
       "    <tr>\n",
       "      <td>3</td>\n",
       "      <td>3</td>\n",
       "      <td>250000000</td>\n",
       "      <td>Action Crime Drama Thriller</td>\n",
       "      <td>http://www.thedarkknightrises.com/</td>\n",
       "      <td>49026</td>\n",
       "      <td>dc comics crime fighter terrorist secret ident...</td>\n",
       "      <td>en</td>\n",
       "      <td>The Dark Knight Rises</td>\n",
       "      <td>Following the death of District Attorney Harve...</td>\n",
       "      <td>112.312950</td>\n",
       "      <td>...</td>\n",
       "      <td>[{\"iso_639_1\": \"en\", \"name\": \"English\"}]</td>\n",
       "      <td>Released</td>\n",
       "      <td>The Legend Ends</td>\n",
       "      <td>The Dark Knight Rises</td>\n",
       "      <td>7.6</td>\n",
       "      <td>9106</td>\n",
       "      <td>Christian Bale Michael Caine Gary Oldman Anne ...</td>\n",
       "      <td>[{'name': 'Hans Zimmer', 'gender': 2, 'departm...</td>\n",
       "      <td>Christopher Nolan</td>\n",
       "      <td>dc comics crime fighter terrorist secret ident...</td>\n",
       "    </tr>\n",
       "    <tr>\n",
       "      <td>4</td>\n",
       "      <td>4</td>\n",
       "      <td>260000000</td>\n",
       "      <td>Action Adventure Science Fiction</td>\n",
       "      <td>http://movies.disney.com/john-carter</td>\n",
       "      <td>49529</td>\n",
       "      <td>based on novel mars medallion space travel pri...</td>\n",
       "      <td>en</td>\n",
       "      <td>John Carter</td>\n",
       "      <td>John Carter is a war-weary, former military ca...</td>\n",
       "      <td>43.926995</td>\n",
       "      <td>...</td>\n",
       "      <td>[{\"iso_639_1\": \"en\", \"name\": \"English\"}]</td>\n",
       "      <td>Released</td>\n",
       "      <td>Lost in our world, found in another.</td>\n",
       "      <td>John Carter</td>\n",
       "      <td>6.1</td>\n",
       "      <td>2124</td>\n",
       "      <td>Taylor Kitsch Lynn Collins Samantha Morton Wil...</td>\n",
       "      <td>[{'name': 'Andrew Stanton', 'gender': 2, 'depa...</td>\n",
       "      <td>Andrew Stanton</td>\n",
       "      <td>based on novel mars medallion space travel pri...</td>\n",
       "    </tr>\n",
       "    <tr>\n",
       "      <td>...</td>\n",
       "      <td>...</td>\n",
       "      <td>...</td>\n",
       "      <td>...</td>\n",
       "      <td>...</td>\n",
       "      <td>...</td>\n",
       "      <td>...</td>\n",
       "      <td>...</td>\n",
       "      <td>...</td>\n",
       "      <td>...</td>\n",
       "      <td>...</td>\n",
       "      <td>...</td>\n",
       "      <td>...</td>\n",
       "      <td>...</td>\n",
       "      <td>...</td>\n",
       "      <td>...</td>\n",
       "      <td>...</td>\n",
       "      <td>...</td>\n",
       "      <td>...</td>\n",
       "      <td>...</td>\n",
       "      <td>...</td>\n",
       "      <td>...</td>\n",
       "    </tr>\n",
       "    <tr>\n",
       "      <td>4798</td>\n",
       "      <td>4798</td>\n",
       "      <td>220000</td>\n",
       "      <td>Action Crime Thriller</td>\n",
       "      <td>NaN</td>\n",
       "      <td>9367</td>\n",
       "      <td>united states\\u2013mexico barrier legs arms pa...</td>\n",
       "      <td>es</td>\n",
       "      <td>El Mariachi</td>\n",
       "      <td>El Mariachi just wants to play his guitar and ...</td>\n",
       "      <td>14.269792</td>\n",
       "      <td>...</td>\n",
       "      <td>[{\"iso_639_1\": \"es\", \"name\": \"Espa\\u00f1ol\"}]</td>\n",
       "      <td>Released</td>\n",
       "      <td>He didn't come looking for trouble, but troubl...</td>\n",
       "      <td>El Mariachi</td>\n",
       "      <td>6.6</td>\n",
       "      <td>238</td>\n",
       "      <td>Carlos Gallardo Jaime de Hoyos Peter Marquardt...</td>\n",
       "      <td>[{'name': 'Robert Rodriguez', 'gender': 0, 'de...</td>\n",
       "      <td>Robert Rodriguez</td>\n",
       "      <td>united states\\u2013mexico barrier legs arms pa...</td>\n",
       "    </tr>\n",
       "    <tr>\n",
       "      <td>4799</td>\n",
       "      <td>4799</td>\n",
       "      <td>9000</td>\n",
       "      <td>Comedy Romance</td>\n",
       "      <td>NaN</td>\n",
       "      <td>72766</td>\n",
       "      <td></td>\n",
       "      <td>en</td>\n",
       "      <td>Newlyweds</td>\n",
       "      <td>A newlywed couple's honeymoon is upended by th...</td>\n",
       "      <td>0.642552</td>\n",
       "      <td>...</td>\n",
       "      <td>[]</td>\n",
       "      <td>Released</td>\n",
       "      <td>A newlywed couple's honeymoon is upended by th...</td>\n",
       "      <td>Newlyweds</td>\n",
       "      <td>5.9</td>\n",
       "      <td>5</td>\n",
       "      <td>Edward Burns Kerry Bish\\u00e9 Marsha Dietlein ...</td>\n",
       "      <td>[{'name': 'Edward Burns', 'gender': 2, 'depart...</td>\n",
       "      <td>Edward Burns</td>\n",
       "      <td>Edward Burns Kerry Bish\\u00e9 Marsha Dietlein...</td>\n",
       "    </tr>\n",
       "    <tr>\n",
       "      <td>4800</td>\n",
       "      <td>4800</td>\n",
       "      <td>0</td>\n",
       "      <td>Comedy Drama Romance TV Movie</td>\n",
       "      <td>http://www.hallmarkchannel.com/signedsealeddel...</td>\n",
       "      <td>231617</td>\n",
       "      <td>date love at first sight narration investigati...</td>\n",
       "      <td>en</td>\n",
       "      <td>Signed, Sealed, Delivered</td>\n",
       "      <td>\"Signed, Sealed, Delivered\" introduces a dedic...</td>\n",
       "      <td>1.444476</td>\n",
       "      <td>...</td>\n",
       "      <td>[{\"iso_639_1\": \"en\", \"name\": \"English\"}]</td>\n",
       "      <td>Released</td>\n",
       "      <td>NaN</td>\n",
       "      <td>Signed, Sealed, Delivered</td>\n",
       "      <td>7.0</td>\n",
       "      <td>6</td>\n",
       "      <td>Eric Mabius Kristin Booth Crystal Lowe Geoff G...</td>\n",
       "      <td>[{'name': 'Carla Hetland', 'gender': 0, 'depar...</td>\n",
       "      <td>Scott Smith</td>\n",
       "      <td>date love at first sight narration investigati...</td>\n",
       "    </tr>\n",
       "    <tr>\n",
       "      <td>4801</td>\n",
       "      <td>4801</td>\n",
       "      <td>0</td>\n",
       "      <td></td>\n",
       "      <td>http://shanghaicalling.com/</td>\n",
       "      <td>126186</td>\n",
       "      <td></td>\n",
       "      <td>en</td>\n",
       "      <td>Shanghai Calling</td>\n",
       "      <td>When ambitious New York attorney Sam is sent t...</td>\n",
       "      <td>0.857008</td>\n",
       "      <td>...</td>\n",
       "      <td>[{\"iso_639_1\": \"en\", \"name\": \"English\"}]</td>\n",
       "      <td>Released</td>\n",
       "      <td>A New Yorker in Shanghai</td>\n",
       "      <td>Shanghai Calling</td>\n",
       "      <td>5.7</td>\n",
       "      <td>7</td>\n",
       "      <td>Daniel Henney Eliza Coupe Bill Paxton Alan Ruc...</td>\n",
       "      <td>[{'name': 'Daniel Hsia', 'gender': 2, 'departm...</td>\n",
       "      <td>Daniel Hsia</td>\n",
       "      <td>Daniel Henney Eliza Coupe Bill Paxton Alan Ru...</td>\n",
       "    </tr>\n",
       "    <tr>\n",
       "      <td>4802</td>\n",
       "      <td>4802</td>\n",
       "      <td>0</td>\n",
       "      <td>Documentary</td>\n",
       "      <td>NaN</td>\n",
       "      <td>25975</td>\n",
       "      <td>obsession camcorder crush dream girl</td>\n",
       "      <td>en</td>\n",
       "      <td>My Date with Drew</td>\n",
       "      <td>Ever since the second grade when he first saw ...</td>\n",
       "      <td>1.929883</td>\n",
       "      <td>...</td>\n",
       "      <td>[{\"iso_639_1\": \"en\", \"name\": \"English\"}]</td>\n",
       "      <td>Released</td>\n",
       "      <td>NaN</td>\n",
       "      <td>My Date with Drew</td>\n",
       "      <td>6.3</td>\n",
       "      <td>16</td>\n",
       "      <td>Drew Barrymore Brian Herzlinger Corey Feldman ...</td>\n",
       "      <td>[{'name': 'Clark Peterson', 'gender': 2, 'depa...</td>\n",
       "      <td>Brian Herzlinger</td>\n",
       "      <td>obsession camcorder crush dream girl Drew Barr...</td>\n",
       "    </tr>\n",
       "  </tbody>\n",
       "</table>\n",
       "<p>4803 rows × 25 columns</p>\n",
       "</div>"
      ],
      "text/plain": [
       "      index     budget                                    genres  \\\n",
       "0         0  237000000  Action Adventure Fantasy Science Fiction   \n",
       "1         1  300000000                  Adventure Fantasy Action   \n",
       "2         2  245000000                    Action Adventure Crime   \n",
       "3         3  250000000               Action Crime Drama Thriller   \n",
       "4         4  260000000          Action Adventure Science Fiction   \n",
       "...     ...        ...                                       ...   \n",
       "4798   4798     220000                     Action Crime Thriller   \n",
       "4799   4799       9000                            Comedy Romance   \n",
       "4800   4800          0             Comedy Drama Romance TV Movie   \n",
       "4801   4801          0                                             \n",
       "4802   4802          0                               Documentary   \n",
       "\n",
       "                                               homepage      id  \\\n",
       "0                           http://www.avatarmovie.com/   19995   \n",
       "1          http://disney.go.com/disneypictures/pirates/     285   \n",
       "2           http://www.sonypictures.com/movies/spectre/  206647   \n",
       "3                    http://www.thedarkknightrises.com/   49026   \n",
       "4                  http://movies.disney.com/john-carter   49529   \n",
       "...                                                 ...     ...   \n",
       "4798                                                NaN    9367   \n",
       "4799                                                NaN   72766   \n",
       "4800  http://www.hallmarkchannel.com/signedsealeddel...  231617   \n",
       "4801                        http://shanghaicalling.com/  126186   \n",
       "4802                                                NaN   25975   \n",
       "\n",
       "                                               keywords original_language  \\\n",
       "0     culture clash future space war space colony so...                en   \n",
       "1     ocean drug abuse exotic island east india trad...                en   \n",
       "2            spy based on novel secret agent sequel mi6                en   \n",
       "3     dc comics crime fighter terrorist secret ident...                en   \n",
       "4     based on novel mars medallion space travel pri...                en   \n",
       "...                                                 ...               ...   \n",
       "4798  united states\\u2013mexico barrier legs arms pa...                es   \n",
       "4799                                                                   en   \n",
       "4800  date love at first sight narration investigati...                en   \n",
       "4801                                                                   en   \n",
       "4802               obsession camcorder crush dream girl                en   \n",
       "\n",
       "                                original_title  \\\n",
       "0                                       Avatar   \n",
       "1     Pirates of the Caribbean: At World's End   \n",
       "2                                      Spectre   \n",
       "3                        The Dark Knight Rises   \n",
       "4                                  John Carter   \n",
       "...                                        ...   \n",
       "4798                               El Mariachi   \n",
       "4799                                 Newlyweds   \n",
       "4800                 Signed, Sealed, Delivered   \n",
       "4801                          Shanghai Calling   \n",
       "4802                         My Date with Drew   \n",
       "\n",
       "                                               overview  popularity  ...  \\\n",
       "0     In the 22nd century, a paraplegic Marine is di...  150.437577  ...   \n",
       "1     Captain Barbossa, long believed to be dead, ha...  139.082615  ...   \n",
       "2     A cryptic message from Bond’s past sends him o...  107.376788  ...   \n",
       "3     Following the death of District Attorney Harve...  112.312950  ...   \n",
       "4     John Carter is a war-weary, former military ca...   43.926995  ...   \n",
       "...                                                 ...         ...  ...   \n",
       "4798  El Mariachi just wants to play his guitar and ...   14.269792  ...   \n",
       "4799  A newlywed couple's honeymoon is upended by th...    0.642552  ...   \n",
       "4800  \"Signed, Sealed, Delivered\" introduces a dedic...    1.444476  ...   \n",
       "4801  When ambitious New York attorney Sam is sent t...    0.857008  ...   \n",
       "4802  Ever since the second grade when he first saw ...    1.929883  ...   \n",
       "\n",
       "                                       spoken_languages    status  \\\n",
       "0     [{\"iso_639_1\": \"en\", \"name\": \"English\"}, {\"iso...  Released   \n",
       "1              [{\"iso_639_1\": \"en\", \"name\": \"English\"}]  Released   \n",
       "2     [{\"iso_639_1\": \"fr\", \"name\": \"Fran\\u00e7ais\"},...  Released   \n",
       "3              [{\"iso_639_1\": \"en\", \"name\": \"English\"}]  Released   \n",
       "4              [{\"iso_639_1\": \"en\", \"name\": \"English\"}]  Released   \n",
       "...                                                 ...       ...   \n",
       "4798      [{\"iso_639_1\": \"es\", \"name\": \"Espa\\u00f1ol\"}]  Released   \n",
       "4799                                                 []  Released   \n",
       "4800           [{\"iso_639_1\": \"en\", \"name\": \"English\"}]  Released   \n",
       "4801           [{\"iso_639_1\": \"en\", \"name\": \"English\"}]  Released   \n",
       "4802           [{\"iso_639_1\": \"en\", \"name\": \"English\"}]  Released   \n",
       "\n",
       "                                                tagline  \\\n",
       "0                           Enter the World of Pandora.   \n",
       "1        At the end of the world, the adventure begins.   \n",
       "2                                 A Plan No One Escapes   \n",
       "3                                       The Legend Ends   \n",
       "4                  Lost in our world, found in another.   \n",
       "...                                                 ...   \n",
       "4798  He didn't come looking for trouble, but troubl...   \n",
       "4799  A newlywed couple's honeymoon is upended by th...   \n",
       "4800                                                NaN   \n",
       "4801                           A New Yorker in Shanghai   \n",
       "4802                                                NaN   \n",
       "\n",
       "                                         title  vote_average vote_count  \\\n",
       "0                                       Avatar           7.2      11800   \n",
       "1     Pirates of the Caribbean: At World's End           6.9       4500   \n",
       "2                                      Spectre           6.3       4466   \n",
       "3                        The Dark Knight Rises           7.6       9106   \n",
       "4                                  John Carter           6.1       2124   \n",
       "...                                        ...           ...        ...   \n",
       "4798                               El Mariachi           6.6        238   \n",
       "4799                                 Newlyweds           5.9          5   \n",
       "4800                 Signed, Sealed, Delivered           7.0          6   \n",
       "4801                          Shanghai Calling           5.7          7   \n",
       "4802                         My Date with Drew           6.3         16   \n",
       "\n",
       "                                                   cast  \\\n",
       "0     Sam Worthington Zoe Saldana Sigourney Weaver S...   \n",
       "1     Johnny Depp Orlando Bloom Keira Knightley Stel...   \n",
       "2     Daniel Craig Christoph Waltz L\\u00e9a Seydoux ...   \n",
       "3     Christian Bale Michael Caine Gary Oldman Anne ...   \n",
       "4     Taylor Kitsch Lynn Collins Samantha Morton Wil...   \n",
       "...                                                 ...   \n",
       "4798  Carlos Gallardo Jaime de Hoyos Peter Marquardt...   \n",
       "4799  Edward Burns Kerry Bish\\u00e9 Marsha Dietlein ...   \n",
       "4800  Eric Mabius Kristin Booth Crystal Lowe Geoff G...   \n",
       "4801  Daniel Henney Eliza Coupe Bill Paxton Alan Ruc...   \n",
       "4802  Drew Barrymore Brian Herzlinger Corey Feldman ...   \n",
       "\n",
       "                                                   crew           director  \\\n",
       "0     [{'name': 'Stephen E. Rivkin', 'gender': 0, 'd...      James Cameron   \n",
       "1     [{'name': 'Dariusz Wolski', 'gender': 2, 'depa...     Gore Verbinski   \n",
       "2     [{'name': 'Thomas Newman', 'gender': 2, 'depar...         Sam Mendes   \n",
       "3     [{'name': 'Hans Zimmer', 'gender': 2, 'departm...  Christopher Nolan   \n",
       "4     [{'name': 'Andrew Stanton', 'gender': 2, 'depa...     Andrew Stanton   \n",
       "...                                                 ...                ...   \n",
       "4798  [{'name': 'Robert Rodriguez', 'gender': 0, 'de...   Robert Rodriguez   \n",
       "4799  [{'name': 'Edward Burns', 'gender': 2, 'depart...       Edward Burns   \n",
       "4800  [{'name': 'Carla Hetland', 'gender': 0, 'depar...        Scott Smith   \n",
       "4801  [{'name': 'Daniel Hsia', 'gender': 2, 'departm...        Daniel Hsia   \n",
       "4802  [{'name': 'Clark Peterson', 'gender': 2, 'depa...   Brian Herzlinger   \n",
       "\n",
       "                                      combined_features  \n",
       "0     culture clash future space war space colony so...  \n",
       "1     ocean drug abuse exotic island east india trad...  \n",
       "2     spy based on novel secret agent sequel mi6 Dan...  \n",
       "3     dc comics crime fighter terrorist secret ident...  \n",
       "4     based on novel mars medallion space travel pri...  \n",
       "...                                                 ...  \n",
       "4798  united states\\u2013mexico barrier legs arms pa...  \n",
       "4799   Edward Burns Kerry Bish\\u00e9 Marsha Dietlein...  \n",
       "4800  date love at first sight narration investigati...  \n",
       "4801   Daniel Henney Eliza Coupe Bill Paxton Alan Ru...  \n",
       "4802  obsession camcorder crush dream girl Drew Barr...  \n",
       "\n",
       "[4803 rows x 25 columns]"
      ]
     },
     "execution_count": 15,
     "metadata": {},
     "output_type": "execute_result"
    }
   ],
   "source": [
    "df"
   ]
  },
  {
   "cell_type": "code",
   "execution_count": 16,
   "metadata": {},
   "outputs": [
    {
     "data": {
      "text/plain": [
       "0       culture clash future space war space colony so...\n",
       "1       ocean drug abuse exotic island east india trad...\n",
       "2       spy based on novel secret agent sequel mi6 Dan...\n",
       "3       dc comics crime fighter terrorist secret ident...\n",
       "4       based on novel mars medallion space travel pri...\n",
       "                              ...                        \n",
       "4798    united states\\u2013mexico barrier legs arms pa...\n",
       "4799     Edward Burns Kerry Bish\\u00e9 Marsha Dietlein...\n",
       "4800    date love at first sight narration investigati...\n",
       "4801     Daniel Henney Eliza Coupe Bill Paxton Alan Ru...\n",
       "4802    obsession camcorder crush dream girl Drew Barr...\n",
       "Name: combined_features, Length: 4803, dtype: object"
      ]
     },
     "execution_count": 16,
     "metadata": {},
     "output_type": "execute_result"
    }
   ],
   "source": [
    "df['combined_features']"
   ]
  },
  {
   "cell_type": "code",
   "execution_count": 17,
   "metadata": {},
   "outputs": [],
   "source": [
    "cv = CountVectorizer()  # creating new CountVectorizer() object\n",
    "count_matrix = cv.fit_transform(df['combined_features'])\n",
    "# feeding combined strings(movie contents) to CountVectorizer() object"
   ]
  },
  {
   "cell_type": "markdown",
   "metadata": {},
   "source": [
    "### count_matrix를 이용해 cosine similarity matrix를 만든다."
   ]
  },
  {
   "cell_type": "code",
   "execution_count": 18,
   "metadata": {},
   "outputs": [],
   "source": [
    "cosine_sim = cosine_similarity(count_matrix)"
   ]
  },
  {
   "cell_type": "code",
   "execution_count": 19,
   "metadata": {},
   "outputs": [
    {
     "data": {
      "text/plain": [
       "array([[1.        , 0.11338934, 0.08728716, ..., 0.        , 0.        ,\n",
       "        0.        ],\n",
       "       [0.11338934, 1.        , 0.08247861, ..., 0.03940552, 0.        ,\n",
       "        0.        ],\n",
       "       [0.08728716, 0.08247861, 1.        , ..., 0.        , 0.06900656,\n",
       "        0.        ],\n",
       "       ...,\n",
       "       [0.        , 0.03940552, 0.        , ..., 1.        , 0.        ,\n",
       "        0.0521286 ],\n",
       "       [0.        , 0.        , 0.06900656, ..., 0.        , 1.        ,\n",
       "        0.        ],\n",
       "       [0.        , 0.        , 0.        , ..., 0.0521286 , 0.        ,\n",
       "        1.        ]])"
      ]
     },
     "execution_count": 19,
     "metadata": {},
     "output_type": "execute_result"
    }
   ],
   "source": [
    "cosine_sim"
   ]
  },
  {
   "cell_type": "code",
   "execution_count": 20,
   "metadata": {},
   "outputs": [
    {
     "data": {
      "text/plain": [
       "(4803, 4803)"
      ]
     },
     "execution_count": 20,
     "metadata": {},
     "output_type": "execute_result"
    }
   ],
   "source": [
    "np.shape(cosine_sim)"
   ]
  },
  {
   "cell_type": "code",
   "execution_count": 21,
   "metadata": {},
   "outputs": [],
   "source": [
    "def get_title_from_index(index):\n",
    "    return df[df.index == index]['title'].values[0]\n",
    "def get_index_from_title(title):\n",
    "    return df[df.title == title]['index'].values[0]"
   ]
  },
  {
   "cell_type": "code",
   "execution_count": 30,
   "metadata": {},
   "outputs": [],
   "source": [
    "movie_user_likes = 'The Godfather'\n",
    "movie_index = get_index_from_title(movie_user_likes)"
   ]
  },
  {
   "cell_type": "code",
   "execution_count": 31,
   "metadata": {},
   "outputs": [
    {
     "data": {
      "text/plain": [
       "3337"
      ]
     },
     "execution_count": 31,
     "metadata": {},
     "output_type": "execute_result"
    }
   ],
   "source": [
    "movie_index"
   ]
  },
  {
   "cell_type": "code",
   "execution_count": 32,
   "metadata": {},
   "outputs": [
    {
     "data": {
      "text/plain": [
       "array([0.        , 0.07559289, 0.08728716, ..., 0.20851441, 0.        ,\n",
       "       0.        ])"
      ]
     },
     "execution_count": 32,
     "metadata": {},
     "output_type": "execute_result"
    }
   ],
   "source": [
    "cosine_sim[movie_index]"
   ]
  },
  {
   "cell_type": "code",
   "execution_count": 33,
   "metadata": {},
   "outputs": [
    {
     "name": "stdout",
     "output_type": "stream",
     "text": [
      "[(0, 0.0), (1, 0.07559289460184544), (2, 0.08728715609439697), (3, 0.20412414523193156), (4, 0.0), (5, 0.12510864843424488), (6, 0.0), (7, 0.03779644730092272), (8, 0.044721359549995794), (9, 0.0), (10, 0.04170288281141496), (11, 0.08340576562282992), (12, 0.0), (13, 0.04170288281141496), (14, 0.0), (15, 0.0), (16, 0.037139067635410375), (17, 0.0), (18, 0.0), (19, 0.044721359549995794), (20, 0.12792042981336627), (21, 0.0), (22, 0.048507125007266595), (23, 0.0), (24, 0.03651483716701107), (25, 0.047140452079103175), (26, 0.04082482904638631), (27, 0.0), (28, 0.0), (29, 0.0), (30, 0.12247448713915893), (31, 0.04170288281141496), (32, 0.0), (33, 0.0), (34, 0.0), (35, 0.0), (36, 0.0), (37, 0.047140452079103175), (38, 0.0), (39, 0.0), (40, 0.0), (41, 0.0), (42, 0.0), (43, 0.0), (44, 0.0), (45, 0.08164965809277262), (46, 0.03849001794597506), (47, 0.0), (48, 0.0), (49, 0.04588314677411235), (50, 0.0), (51, 0.0), (52, 0.0), (53, 0.0), (54, 0.0), (55, 0.0), (56, 0.0), (57, 0.0), (58, 0.1), (59, 0.04000000000000001), (60, 0.043643578047198484), (61, 0.0), (62, 0.0), (63, 0.0), (64, 0.04082482904638631), (65, 0.20412414523193156), (66, 0.0), (67, 0.0), (68, 0.04170288281141496), (69, 0.04264014327112209), (70, 0.0), (71, 0.0), (72, 0.08000000000000002), (73, 0.07698003589195011), (74, 0.0), (75, 0.0), (76, 0.043643578047198484), (77, 0.08164965809277262), (78, 0.043643578047198484), (79, 0.03922322702763681), (80, 0.04588314677411235), (81, 0.0), (82, 0.043643578047198484), (83, 0.0), (84, 0.04000000000000001), (85, 0.044721359549995794), (86, 0.0), (87, 0.0), (88, 0.0), (89, 0.0), (90, 0.0), (91, 0.0), (92, 0.0), (93, 0.0), (94, 0.0), (95, 0.08000000000000002), (96, 0.08164965809277262), (97, 0.04082482904638631), (98, 0.044721359549995794), (99, 0.08528028654224418), (100, 0.044721359549995794), (101, 0.044721359549995794), (102, 0.04264014327112209), (103, 0.044721359549995794), (104, 0.2085144140570748), (105, 0.0), (106, 0.04264014327112209), (107, 0.04588314677411235), (108, 0.0), (109, 0.0), (110, 0.0), (111, 0.0), (112, 0.043643578047198484), (113, 0.08340576562282992), (114, 0.04170288281141496), (115, 0.12510864843424488), (116, 0.07071067811865475), (117, 0.04000000000000001), (118, 0.0), (119, 0.20412414523193156), (120, 0.0), (121, 0.0), (122, 0.0), (123, 0.0), (124, 0.0), (125, 0.0), (126, 0.0), (127, 0.0), (128, 0.0), (129, 0.0), (130, 0.0), (131, 0.0), (132, 0.0), (133, 0.04170288281141496), (134, 0.0), (135, 0.08340576562282992), (136, 0.0), (137, 0.0), (138, 0.0), (139, 0.0), (140, 0.08728715609439697), (141, 0.0), (142, 0.0), (143, 0.0), (144, 0.043643578047198484), (145, 0.04000000000000001), (146, 0.0), (147, 0.0), (148, 0.0), (149, 0.0), (150, 0.0), (151, 0.0), (152, 0.0), (153, 0.0), (154, 0.0), (155, 0.044721359549995794), (156, 0.08164965809277262), (157, 0.04588314677411235), (158, 0.0), (159, 0.1341640786499874), (160, 0.03922322702763681), (161, 0.0), (162, 0.051639777949432225), (163, 0.0), (164, 0.08944271909999159), (165, 0.044721359549995794), (166, 0.0), (167, 0.0917662935482247), (168, 0.0), (169, 0.0), (170, 0.04588314677411235), (171, 0.047140452079103175), (172, 0.08528028654224418), (173, 0.0), (174, 0.0), (175, 0.0), (176, 0.08340576562282992), (177, 0.0), (178, 0.0), (179, 0.0), (180, 0.043643578047198484), (181, 0.0), (182, 0.0), (183, 0.0), (184, 0.0), (185, 0.0), (186, 0.08164965809277262), (187, 0.0), (188, 0.0), (189, 0.05), (190, 0.0), (191, 0.0), (192, 0.047140452079103175), (193, 0.0), (194, 0.0), (195, 0.0), (196, 0.0), (197, 0.043643578047198484), (198, 0.08728715609439697), (199, 0.0), (200, 0.0), (201, 0.0), (202, 0.0), (203, 0.0), (204, 0.08944271909999159), (205, 0.1341640786499874), (206, 0.0), (207, 0.0), (208, 0.0), (209, 0.0), (210, 0.16000000000000003), (211, 0.043643578047198484), (212, 0.0), (213, 0.04588314677411235), (214, 0.047140452079103175), (215, 0.0), (216, 0.047140452079103175), (217, 0.0), (218, 0.0), (219, 0.044721359549995794), (220, 0.0), (221, 0.0), (222, 0.044721359549995794), (223, 0.04082482904638631), (224, 0.0), (225, 0.08164965809277262), (226, 0.09428090415820635), (227, 0.0), (228, 0.0), (229, 0.0), (230, 0.0), (231, 0.04588314677411235), (232, 0.0), (233, 0.0), (234, 0.04082482904638631), (235, 0.0), (236, 0.04000000000000001), (237, 0.044721359549995794), (238, 0.0), (239, 0.07559289460184544), (240, 0.0), (241, 0.0), (242, 0.0), (243, 0.0), (244, 0.04588314677411235), (245, 0.0), (246, 0.12247448713915893), (247, 0.08340576562282992), (248, 0.04170288281141496), (249, 0.04264014327112209), (250, 0.05), (251, 0.047140452079103175), (252, 0.0917662935482247), (253, 0.0), (254, 0.0), (255, 0.0), (256, 0.04264014327112209), (257, 0.08728715609439697), (258, 0.0), (259, 0.0), (260, 0.0), (261, 0.0), (262, 0.0), (263, 0.04170288281141496), (264, 0.048507125007266595), (265, 0.043643578047198484), (266, 0.04170288281141496), (267, 0.08340576562282992), (268, 0.0), (269, 0.0), (270, 0.04264014327112209), (271, 0.08340576562282992), (272, 0.0), (273, 0.07844645405527362), (274, 0.0917662935482247), (275, 0.0), (276, 0.04264014327112209), (277, 0.047140452079103175), (278, 0.0), (279, 0.043643578047198484), (280, 0.12247448713915893), (281, 0.12792042981336627), (282, 0.0), (283, 0.10444659357341872), (284, 0.08528028654224418), (285, 0.08340576562282992), (286, 0.21821789023599242), (287, 0.047140452079103175), (288, 0.044721359549995794), (289, 0.0), (290, 0.0), (291, 0.0), (292, 0.03922322702763681), (293, 0.04082482904638631), (294, 0.0), (295, 0.0), (296, 0.0), (297, 0.1341640786499874), (298, 0.14142135623730953), (299, 0.08728715609439697), (300, 0.0), (301, 0.043643578047198484), (302, 0.0), (303, 0.0917662935482247), (304, 0.0), (305, 0.11338934190276817), (306, 0.0), (307, 0.0), (308, 0.07844645405527362), (309, 0.0), (310, 0.044721359549995794), (311, 0.0), (312, 0.08528028654224418), (313, 0.0), (314, 0.13764944032233706), (315, 0.0), (316, 0.13093073414159545), (317, 0.04588314677411235), (318, 0.04588314677411235), (319, 0.0), (320, 0.04264014327112209), (321, 0.0), (322, 0.0), (323, 0.053452248382484885), (324, 0.04588314677411235), (325, 0.0), (326, 0.12792042981336627), (327, 0.048507125007266595), (328, 0.04264014327112209), (329, 0.0), (330, 0.0), (331, 0.0), (332, 0.0), (333, 0.04000000000000001), (334, 0.0), (335, 0.08528028654224418), (336, 0.0), (337, 0.0), (338, 0.0), (339, 0.0), (340, 0.0), (341, 0.0), (342, 0.0), (343, 0.0), (344, 0.0), (345, 0.1), (346, 0.08528028654224418), (347, 0.10327955589886445), (348, 0.0), (349, 0.04588314677411235), (350, 0.08728715609439697), (351, 0.14142135623730953), (352, 0.0), (353, 0.043643578047198484), (354, 0.12792042981336627), (355, 0.0), (356, 0.12792042981336627), (357, 0.05547001962252292), (358, 0.04000000000000001), (359, 0.0), (360, 0.044721359549995794), (361, 0.0), (362, 0.043643578047198484), (363, 0.12510864843424488), (364, 0.0), (365, 0.08164965809277262), (366, 0.0), (367, 0.1341640786499874), (368, 0.0), (369, 0.0), (370, 0.08528028654224418), (371, 0.0), (372, 0.14142135623730953), (373, 0.0), (374, 0.0), (375, 0.0), (376, 0.04264014327112209), (377, 0.1341640786499874), (378, 0.043643578047198484), (379, 0.04264014327112209), (380, 0.03922322702763681), (381, 0.0), (382, 0.04588314677411235), (383, 0.043643578047198484), (384, 0.044721359549995794), (385, 0.0), (386, 0.044721359549995794), (387, 0.0), (388, 0.08728715609439697), (389, 0.0), (390, 0.04588314677411235), (391, 0.044721359549995794), (392, 0.0), (393, 0.034299717028501764), (394, 0.0), (395, 0.0), (396, 0.04588314677411235), (397, 0.0), (398, 0.1885618083164127), (399, 0.0), (400, 0.04170288281141496), (401, 0.0), (402, 0.0), (403, 0.0), (404, 0.04082482904638631), (405, 0.10141851056742199), (406, 0.08728715609439697), (407, 0.18569533817705186), (408, 0.047140452079103175), (409, 0.04082482904638631), (410, 0.04082482904638631), (411, 0.03922322702763681), (412, 0.04082482904638631), (413, 0.04264014327112209), (414, 0.08728715609439697), (415, 0.0917662935482247), (416, 0.04264014327112209), (417, 0.0), (418, 0.05), (419, 0.08340576562282992), (420, 0.0), (421, 0.17457431218879393), (422, 0.0), (423, 0.0), (424, 0.0), (425, 0.0), (426, 0.0), (427, 0.0), (428, 0.08528028654224418), (429, 0.0), (430, 0.0), (431, 0.0), (432, 0.1341640786499874), (433, 0.08728715609439697), (434, 0.048507125007266595), (435, 0.0), (436, 0.06030226891555273), (437, 0.0), (438, 0.047140452079103175), (439, 0.043643578047198484), (440, 0.13093073414159545), (441, 0.0), (442, 0.08000000000000002), (443, 0.0), (444, 0.11141720290623112), (445, 0.0), (446, 0.08728715609439697), (447, 0.0), (448, 0.30151134457776363), (449, 0.0), (450, 0.0), (451, 0.0), (452, 0.037139067635410375), (453, 0.08728715609439697), (454, 0.044721359549995794), (455, 0.044721359549995794), (456, 0.03779644730092272), (457, 0.0), (458, 0.0), (459, 0.043643578047198484), (460, 0.044721359549995794), (461, 0.0), (462, 0.04588314677411235), (463, 0.09701425001453319), (464, 0.047140452079103175), (465, 0.04588314677411235), (466, 0.0), (467, 0.0), (468, 0.08944271909999159), (469, 0.04170288281141496), (470, 0.043643578047198484), (471, 0.04082482904638631), (472, 0.0), (473, 0.0), (474, 0.04588314677411235), (475, 0.047140452079103175), (476, 0.05), (477, 0.044721359549995794), (478, 0.0), (479, 0.0), (480, 0.0), (481, 0.0), (482, 0.04170288281141496), (483, 0.0), (484, 0.048507125007266595), (485, 0.12792042981336627), (486, 0.0), (487, 0.0), (488, 0.0), (489, 0.0), (490, 0.0), (491, 0.04000000000000001), (492, 0.0), (493, 0.1341640786499874), (494, 0.16681153124565984), (495, 0.0), (496, 0.1), (497, 0.09428090415820635), (498, 0.0), (499, 0.11547005383792518), (500, 0.07844645405527362), (501, 0.044721359549995794), (502, 0.0), (503, 0.03481553119113957), (504, 0.0), (505, 0.0), (506, 0.08340576562282992), (507, 0.0), (508, 0.043643578047198484), (509, 0.0), (510, 0.043643578047198484), (511, 0.0), (512, 0.28), (513, 0.0), (514, 0.0), (515, 0.0), (516, 0.044721359549995794), (517, 0.04588314677411235), (518, 0.0), (519, 0.09701425001453319), (520, 0.0), (521, 0.044721359549995794), (522, 0.0), (523, 0.0), (524, 0.044721359549995794), (525, 0.11766968108291043), (526, 0.04588314677411235), (527, 0.08000000000000002), (528, 0.043643578047198484), (529, 0.05), (530, 0.0), (531, 0.0), (532, 0.0), (533, 0.0), (534, 0.09701425001453319), (535, 0.12247448713915893), (536, 0.07698003589195011), (537, 0.047140452079103175), (538, 0.12792042981336627), (539, 0.0), (540, 0.0), (541, 0.0), (542, 0.04264014327112209), (543, 0.0), (544, 0.043643578047198484), (545, 0.07844645405527362), (546, 0.0), (547, 0.0), (548, 0.13093073414159545), (549, 0.0), (550, 0.0), (551, 0.0), (552, 0.044721359549995794), (553, 0.047140452079103175), (554, 0.0), (555, 0.0), (556, 0.08528028654224418), (557, 0.04264014327112209), (558, 0.04264014327112209), (559, 0.044721359549995794), (560, 0.047140452079103175), (561, 0.10444659357341872), (562, 0.044721359549995794), (563, 0.047140452079103175), (564, 0.044721359549995794), (565, 0.0), (566, 0.0), (567, 0.044721359549995794), (568, 0.0), (569, 0.0), (570, 0.08728715609439697), (571, 0.044721359549995794), (572, 0.0), (573, 0.0), (574, 0.12792042981336627), (575, 0.04264014327112209), (576, 0.03922322702763681), (577, 0.0), (578, 0.0), (579, 0.0), (580, 0.0), (581, 0.0), (582, 0.0), (583, 0.08728715609439697), (584, 0.051639777949432225), (585, 0.043643578047198484), (586, 0.034299717028501764), (587, 0.0), (588, 0.16641005886756877), (589, 0.043643578047198484), (590, 0.1341640786499874), (591, 0.08340576562282992), (592, 0.04588314677411235), (593, 0.09701425001453319), (594, 0.0), (595, 0.0), (596, 0.04264014327112209), (597, 0.043643578047198484), (598, 0.08728715609439697), (599, 0.06761234037828133), (600, 0.051639777949432225), (601, 0.0), (602, 0.0917662935482247), (603, 0.0), (604, 0.0), (605, 0.0), (606, 0.1341640786499874), (607, 0.0), (608, 0.08340576562282992), (609, 0.0), (610, 0.044721359549995794), (611, 0.08728715609439697), (612, 0.0917662935482247), (613, 0.21821789023599242), (614, 0.04588314677411235), (615, 0.10444659357341872), (616, 0.0), (617, 0.0917662935482247), (618, 0.0), (619, 0.0), (620, 0.1455213750217998), (621, 0.07844645405527362), (622, 0.04170288281141496), (623, 0.0), (624, 0.0), (625, 0.04264014327112209), (626, 0.0), (627, 0.0), (628, 0.02948839123097943), (629, 0.11141720290623112), (630, 0.0), (631, 0.08164965809277262), (632, 0.047140452079103175), (633, 0.08728715609439697), (634, 0.0), (635, 0.047140452079103175), (636, 0.0), (637, 0.04588314677411235), (638, 0.0), (639, 0.044721359549995794), (640, 0.0), (641, 0.09428090415820635), (642, 0.07071067811865475), (643, 0.08728715609439697), (644, 0.0), (645, 0.044721359549995794), (646, 0.0), (647, 0.044721359549995794), (648, 0.043643578047198484), (649, 0.0), (650, 0.08528028654224418), (651, 0.047140452079103175), (652, 0.17457431218879393), (653, 0.043643578047198484), (654, 0.0), (655, 0.0), (656, 0.04264014327112209), (657, 0.0), (658, 0.03651483716701107), (659, 0.08944271909999159), (660, 0.08528028654224418), (661, 0.0), (662, 0.043643578047198484), (663, 0.04588314677411235), (664, 0.08944271909999159), (665, 0.08164965809277262), (666, 0.0), (667, 0.12247448713915893), (668, 0.0), (669, 0.09428090415820635), (670, 0.08340576562282992), (671, 0.044721359549995794), (672, 0.17888543819998318), (673, 0.07844645405527362), (674, 0.0), (675, 0.044721359549995794), (676, 0.043643578047198484), (677, 0.04588314677411235), (678, 0.05547001962252292), (679, 0.13093073414159545), (680, 0.04082482904638631), (681, 0.08000000000000002), (682, 0.0), (683, 0.07302967433402215), (684, 0.12792042981336627), (685, 0.04264014327112209), (686, 0.04264014327112209), (687, 0.0), (688, 0.04264014327112209), (689, 0.0), (690, 0.16329931618554525), (691, 0.0), (692, 0.0), (693, 0.04082482904638631), (694, 0.04170288281141496), (695, 0.0), (696, 0.17457431218879393), (697, 0.044721359549995794), (698, 0.044721359549995794), (699, 0.0), (700, 0.08164965809277262), (701, 0.0), (702, 0.09428090415820635), (703, 0.04264014327112209), (704, 0.0), (705, 0.0), (706, 0.0917662935482247), (707, 0.047140452079103175), (708, 0.0), (709, 0.1455213750217998), (710, 0.04170288281141496), (711, 0.08164965809277262), (712, 0.16681153124565984), (713, 0.12792042981336627), (714, 0.12792042981336627), (715, 0.0), (716, 0.1), (717, 0.17888543819998318), (718, 0.0), (719, 0.0), (720, 0.04264014327112209), (721, 0.0917662935482247), (722, 0.0), (723, 0.0), (724, 0.13764944032233706), (725, 0.07302967433402215), (726, 0.09428090415820635), (727, 0.0), (728, 0.0), (729, 0.14142135623730953), (730, 0.0), (731, 0.1455213750217998), (732, 0.0), (733, 0.09701425001453319), (734, 0.0), (735, 0.04264014327112209), (736, 0.0), (737, 0.04588314677411235), (738, 0.08340576562282992), (739, 0.08944271909999159), (740, 0.0), (741, 0.16681153124565984), (742, 0.03849001794597506), (743, 0.0917662935482247), (744, 0.03922322702763681), (745, 0.0), (746, 0.0), (747, 0.1455213750217998), (748, 0.0), (749, 0.043643578047198484), (750, 0.0), (751, 0.09701425001453319), (752, 0.08000000000000002), (753, 0.1), (754, 0.0), (755, 0.0), (756, 0.13764944032233706), (757, 0.047140452079103175), (758, 0.17457431218879393), (759, 0.08164965809277262), (760, 0.1455213750217998), (761, 0.2618614682831909), (762, 0.21821789023599242), (763, 0.09428090415820635), (764, 0.04588314677411235), (765, 0.044721359549995794), (766, 0.04264014327112209), (767, 0.12792042981336627), (768, 0.0), (769, 0.0), (770, 0.044721359549995794), (771, 0.04588314677411235), (772, 0.048507125007266595), (773, 0.09428090415820635), (774, 0.15491933384829668), (775, 0.08728715609439697), (776, 0.047140452079103175), (777, 0.08728715609439697), (778, 0.08164965809277262), (779, 0.044721359549995794), (780, 0.0), (781, 0.0), (782, 0.08000000000000002), (783, 0.0), (784, 0.16329931618554525), (785, 0.12510864843424488), (786, 0.0), (787, 0.07184212081070997), (788, 0.0), (789, 0.08728715609439697), (790, 0.0), (791, 0.0), (792, 0.0), (793, 0.0), (794, 0.04264014327112209), (795, 0.08728715609439697), (796, 0.0), (797, 0.0), (798, 0.07559289460184544), (799, 0.0), (800, 0.03849001794597506), (801, 0.13093073414159545), (802, 0.0), (803, 0.0), (804, 0.13764944032233706), (805, 0.0), (806, 0.04264014327112209), (807, 0.04170288281141496), (808, 0.044721359549995794), (809, 0.04264014327112209), (810, 0.0), (811, 0.047140452079103175), (812, 0.08528028654224418), (813, 0.16000000000000003), (814, 0.04264014327112209), (815, 0.08728715609439697), (816, 0.04264014327112209), (817, 0.0), (818, 0.047140452079103175), (819, 0.0), (820, 0.0), (821, 0.08944271909999159), (822, 0.044721359549995794), (823, 0.043643578047198484), (824, 0.08728715609439697), (825, 0.17888543819998318), (826, 0.1341640786499874), (827, 0.044721359549995794), (828, 0.0917662935482247), (829, 0.0), (830, 0.07698003589195011), (831, 0.04588314677411235), (832, 0.0), (833, 0.0), (834, 0.04588314677411235), (835, 0.0), (836, 0.0), (837, 0.0), (838, 0.0), (839, 0.044721359549995794), (840, 0.12792042981336627), (841, 0.0), (842, 0.0), (843, 0.05), (844, 0.12792042981336627), (845, 0.04588314677411235), (846, 0.0), (847, 0.0), (848, 0.0), (849, 0.14142135623730953), (850, 0.04170288281141496), (851, 0.08164965809277262), (852, 0.047140452079103175), (853, 0.047140452079103175), (854, 0.0), (855, 0.10954451150103323), (856, 0.0917662935482247), (857, 0.0), (858, 0.09701425001453319), (859, 0.0), (860, 0.04588314677411235), (861, 0.13093073414159545), (862, 0.17457431218879393), (863, 0.0), (864, 0.0), (865, 0.04588314677411235), (866, 0.10690449676496977), (867, 0.2618614682831909), (868, 0.08340576562282992), (869, 0.09428090415820635), (870, 0.0), (871, 0.08944271909999159), (872, 0.0917662935482247), (873, 0.08164965809277262), (874, 0.0), (875, 0.08528028654224418), (876, 0.13093073414159545), (877, 0.2618614682831909), (878, 0.03779644730092272), (879, 0.1341640786499874), (880, 0.0), (881, 0.05547001962252292), (882, 0.1835325870964494), (883, 0.12792042981336627), (884, 0.047140452079103175), (885, 0.0), (886, 0.0), (887, 0.0), (888, 0.0), (889, 0.04000000000000001), (890, 0.0), (891, 0.09701425001453319), (892, 0.22360679774997896), (893, 0.13764944032233706), (894, 0.0), (895, 0.09701425001453319), (896, 0.044721359549995794), (897, 0.0), (898, 0.08944271909999159), (899, 0.0), (900, 0.0), (901, 0.0), (902, 0.044721359549995794), (903, 0.04170288281141496), (904, 0.0), (905, 0.048507125007266595), (906, 0.0), (907, 0.043643578047198484), (908, 0.0), (909, 0.04264014327112209), (910, 0.0), (911, 0.08340576562282992), (912, 0.0), (913, 0.0), (914, 0.0), (915, 0.044721359549995794), (916, 0.0), (917, 0.04588314677411235), (918, 0.1341640786499874), (919, 0.13764944032233706), (920, 0.04170288281141496), (921, 0.05), (922, 0.08000000000000002), (923, 0.0), (924, 0.043643578047198484), (925, 0.04170288281141496), (926, 0.047140452079103175), (927, 0.0), (928, 0.04588314677411235), (929, 0.043643578047198484), (930, 0.0), (931, 0.0), (932, 0.0), (933, 0.0), (934, 0.0), (935, 0.0), (936, 0.0), (937, 0.0), (938, 0.09428090415820635), (939, 0.0), (940, 0.04588314677411235), (941, 0.08164965809277262), (942, 0.08340576562282992), (943, 0.0), (944, 0.13764944032233706), (945, 0.04588314677411235), (946, 0.11338934190276817), (947, 0.043643578047198484), (948, 0.048507125007266595), (949, 0.0), (950, 0.1341640786499874), (951, 0.044721359549995794), (952, 0.0917662935482247), (953, 0.08728715609439697), (954, 0.22941573387056174), (955, 0.0), (956, 0.0), (957, 0.0), (958, 0.14142135623730953), (959, 0.0), (960, 0.0), (961, 0.043643578047198484), (962, 0.16000000000000003), (963, 0.08728715609439697), (964, 0.05), (965, 0.1835325870964494), (966, 0.0), (967, 0.053452248382484885), (968, 0.14142135623730953), (969, 0.0917662935482247), (970, 0.14142135623730953), (971, 0.13093073414159545), (972, 0.0), (973, 0.11547005383792516), (974, 0.13093073414159545), (975, 0.15000000000000002), (976, 0.0), (977, 0.03779644730092272), (978, 0.12792042981336627), (979, 0.04264014327112209), (980, 0.13764944032233706), (981, 0.0), (982, 0.12792042981336627), (983, 0.11547005383792516), (984, 0.13093073414159545), (985, 0.044721359549995794), (986, 0.05), (987, 0.043643578047198484), (988, 0.13093073414159545), (989, 0.0), (990, 0.23094010767585033), (991, 0.047140452079103175), (992, 0.09428090415820635), (993, 0.04588314677411235), (994, 0.0), (995, 0.044721359549995794), (996, 0.13093073414159545), (997, 0.0), (998, 0.0917662935482247), (999, 0.04000000000000001), (1000, 0.08340576562282992), (1001, 0.0), (1002, 0.05), (1003, 0.07559289460184544), (1004, 0.043643578047198484), (1005, 0.10606601717798213), (1006, 0.0), (1007, 0.03849001794597506), (1008, 0.08164965809277262), (1009, 0.13764944032233706), (1010, 0.14142135623730953), (1011, 0.0), (1012, 0.0), (1013, 0.08728715609439697), (1014, 0.0), (1015, 0.047140452079103175), (1016, 0.08000000000000002), (1017, 0.11338934190276817), (1018, 0.17457431218879393), (1019, 0.08164965809277262), (1020, 0.0), (1021, 0.0917662935482247), (1022, 0.04264014327112209), (1023, 0.12247448713915893), (1024, 0.23533936216582085), (1025, 0.13093073414159545), (1026, 0.043643578047198484), (1027, 0.04264014327112209), (1028, 0.15396007178390023), (1029, 0.0), (1030, 0.043643578047198484), (1031, 0.12247448713915893), (1032, 0.0), (1033, 0.1885618083164127), (1034, 0.0), (1035, 0.04264014327112209), (1036, 0.04082482904638631), (1037, 0.0), (1038, 0.1341640786499874), (1039, 0.10690449676496977), (1040, 0.0), (1041, 0.08728715609439697), (1042, 0.0), (1043, 0.09428090415820635), (1044, 0.0), (1045, 0.08728715609439697), (1046, 0.17457431218879393), (1047, 0.10444659357341872), (1048, 0.08164965809277262), (1049, 0.17888543819998318), (1050, 0.04170288281141496), (1051, 0.13764944032233706), (1052, 0.11547005383792516), (1053, 0.0), (1054, 0.09701425001453319), (1055, 0.0), (1056, 0.0), (1057, 0.08944271909999159), (1058, 0.08944271909999159), (1059, 0.0), (1060, 0.0), (1061, 0.1924500897298753), (1062, 0.0), (1063, 0.08340576562282992), (1064, 0.05), (1065, 0.03922322702763681), (1066, 0.047140452079103175), (1067, 0.12000000000000002), (1068, 0.0), (1069, 0.053452248382484885), (1070, 0.0), (1071, 0.0), (1072, 0.05547001962252292), (1073, 0.08340576562282992), (1074, 0.043643578047198484), (1075, 0.11338934190276817), (1076, 0.08944271909999159), (1077, 0.0), (1078, 0.0), (1079, 0.0), (1080, 0.04170288281141496), (1081, 0.047140452079103175), (1082, 0.11547005383792516), (1083, 0.0), (1084, 0.16000000000000003), (1085, 0.0), (1086, 0.03922322702763681), (1087, 0.13764944032233706), (1088, 0.0), (1089, 0.044721359549995794), (1090, 0.08944271909999159), (1091, 0.044721359549995794), (1092, 0.0), (1093, 0.0), (1094, 0.04264014327112209), (1095, 0.043643578047198484), (1096, 0.0917662935482247), (1097, 0.0), (1098, 0.08944271909999159), (1099, 0.0), (1100, 0.08340576562282992), (1101, 0.0), (1102, 0.044721359549995794), (1103, 0.08528028654224418), (1104, 0.0), (1105, 0.16681153124565984), (1106, 0.08000000000000002), (1107, 0.0917662935482247), (1108, 0.048507125007266595), (1109, 0.04588314677411235), (1110, 0.0), (1111, 0.07844645405527362), (1112, 0.04170288281141496), (1113, 0.047140452079103175), (1114, 0.09701425001453319), (1115, 0.0), (1116, 0.043643578047198484), (1117, 0.04170288281141496), (1118, 0.0917662935482247), (1119, 0.08164965809277262), (1120, 0.08728715609439697), (1121, 0.0), (1122, 0.0), (1123, 0.043643578047198484), (1124, 0.08944271909999159), (1125, 0.08944271909999159), (1126, 0.04082482904638631), (1127, 0.17457431218879393), (1128, 0.044721359549995794), (1129, 0.08728715609439697), (1130, 0.047140452079103175), (1131, 0.08528028654224418), (1132, 0.0), (1133, 0.13093073414159545), (1134, 0.0), (1135, 0.14142135623730953), (1136, 0.12247448713915893), (1137, 0.08528028654224418), (1138, 0.043643578047198484), (1139, 0.0), (1140, 0.0917662935482247), (1141, 0.047140452079103175), (1142, 0.0), (1143, 0.04588314677411235), (1144, 0.0), (1145, 0.15118578920369088), (1146, 0.16000000000000003), (1147, 0.0), (1148, 0.047140452079103175), (1149, 0.14142135623730953), (1150, 0.04170288281141496), (1151, 0.12000000000000002), (1152, 0.04082482904638631), (1153, 0.0), (1154, 0.044721359549995794), (1155, 0.0), (1156, 0.1341640786499874), (1157, 0.0), (1158, 0.04170288281141496), (1159, 0.0), (1160, 0.0), (1161, 0.047140452079103175), (1162, 0.04588314677411235), (1163, 0.0), (1164, 0.0), (1165, 0.0), (1166, 0.0), (1167, 0.048507125007266595), (1168, 0.048507125007266595), (1169, 0.051639777949432225), (1170, 0.17888543819998318), (1171, 0.0), (1172, 0.04588314677411235), (1173, 0.051639777949432225), (1174, 0.0), (1175, 0.07698003589195011), (1176, 0.12510864843424488), (1177, 0.06761234037828133), (1178, 0.1341640786499874), (1179, 0.0), (1180, 0.0), (1181, 0.04170288281141496), (1182, 0.08728715609439697), (1183, 0.15491933384829668), (1184, 0.0), (1185, 0.0), (1186, 0.0), (1187, 0.04588314677411235), (1188, 0.03922322702763681), (1189, 0.0), (1190, 0.08944271909999159), (1191, 0.0), (1192, 0.0), (1193, 0.1796053020267749), (1194, 0.14142135623730953), (1195, 0.0), (1196, 0.044721359549995794), (1197, 0.0), (1198, 0.0), (1199, 0.12510864843424488), (1200, 0.03922322702763681), (1201, 0.0), (1202, 0.17888543819998318), (1203, 0.0), (1204, 0.04588314677411235), (1205, 0.04588314677411235), (1206, 0.047140452079103175), (1207, 0.08164965809277262), (1208, 0.1), (1209, 0.1341640786499874), (1210, 0.04264014327112209), (1211, 0.04588314677411235), (1212, 0.0), (1213, 0.0), (1214, 0.0), (1215, 0.19611613513818404), (1216, 0.0), (1217, 0.0), (1218, 0.0), (1219, 0.0), (1220, 0.20000000000000004), (1221, 0.04588314677411235), (1222, 0.0), (1223, 0.04264014327112209), (1224, 0.0), (1225, 0.20000000000000004), (1226, 0.08164965809277262), (1227, 0.04588314677411235), (1228, 0.0), (1229, 0.0), (1230, 0.0), (1231, 0.12792042981336627), (1232, 0.04264014327112209), (1233, 0.13093073414159545), (1234, 0.12510864843424488), (1235, 0.047140452079103175), (1236, 0.12510864843424488), (1237, 0.0), (1238, 0.0917662935482247), (1239, 0.12510864843424488), (1240, 0.04264014327112209), (1241, 0.053452248382484885), (1242, 0.0), (1243, 0.25584085962673253), (1244, 0.044721359549995794), (1245, 0.17056057308448835), (1246, 0.051639777949432225), (1247, 0.24253562503633297), (1248, 0.051639777949432225), (1249, 0.0), (1250, 0.1341640786499874), (1251, 0.08728715609439697), (1252, 0.043643578047198484), (1253, 0.15491933384829668), (1254, 0.13093073414159545), (1255, 0.04588314677411235), (1256, 0.0), (1257, 0.0), (1258, 0.05547001962252292), (1259, 0.0), (1260, 0.04588314677411235), (1261, 0.0), (1262, 0.0), (1263, 0.047140452079103175), (1264, 0.051639777949432225), (1265, 0.0), (1266, 0.0), (1267, 0.0), (1268, 0.0), (1269, 0.11094003924504584), (1270, 0.0), (1271, 0.0), (1272, 0.0), (1273, 0.051639777949432225), (1274, 0.03922322702763681), (1275, 0.0), (1276, 0.051639777949432225), (1277, 0.047140452079103175), (1278, 0.15491933384829668), (1279, 0.0), (1280, 0.048507125007266595), (1281, 0.12000000000000002), (1282, 0.1341640786499874), (1283, 0.04588314677411235), (1284, 0.043643578047198484), (1285, 0.0), (1286, 0.08340576562282992), (1287, 0.0), (1288, 0.0), (1289, 0.0), (1290, 0.0), (1291, 0.044721359549995794), (1292, 0.04264014327112209), (1293, 0.0), (1294, 0.0), (1295, 0.053452248382484885), (1296, 0.11338934190276817), (1297, 0.08528028654224418), (1298, 0.04082482904638631), (1299, 0.0), (1300, 0.0), (1301, 0.0), (1302, 0.0), (1303, 0.0), (1304, 0.03779644730092272), (1305, 0.1), (1306, 0.0), (1307, 0.04264014327112209), (1308, 0.04000000000000001), (1309, 0.1455213750217998), (1310, 0.044721359549995794), (1311, 0.048507125007266595), (1312, 0.0), (1313, 0.0), (1314, 0.04588314677411235), (1315, 0.04000000000000001), (1316, 0.048507125007266595), (1317, 0.08528028654224418), (1318, 0.043643578047198484), (1319, 0.0), (1320, 0.08944271909999159), (1321, 0.04588314677411235), (1322, 0.0), (1323, 0.04264014327112209), (1324, 0.0), (1325, 0.047140452079103175), (1326, 0.0), (1327, 0.044721359549995794), (1328, 0.13093073414159545), (1329, 0.08728715609439697), (1330, 0.04588314677411235), (1331, 0.0), (1332, 0.04082482904638631), (1333, 0.04264014327112209), (1334, 0.08164965809277262), (1335, 0.0), (1336, 0.047140452079103175), (1337, 0.1341640786499874), (1338, 0.24494897427831788), (1339, 0.08164965809277262), (1340, 0.08944271909999159), (1341, 0.0), (1342, 0.048507125007266595), (1343, 0.0), (1344, 0.0), (1345, 0.05), (1346, 0.0), (1347, 0.13764944032233706), (1348, 0.0917662935482247), (1349, 0.09428090415820635), (1350, 0.048507125007266595), (1351, 0.04588314677411235), (1352, 0.0), (1353, 0.048507125007266595), (1354, 0.0), (1355, 0.0), (1356, 0.0), (1357, 0.053452248382484885), (1358, 0.12792042981336627), (1359, 0.08340576562282992), (1360, 0.044721359549995794), (1361, 0.07844645405527362), (1362, 0.047140452079103175), (1363, 0.07184212081070997), (1364, 0.19611613513818404), (1365, 0.20412414523193156), (1366, 0.08728715609439697), (1367, 0.04170288281141496), (1368, 0.1264911064067352), (1369, 0.13093073414159545), (1370, 0.13764944032233706), (1371, 0.0), (1372, 0.0), (1373, 0.04170288281141496), (1374, 0.1835325870964494), (1375, 0.0), (1376, 0.0), (1377, 0.0), (1378, 0.0), (1379, 0.0), (1380, 0.048507125007266595), (1381, 0.048507125007266595), (1382, 0.07844645405527362), (1383, 0.051639777949432225), (1384, 0.0), (1385, 0.0), (1386, 0.048507125007266595), (1387, 0.08728715609439697), (1388, 0.0), (1389, 0.0), (1390, 0.0), (1391, 0.04588314677411235), (1392, 0.0), (1393, 0.0), (1394, 0.2752988806446741), (1395, 0.0), (1396, 0.0), (1397, 0.14142135623730953), (1398, 0.0), (1399, 0.0), (1400, 0.0), (1401, 0.043643578047198484), (1402, 0.0), (1403, 0.0), (1404, 0.03481553119113957), (1405, 0.12510864843424488), (1406, 0.04264014327112209), (1407, 0.0), (1408, 0.3265986323710905), (1409, 0.14142135623730953), (1410, 0.0), (1411, 0.04588314677411235), (1412, 0.0), (1413, 0.048507125007266595), (1414, 0.0), (1415, 0.0), (1416, 0.09701425001453319), (1417, 0.1), (1418, 0.14142135623730953), (1419, 0.1341640786499874), (1420, 0.0), (1421, 0.09428090415820635), (1422, 0.04170288281141496), (1423, 0.0), (1424, 0.044721359549995794), (1425, 0.0), (1426, 0.0), (1427, 0.04588314677411235), (1428, 0.0), (1429, 0.1341640786499874), (1430, 0.0), (1431, 0.07844645405527362), (1432, 0.12510864843424488), (1433, 0.04588314677411235), (1434, 0.09701425001453319), (1435, 0.08728715609439697), (1436, 0.0), (1437, 0.0), (1438, 0.0), (1439, 0.07844645405527362), (1440, 0.044721359549995794), (1441, 0.0), (1442, 0.04588314677411235), (1443, 0.0917662935482247), (1444, 0.08340576562282992), (1445, 0.08728715609439697), (1446, 0.08164965809277262), (1447, 0.0), (1448, 0.1455213750217998), (1449, 0.043643578047198484), (1450, 0.08528028654224418), (1451, 0.0), (1452, 0.07844645405527362), (1453, 0.0), (1454, 0.03922322702763681), (1455, 0.09428090415820635), (1456, 0.1341640786499874), (1457, 0.17888543819998318), (1458, 0.0917662935482247), (1459, 0.04170288281141496), (1460, 0.08728715609439697), (1461, 0.04264014327112209), (1462, 0.08944271909999159), (1463, 0.08000000000000002), (1464, 0.17320508075688776), (1465, 0.0), (1466, 0.051639777949432225), (1467, 0.044721359549995794), (1468, 0.12247448713915893), (1469, 0.0), (1470, 0.13764944032233706), (1471, 0.048507125007266595), (1472, 0.043643578047198484), (1473, 0.08164965809277262), (1474, 0.051639777949432225), (1475, 0.044721359549995794), (1476, 0.04588314677411235), (1477, 0.05), (1478, 0.08728715609439697), (1479, 0.1), (1480, 0.06859943405700353), (1481, 0.0), (1482, 0.0), (1483, 0.04000000000000001), (1484, 0.08728715609439697), (1485, 0.08944271909999159), (1486, 0.1341640786499874), (1487, 0.048507125007266595), (1488, 0.2), (1489, 0.047140452079103175), (1490, 0.03849001794597506), (1491, 0.0), (1492, 0.04588314677411235), (1493, 0.0), (1494, 0.08528028654224418), (1495, 0.12792042981336627), (1496, 0.044721359549995794), (1497, 0.04082482904638631), (1498, 0.0), (1499, 0.0), (1500, 0.048507125007266595), (1501, 0.0), (1502, 0.10327955589886445), (1503, 0.15491933384829668), (1504, 0.048507125007266595), (1505, 0.1341640786499874), (1506, 0.0), (1507, 0.043643578047198484), (1508, 0.043643578047198484), (1509, 0.048507125007266595), (1510, 0.0), (1511, 0.04170288281141496), (1512, 0.13093073414159545), (1513, 0.08164965809277262), (1514, 0.0), (1515, 0.04170288281141496), (1516, 0.04588314677411235), (1517, 0.08528028654224418), (1518, 0.08000000000000002), (1519, 0.0), (1520, 0.05), (1521, 0.0), (1522, 0.053452248382484885), (1523, 0.20412414523193156), (1524, 0.05), (1525, 0.24253562503633297), (1526, 0.044721359549995794), (1527, 0.0917662935482247), (1528, 0.0), (1529, 0.09428090415820635), (1530, 0.04588314677411235), (1531, 0.03849001794597506), (1532, 0.048507125007266595), (1533, 0.08728715609439697), (1534, 0.0), (1535, 0.13093073414159545), (1536, 0.0), (1537, 0.08944271909999159), (1538, 0.1485562705416415), (1539, 0.04264014327112209), (1540, 0.04000000000000001), (1541, 0.0), (1542, 0.08728715609439697), (1543, 0.08528028654224418), (1544, 0.06030226891555273), (1545, 0.043643578047198484), (1546, 0.043643578047198484), (1547, 0.047140452079103175), (1548, 0.0), (1549, 0.0), (1550, 0.0917662935482247), (1551, 0.04082482904638631), (1552, 0.0), (1553, 0.08944271909999159), (1554, 0.0), (1555, 0.0), (1556, 0.18569533817705186), (1557, 0.044721359549995794), (1558, 0.13764944032233706), (1559, 0.17888543819998318), (1560, 0.08528028654224418), (1561, 0.03922322702763681), (1562, 0.0), (1563, 0.043643578047198484), (1564, 0.03481553119113957), (1565, 0.04588314677411235), (1566, 0.04264014327112209), (1567, 0.0), (1568, 0.0), (1569, 0.0), (1570, 0.043643578047198484), (1571, 0.04588314677411235), (1572, 0.047140452079103175), (1573, 0.08164965809277262), (1574, 0.0), (1575, 0.043643578047198484), (1576, 0.0), (1577, 0.04588314677411235), (1578, 0.0), (1579, 0.0), (1580, 0.0), (1581, 0.11141720290623112), (1582, 0.08728715609439697), (1583, 0.12000000000000002), (1584, 0.044721359549995794), (1585, 0.10327955589886445), (1586, 0.0), (1587, 0.0), (1588, 0.04264014327112209), (1589, 0.0917662935482247), (1590, 0.18257418583505536), (1591, 0.08000000000000002), (1592, 0.09428090415820635), (1593, 0.0), (1594, 0.0), (1595, 0.048507125007266595), (1596, 0.13093073414159545), (1597, 0.05547001962252292), (1598, 0.0), (1599, 0.09428090415820635), (1600, 0.1455213750217998), (1601, 0.051639777949432225), (1602, 0.0), (1603, 0.08528028654224418), (1604, 0.0), (1605, 0.0), (1606, 0.0), (1607, 0.11766968108291043), (1608, 0.04170288281141496), (1609, 0.0), (1610, 0.0), (1611, 0.043643578047198484), (1612, 0.13093073414159545), (1613, 0.04264014327112209), (1614, 0.0), (1615, 0.13764944032233706), (1616, 0.0), (1617, 0.0), (1618, 0.13093073414159545), (1619, 0.047140452079103175), (1620, 0.0), (1621, 0.0), (1622, 0.08944271909999159), (1623, 0.1455213750217998), (1624, 0.08944271909999159), (1625, 0.08340576562282992), (1626, 0.11547005383792516), (1627, 0.0917662935482247), (1628, 0.051639777949432225), (1629, 0.053452248382484885), (1630, 0.0), (1631, 0.053452248382484885), (1632, 0.13764944032233706), (1633, 0.0), (1634, 0.0), (1635, 0.13093073414159545), (1636, 0.043643578047198484), (1637, 0.0), (1638, 0.08528028654224418), (1639, 0.17457431218879393), (1640, 0.05), (1641, 0.10690449676496977), (1642, 0.0), (1643, 0.0), (1644, 0.14142135623730953), (1645, 0.0), (1646, 0.0), (1647, 0.12792042981336627), (1648, 0.0), (1649, 0.048507125007266595), (1650, 0.0), (1651, 0.12510864843424488), (1652, 0.0), (1653, 0.0917662935482247), (1654, 0.16681153124565984), (1655, 0.0), (1656, 0.0), (1657, 0.17056057308448835), (1658, 0.0), (1659, 0.04588314677411235), (1660, 0.12510864843424488), (1661, 0.17888543819998318), (1662, 0.0), (1663, 0.21821789023599242), (1664, 0.20412414523193156), (1665, 0.1455213750217998), (1666, 0.12792042981336627), (1667, 0.051639777949432225), (1668, 0.13093073414159545), (1669, 0.044721359549995794), (1670, 0.0), (1671, 0.04170288281141496), (1672, 0.04170288281141496), (1673, 0.0), (1674, 0.14142135623730953), (1675, 0.15000000000000002), (1676, 0.0), (1677, 0.043643578047198484), (1678, 0.05773502691896259), (1679, 0.053452248382484885), (1680, 0.0), (1681, 0.09428090415820635), (1682, 0.0), (1683, 0.0), (1684, 0.07844645405527362), (1685, 0.05), (1686, 0.04082482904638631), (1687, 0.08728715609439697), (1688, 0.13764944032233706), (1689, 0.043643578047198484), (1690, 0.0), (1691, 0.047140452079103175), (1692, 0.05547001962252292), (1693, 0.047140452079103175), (1694, 0.043643578047198484), (1695, 0.044721359549995794), (1696, 0.03651483716701107), (1697, 0.0), (1698, 0.0), (1699, 0.08728715609439697), (1700, 0.05), (1701, 0.0), (1702, 0.0), (1703, 0.0), (1704, 0.047140452079103175), (1705, 0.04264014327112209), (1706, 0.04264014327112209), (1707, 0.0), (1708, 0.11141720290623112), (1709, 0.0), (1710, 0.043643578047198484), (1711, 0.0), (1712, 0.044721359549995794), (1713, 0.0), (1714, 0.047140452079103175), (1715, 0.07427813527082075), (1716, 0.0), (1717, 0.043643578047198484), (1718, 0.0), (1719, 0.23533936216582085), (1720, 0.15689290811054724), (1721, 0.0), (1722, 0.0), (1723, 0.0), (1724, 0.08944271909999159), (1725, 0.08164965809277262), (1726, 0.0), (1727, 0.13764944032233706), (1728, 0.2683281572999748), (1729, 0.0), (1730, 0.0), (1731, 0.03922322702763681), (1732, 0.051639777949432225), (1733, 0.0), (1734, 0.04588314677411235), (1735, 0.03849001794597506), (1736, 0.043643578047198484), (1737, 0.043643578047198484), (1738, 0.0917662935482247), (1739, 0.051639777949432225), (1740, 0.15396007178390023), (1741, 0.0), (1742, 0.1835325870964494), (1743, 0.0), (1744, 0.04264014327112209), (1745, 0.03779644730092272), (1746, 0.1), (1747, 0.09428090415820635), (1748, 0.04588314677411235), (1749, 0.12510864843424488), (1750, 0.04264014327112209), (1751, 0.08728715609439697), (1752, 0.12247448713915893), (1753, 0.12792042981336627), (1754, 0.04082482904638631), (1755, 0.0), (1756, 0.04170288281141496), (1757, 0.0), (1758, 0.13093073414159545), (1759, 0.044721359549995794), (1760, 0.04588314677411235), (1761, 0.04264014327112209), (1762, 0.047140452079103175), (1763, 0.044721359549995794), (1764, 0.05), (1765, 0.22360679774997896), (1766, 0.0), (1767, 0.10327955589886445), (1768, 0.08944271909999159), (1769, 0.0), (1770, 0.047140452079103175), (1771, 0.1455213750217998), (1772, 0.1), (1773, 0.12510864843424488), (1774, 0.08528028654224418), (1775, 0.05773502691896259), (1776, 0.04588314677411235), (1777, 0.048507125007266595), (1778, 0.0), (1779, 0.051639777949432225), (1780, 0.08000000000000002), (1781, 0.11547005383792516), (1782, 0.13093073414159545), (1783, 0.048507125007266595), (1784, 0.043643578047198484), (1785, 0.1), (1786, 0.04170288281141496), (1787, 0.12792042981336627), (1788, 0.0), (1789, 0.0), (1790, 0.0), (1791, 0.0), (1792, 0.17457431218879393), (1793, 0.047140452079103175), (1794, 0.0), (1795, 0.12247448713915893), (1796, 0.09045340337332909), (1797, 0.0), (1798, 0.044721359549995794), (1799, 0.044721359549995794), (1800, 0.08728715609439697), (1801, 0.0), (1802, 0.0), (1803, 0.1885618083164127), (1804, 0.0), (1805, 0.0917662935482247), (1806, 0.08728715609439697), (1807, 0.04588314677411235), (1808, 0.0), (1809, 0.04588314677411235), (1810, 0.047140452079103175), (1811, 0.043643578047198484), (1812, 0.1835325870964494), (1813, 0.048507125007266595), (1814, 0.04082482904638631), (1815, 0.0), (1816, 0.10327955589886445), (1817, 0.03849001794597506), (1818, 0.04170288281141496), (1819, 0.044721359549995794), (1820, 0.04588314677411235), (1821, 0.0), (1822, 0.0), (1823, 0.05), (1824, 0.051639777949432225), (1825, 0.0), (1826, 0.0), (1827, 0.08528028654224418), (1828, 0.19611613513818404), (1829, 0.12510864843424488), (1830, 0.0), (1831, 0.04264014327112209), (1832, 0.044721359549995794), (1833, 0.09428090415820635), (1834, 0.0), (1835, 0.08528028654224418), (1836, 0.04170288281141496), (1837, 0.08728715609439697), (1838, 0.0), (1839, 0.044721359549995794), (1840, 0.04170288281141496), (1841, 0.08944271909999159), (1842, 0.043643578047198484), (1843, 0.051639777949432225), (1844, 0.047140452079103175), (1845, 0.13093073414159545), (1846, 0.0), (1847, 0.17457431218879393), (1848, 0.0), (1849, 0.08728715609439697), (1850, 0.2683281572999748), (1851, 0.044721359549995794), (1852, 0.044721359549995794), (1853, 0.13764944032233706), (1854, 0.07844645405527362), (1855, 0.04082482904638631), (1856, 0.0), (1857, 0.0), (1858, 0.0), (1859, 0.08728715609439697), (1860, 0.09701425001453319), (1861, 0.0), (1862, 0.0), (1863, 0.053452248382484885), (1864, 0.04170288281141496), (1865, 0.044721359549995794), (1866, 0.04588314677411235), (1867, 0.044721359549995794), (1868, 0.14142135623730953), (1869, 0.048507125007266595), (1870, 0.04082482904638631), (1871, 0.0), (1872, 0.0), (1873, 0.16641005886756877), (1874, 0.2919201796799047), (1875, 0.09428090415820635), (1876, 0.0), (1877, 0.03849001794597506), (1878, 0.03779644730092272), (1879, 0.0), (1880, 0.0), (1881, 0.13093073414159545), (1882, 0.0), (1883, 0.0), (1884, 0.13764944032233706), (1885, 0.043643578047198484), (1886, 0.043643578047198484), (1887, 0.0), (1888, 0.04170288281141496), (1889, 0.08528028654224418), (1890, 0.17888543819998318), (1891, 0.13764944032233706), (1892, 0.07844645405527362), (1893, 0.0), (1894, 0.08944271909999159), (1895, 0.04264014327112209), (1896, 0.0), (1897, 0.09428090415820635), (1898, 0.053452248382484885), (1899, 0.05), (1900, 0.12792042981336627), (1901, 0.05547001962252292), (1902, 0.08944271909999159), (1903, 0.04588314677411235), (1904, 0.0), (1905, 0.044721359549995794), (1906, 0.04264014327112209), (1907, 0.0), (1908, 0.047140452079103175), (1909, 0.0917662935482247), (1910, 0.047140452079103175), (1911, 0.0), (1912, 0.0917662935482247), (1913, 0.05547001962252292), (1914, 0.0), (1915, 0.17457431218879393), (1916, 0.047140452079103175), (1917, 0.08528028654224418), (1918, 0.04588314677411235), (1919, 0.05773502691896259), (1920, 0.04588314677411235), (1921, 0.03922322702763681), (1922, 0.043643578047198484), (1923, 0.04000000000000001), (1924, 0.047140452079103175), (1925, 0.047140452079103175), (1926, 0.0), (1927, 0.04588314677411235), (1928, 0.08728715609439697), (1929, 0.09428090415820635), (1930, 0.0917662935482247), (1931, 0.14142135623730953), (1932, 0.03922322702763681), (1933, 0.0), (1934, 0.05773502691896259), (1935, 0.04588314677411235), (1936, 0.0), (1937, 0.10690449676496977), (1938, 0.04000000000000001), (1939, 0.0), (1940, 0.043643578047198484), (1941, 0.047140452079103175), (1942, 0.0), (1943, 0.05), (1944, 0.04264014327112209), (1945, 0.12792042981336627), (1946, 0.25021729686848976), (1947, 0.0), (1948, 0.04082482904638631), (1949, 0.053452248382484885), (1950, 0.0), (1951, 0.0), (1952, 0.12247448713915893), (1953, 0.04588314677411235), (1954, 0.048507125007266595), (1955, 0.0917662935482247), (1956, 0.044721359549995794), (1957, 0.048507125007266595), (1958, 0.04588314677411235), (1959, 0.04170288281141496), (1960, 0.17457431218879393), (1961, 0.0), (1962, 0.05547001962252292), (1963, 0.0), (1964, 0.08728715609439697), (1965, 0.04082482904638631), (1966, 0.0), (1967, 0.15689290811054724), (1968, 0.044721359549995794), (1969, 0.17457431218879393), (1970, 0.12000000000000002), (1971, 0.08164965809277262), (1972, 0.043643578047198484), (1973, 0.04588314677411235), (1974, 0.08728715609439697), (1975, 0.0), (1976, 0.0), (1977, 0.0), (1978, 0.10327955589886445), (1979, 0.05547001962252292), (1980, 0.0), (1981, 0.0), (1982, 0.05), (1983, 0.05547001962252292), (1984, 0.0), (1985, 0.12247448713915893), (1986, 0.15491933384829668), (1987, 0.0), (1988, 0.0), (1989, 0.0), (1990, 0.0), (1991, 0.08728715609439697), (1992, 0.14142135623730953), (1993, 0.0), (1994, 0.044721359549995794), (1995, 0.0), (1996, 0.0), (1997, 0.08944271909999159), (1998, 0.04588314677411235), (1999, 0.0), (2000, 0.053452248382484885), (2001, 0.05547001962252292), (2002, 0.0), (2003, 0.0), (2004, 0.08000000000000002), (2005, 0.05547001962252292), (2006, 0.1), (2007, 0.0), (2008, 0.20412414523193156), (2009, 0.048507125007266595), (2010, 0.053452248382484885), (2011, 0.05547001962252292), (2012, 0.08944271909999159), (2013, 0.04170288281141496), (2014, 0.0), (2015, 0.0), (2016, 0.03922322702763681), (2017, 0.04000000000000001), (2018, 0.0), (2019, 0.04082482904638631), (2020, 0.08728715609439697), (2021, 0.0), (2022, 0.21320071635561044), (2023, 0.0), (2024, 0.044721359549995794), (2025, 0.044721359549995794), (2026, 0.12247448713915893), (2027, 0.08944271909999159), (2028, 0.053452248382484885), (2029, 0.08728715609439697), (2030, 0.044721359549995794), (2031, 0.14142135623730953), (2032, 0.08944271909999159), (2033, 0.0), (2034, 0.0), (2035, 0.0), (2036, 0.07844645405527362), (2037, 0.048507125007266595), (2038, 0.13093073414159545), (2039, 0.03779644730092272), (2040, 0.12000000000000002), (2041, 0.04588314677411235), (2042, 0.0), (2043, 0.04000000000000001), (2044, 0.043643578047198484), (2045, 0.0), (2046, 0.12247448713915893), (2047, 0.0), (2048, 0.048507125007266595), (2049, 0.047140452079103175), (2050, 0.08944271909999159), (2051, 0.043643578047198484), (2052, 0.08000000000000002), (2053, 0.04170288281141496), (2054, 0.0), (2055, 0.09701425001453319), (2056, 0.0), (2057, 0.0), (2058, 0.09701425001453319), (2059, 0.053452248382484885), (2060, 0.11547005383792516), (2061, 0.17457431218879393), (2062, 0.08528028654224418), (2063, 0.09428090415820635), (2064, 0.0), (2065, 0.0), (2066, 0.0), (2067, 0.0), (2068, 0.07071067811865475), (2069, 0.0), (2070, 0.0), (2071, 0.08728715609439697), (2072, 0.13764944032233706), (2073, 0.0917662935482247), (2074, 0.08728715609439697), (2075, 0.047140452079103175), (2076, 0.0), (2077, 0.08164965809277262), (2078, 0.047140452079103175), (2079, 0.05773502691896259), (2080, 0.04588314677411235), (2081, 0.05773502691896259), (2082, 0.053452248382484885), (2083, 0.0), (2084, 0.0), (2085, 0.0), (2086, 0.08000000000000002), (2087, 0.08944271909999159), (2088, 0.04588314677411235), (2089, 0.12792042981336627), (2090, 0.0), (2091, 0.12510864843424488), (2092, 0.0), (2093, 0.0), (2094, 0.0), (2095, 0.0), (2096, 0.0), (2097, 0.0), (2098, 0.0), (2099, 0.0), (2100, 0.0), (2101, 0.08340576562282992), (2102, 0.13093073414159545), (2103, 0.04082482904638631), (2104, 0.08340576562282992), (2105, 0.047140452079103175), (2106, 0.037139067635410375), (2107, 0.0), (2108, 0.2085144140570748), (2109, 0.044721359549995794), (2110, 0.16641005886756877), (2111, 0.08340576562282992), (2112, 0.0), (2113, 0.0), (2114, 0.0), (2115, 0.04264014327112209), (2116, 0.0), (2117, 0.04264014327112209), (2118, 0.11766968108291043), (2119, 0.0), (2120, 0.0), (2121, 0.04264014327112209), (2122, 0.0), (2123, 0.04588314677411235), (2124, 0.13093073414159545), (2125, 0.0), (2126, 0.043643578047198484), (2127, 0.0), (2128, 0.04588314677411235), (2129, 0.04170288281141496), (2130, 0.1341640786499874), (2131, 0.09428090415820635), (2132, 0.0), (2133, 0.13093073414159545), (2134, 0.12510864843424488), (2135, 0.04588314677411235), (2136, 0.08528028654224418), (2137, 0.0), (2138, 0.03779644730092272), (2139, 0.0), (2140, 0.048507125007266595), (2141, 0.09428090415820635), (2142, 0.0), (2143, 0.0), (2144, 0.0), (2145, 0.1341640786499874), (2146, 0.05), (2147, 0.044721359549995794), (2148, 0.03849001794597506), (2149, 0.07844645405527362), (2150, 0.047140452079103175), (2151, 0.17888543819998318), (2152, 0.044721359549995794), (2153, 0.0), (2154, 0.1455213750217998), (2155, 0.043643578047198484), (2156, 0.08340576562282992), (2157, 0.0), (2158, 0.0), (2159, 0.0), (2160, 0.0), (2161, 0.047140452079103175), (2162, 0.044721359549995794), (2163, 0.0), (2164, 0.048507125007266595), (2165, 0.05773502691896259), (2166, 0.044721359549995794), (2167, 0.08944271909999159), (2168, 0.1455213750217998), (2169, 0.08000000000000002), (2170, 0.047140452079103175), (2171, 0.0), (2172, 0.1), (2173, 0.04082482904638631), (2174, 0.06030226891555273), (2175, 0.04588314677411235), (2176, 0.05), (2177, 0.044721359549995794), (2178, 0.04082482904638631), (2179, 0.043643578047198484), (2180, 0.0), (2181, 0.08164965809277262), (2182, 0.0), (2183, 0.07844645405527362), (2184, 0.08164965809277262), (2185, 0.04264014327112209), (2186, 0.04264014327112209), (2187, 0.20412414523193156), (2188, 0.051639777949432225), (2189, 0.048507125007266595), (2190, 0.03922322702763681), (2191, 0.0), (2192, 0.047140452079103175), (2193, 0.15000000000000002), (2194, 0.0), (2195, 0.13093073414159545), (2196, 0.11766968108291043), (2197, 0.0), (2198, 0.043643578047198484), (2199, 0.0), (2200, 0.08528028654224418), (2201, 0.0), (2202, 0.048507125007266595), (2203, 0.04082482904638631), (2204, 0.04264014327112209), (2205, 0.051639777949432225), (2206, 0.0), (2207, 0.08164965809277262), (2208, 0.08000000000000002), (2209, 0.0), (2210, 0.043643578047198484), (2211, 0.044721359549995794), (2212, 0.0), (2213, 0.044721359549995794), (2214, 0.0), (2215, 0.09701425001453319), (2216, 0.1885618083164127), (2217, 0.0), (2218, 0.2085144140570748), (2219, 0.09428090415820635), (2220, 0.0), (2221, 0.08340576562282992), (2222, 0.10327955589886445), (2223, 0.0), (2224, 0.08340576562282992), (2225, 0.12000000000000002), (2226, 0.0), (2227, 0.05), (2228, 0.048507125007266595), (2229, 0.08528028654224418), (2230, 0.0), (2231, 0.0), (2232, 0.044721359549995794), (2233, 0.043643578047198484), (2234, 0.044721359549995794), (2235, 0.04264014327112209), (2236, 0.04264014327112209), (2237, 0.0), (2238, 0.08164965809277262), (2239, 0.12792042981336627), (2240, 0.13764944032233706), (2241, 0.04588314677411235), (2242, 0.05773502691896259), (2243, 0.04170288281141496), (2244, 0.0), (2245, 0.048507125007266595), (2246, 0.04588314677411235), (2247, 0.0), (2248, 0.051639777949432225), (2249, 0.0), (2250, 0.1341640786499874), (2251, 0.048507125007266595), (2252, 0.06030226891555273), (2253, 0.0), (2254, 0.048507125007266595), (2255, 0.23570226039551587), (2256, 0.0), (2257, 0.048507125007266595), (2258, 0.0), (2259, 0.053452248382484885), (2260, 0.16329931618554525), (2261, 0.044721359549995794), (2262, 0.04170288281141496), (2263, 0.0), (2264, 0.0), (2265, 0.12510864843424488), (2266, 0.048507125007266595), (2267, 0.05), (2268, 0.048507125007266595), (2269, 0.13764944032233706), (2270, 0.0), (2271, 0.05), (2272, 0.0), (2273, 0.10690449676496977), (2274, 0.047140452079103175), (2275, 0.08944271909999159), (2276, 0.04588314677411235), (2277, 0.14142135623730953), (2278, 0.11766968108291043), (2279, 0.0), (2280, 0.22941573387056174), (2281, 0.0), (2282, 0.0917662935482247), (2283, 0.0), (2284, 0.048507125007266595), (2285, 0.0), (2286, 0.0), (2287, 0.051639777949432225), (2288, 0.04588314677411235), (2289, 0.04588314677411235), (2290, 0.0), (2291, 0.14142135623730953), (2292, 0.06030226891555273), (2293, 0.0), (2294, 0.0), (2295, 0.08728715609439697), (2296, 0.04170288281141496), (2297, 0.047140452079103175), (2298, 0.047140452079103175), (2299, 0.0), (2300, 0.05), (2301, 0.044721359549995794), (2302, 0.051639777949432225), (2303, 0.0), (2304, 0.12510864843424488), (2305, 0.047140452079103175), (2306, 0.08340576562282992), (2307, 0.13764944032233706), (2308, 0.04588314677411235), (2309, 0.0), (2310, 0.04170288281141496), (2311, 0.0), (2312, 0.0), (2313, 0.08944271909999159), (2314, 0.08340576562282992), (2315, 0.0), (2316, 0.0), (2317, 0.051639777949432225), (2318, 0.1341640786499874), (2319, 0.0), (2320, 0.0), (2321, 0.05), (2322, 0.051639777949432225), (2323, 0.13093073414159545), (2324, 0.08944271909999159), (2325, 0.0), (2326, 0.048507125007266595), (2327, 0.0), (2328, 0.09428090415820635), (2329, 0.13093073414159545), (2330, 0.04264014327112209), (2331, 0.047140452079103175), (2332, 0.048507125007266595), (2333, 0.04588314677411235), (2334, 0.043643578047198484), (2335, 0.04170288281141496), (2336, 0.12000000000000002), (2337, 0.0), (2338, 0.043643578047198484), (2339, 0.0), (2340, 0.044721359549995794), (2341, 0.08528028654224418), (2342, 0.17888543819998318), (2343, 0.0), (2344, 0.09428090415820635), (2345, 0.048507125007266595), (2346, 0.12000000000000002), (2347, 0.05), (2348, 0.08528028654224418), (2349, 0.12510864843424488), (2350, 0.04588314677411235), (2351, 0.0), (2352, 0.0), (2353, 0.0917662935482247), (2354, 0.08340576562282992), (2355, 0.0), (2356, 0.08944271909999159), (2357, 0.0), (2358, 0.047140452079103175), (2359, 0.04264014327112209), (2360, 0.11547005383792518), (2361, 0.044721359549995794), (2362, 0.043643578047198484), (2363, 0.0), (2364, 0.05547001962252292), (2365, 0.04170288281141496), (2366, 0.0), (2367, 0.10690449676496977), (2368, 0.043643578047198484), (2369, 0.051639777949432225), (2370, 0.0), (2371, 0.15689290811054724), (2372, 0.0), (2373, 0.23570226039551587), (2374, 0.047140452079103175), (2375, 0.08728715609439697), (2376, 0.0), (2377, 0.04170288281141496), (2378, 0.1341640786499874), (2379, 0.0), (2380, 0.08000000000000002), (2381, 0.03922322702763681), (2382, 0.051639777949432225), (2383, 0.0917662935482247), (2384, 0.12000000000000002), (2385, 0.05), (2386, 0.04588314677411235), (2387, 0.0), (2388, 0.12510864843424488), (2389, 0.0), (2390, 0.0), (2391, 0.051639777949432225), (2392, 0.0), (2393, 0.15491933384829668), (2394, 0.0), (2395, 0.08944271909999159), (2396, 0.0), (2397, 0.043643578047198484), (2398, 0.17457431218879393), (2399, 0.03651483716701107), (2400, 0.0), (2401, 0.11547005383792518), (2402, 0.08528028654224418), (2403, 0.04264014327112209), (2404, 0.043643578047198484), (2405, 0.04264014327112209), (2406, 0.047140452079103175), (2407, 0.043643578047198484), (2408, 0.0), (2409, 0.0), (2410, 0.0), (2411, 0.0), (2412, 0.08944271909999159), (2413, 0.08728715609439697), (2414, 0.0), (2415, 0.0), (2416, 0.08164965809277262), (2417, 0.0), (2418, 0.0), (2419, 0.047140452079103175), (2420, 0.0), (2421, 0.06666666666666667), (2422, 0.0), (2423, 0.04588314677411235), (2424, 0.12247448713915893), (2425, 0.0), (2426, 0.0), (2427, 0.0), (2428, 0.17056057308448835), (2429, 0.05), (2430, 0.0), (2431, 0.043643578047198484), (2432, 0.04588314677411235), (2433, 0.0), (2434, 0.13764944032233706), (2435, 0.12247448713915893), (2436, 0.05773502691896259), (2437, 0.0632455532033676), (2438, 0.08944271909999159), (2439, 0.0), (2440, 0.12510864843424488), (2441, 0.0), (2442, 0.03779644730092272), (2443, 0.0), (2444, 0.0), (2445, 0.0), (2446, 0.08000000000000002), (2447, 0.0917662935482247), (2448, 0.1341640786499874), (2449, 0.043643578047198484), (2450, 0.17888543819998318), (2451, 0.0), (2452, 0.048507125007266595), (2453, 0.09701425001453319), (2454, 0.0), (2455, 0.08528028654224418), (2456, 0.1), (2457, 0.0), (2458, 0.08528028654224418), (2459, 0.08000000000000002), (2460, 0.0), (2461, 0.12792042981336627), (2462, 0.0), (2463, 0.047140452079103175), (2464, 0.053452248382484885), (2465, 0.044721359549995794), (2466, 0.0), (2467, 0.13764944032233706), (2468, 0.09428090415820635), (2469, 0.10444659357341872), (2470, 0.19611613513818404), (2471, 0.09428090415820635), (2472, 0.047140452079103175), (2473, 0.04588314677411235), (2474, 0.048507125007266595), (2475, 0.12510864843424488), (2476, 0.24000000000000005), (2477, 0.0), (2478, 0.0917662935482247), (2479, 0.043643578047198484), (2480, 0.16000000000000003), (2481, 0.051639777949432225), (2482, 0.0), (2483, 0.05), (2484, 0.0), (2485, 0.053452248382484885), (2486, 0.0), (2487, 0.053452248382484885), (2488, 0.044721359549995794), (2489, 0.044721359549995794), (2490, 0.0), (2491, 0.1835325870964494), (2492, 0.044721359549995794), (2493, 0.04170288281141496), (2494, 0.05), (2495, 0.17457431218879393), (2496, 0.0), (2497, 0.0), (2498, 0.051639777949432225), (2499, 0.044721359549995794), (2500, 0.09701425001453319), (2501, 0.08944271909999159), (2502, 0.15491933384829668), (2503, 0.043643578047198484), (2504, 0.04264014327112209), (2505, 0.09701425001453319), (2506, 0.05), (2507, 0.16035674514745465), (2508, 0.08728715609439697), (2509, 0.0), (2510, 0.0917662935482247), (2511, 0.0), (2512, 0.047140452079103175), (2513, 0.047140452079103175), (2514, 0.07844645405527362), (2515, 0.04082482904638631), (2516, 0.04264014327112209), (2517, 0.04170288281141496), (2518, 0.043643578047198484), (2519, 0.053452248382484885), (2520, 0.047140452079103175), (2521, 0.15689290811054724), (2522, 0.04170288281141496), (2523, 0.1), (2524, 0.04082482904638631), (2525, 0.07844645405527362), (2526, 0.0), (2527, 0.0), (2528, 0.0), (2529, 0.17056057308448835), (2530, 0.0), (2531, 0.05547001962252292), (2532, 0.04588314677411235), (2533, 0.044721359549995794), (2534, 0.044721359549995794), (2535, 0.0), (2536, 0.08340576562282992), (2537, 0.08944271909999159), (2538, 0.05773502691896259), (2539, 0.08944271909999159), (2540, 0.0), (2541, 0.043643578047198484), (2542, 0.06963106238227915), (2543, 0.17888543819998318), (2544, 0.0), (2545, 0.16000000000000003), (2546, 0.1341640786499874), (2547, 0.04264014327112209), (2548, 0.1), (2549, 0.044721359549995794), (2550, 0.04264014327112209), (2551, 0.0), (2552, 0.04588314677411235), (2553, 0.13093073414159545), (2554, 0.0), (2555, 0.0), (2556, 0.0), (2557, 0.05), (2558, 0.12510864843424488), (2559, 0.0), (2560, 0.11766968108291043), (2561, 0.1889822365046136), (2562, 0.047140452079103175), (2563, 0.053452248382484885), (2564, 0.04264014327112209), (2565, 0.03922322702763681), (2566, 0.0), (2567, 0.0), (2568, 0.04170288281141496), (2569, 0.16681153124565984), (2570, 0.031234752377721216), (2571, 0.09428090415820635), (2572, 0.043643578047198484), (2573, 0.044721359549995794), (2574, 0.05773502691896259), (2575, 0.0), (2576, 0.0), (2577, 0.05), (2578, 0.08164965809277262), (2579, 0.0), (2580, 0.047140452079103175), (2581, 0.04588314677411235), (2582, 0.1835325870964494), (2583, 0.1), (2584, 0.044721359549995794), (2585, 0.047140452079103175), (2586, 0.04588314677411235), (2587, 0.13764944032233706), (2588, 0.0), (2589, 0.0), (2590, 0.0), (2591, 0.0), (2592, 0.17407765595569785), (2593, 0.16329931618554525), (2594, 0.08728715609439697), (2595, 0.048507125007266595), (2596, 0.1341640786499874), (2597, 0.07427813527082075), (2598, 0.0), (2599, 0.047140452079103175), (2600, 0.04588314677411235), (2601, 0.0), (2602, 0.0), (2603, 0.08728715609439697), (2604, 0.0), (2605, 0.043643578047198484), (2606, 0.08164965809277262), (2607, 0.08944271909999159), (2608, 0.04588314677411235), (2609, 0.13093073414159545), (2610, 0.09428090415820635), (2611, 0.10690449676496977), (2612, 0.0), (2613, 0.08000000000000002), (2614, 0.05547001962252292), (2615, 0.04264014327112209), (2616, 0.12247448713915893), (2617, 0.05), (2618, 0.0), (2619, 0.0), (2620, 0.047140452079103175), (2621, 0.17056057308448835), (2622, 0.0), (2623, 0.11766968108291043), (2624, 0.04000000000000001), (2625, 0.13093073414159545), (2626, 0.0), (2627, 0.16000000000000003), (2628, 0.03922322702763681), (2629, 0.05547001962252292), (2630, 0.043643578047198484), (2631, 0.05773502691896259), (2632, 0.0917662935482247), (2633, 0.08164965809277262), (2634, 0.05773502691896259), (2635, 0.08528028654224418), (2636, 0.044721359549995794), (2637, 0.1), (2638, 0.04170288281141496), (2639, 0.0), (2640, 0.2085144140570748), (2641, 0.04264014327112209), (2642, 0.12792042981336627), (2643, 0.04588314677411235), (2644, 0.0), (2645, 0.04170288281141496), (2646, 0.06030226891555273), (2647, 0.13093073414159545), (2648, 0.053452248382484885), (2649, 0.3328201177351375), (2650, 0.0917662935482247), (2651, 0.043643578047198484), (2652, 0.051639777949432225), (2653, 0.0), (2654, 0.044721359549995794), (2655, 0.0), (2656, 0.047140452079103175), (2657, 0.13093073414159545), (2658, 0.05773502691896259), (2659, 0.04082482904638631), (2660, 0.037139067635410375), (2661, 0.07844645405527362), (2662, 0.051639777949432225), (2663, 0.051639777949432225), (2664, 0.047140452079103175), (2665, 0.04588314677411235), (2666, 0.044721359549995794), (2667, 0.03922322702763681), (2668, 0.04588314677411235), (2669, 0.0), (2670, 0.15000000000000002), (2671, 0.04264014327112209), (2672, 0.0), (2673, 0.0), (2674, 0.3055050463303894), (2675, 0.043643578047198484), (2676, 0.0), (2677, 0.03651483716701107), (2678, 0.08164965809277262), (2679, 0.0), (2680, 0.04264014327112209), (2681, 0.0), (2682, 0.13093073414159545), (2683, 0.0), (2684, 0.0), (2685, 0.04264014327112209), (2686, 0.047140452079103175), (2687, 0.0), (2688, 0.0), (2689, 0.0), (2690, 0.0), (2691, 0.16681153124565984), (2692, 0.044721359549995794), (2693, 0.13093073414159545), (2694, 0.04264014327112209), (2695, 0.0), (2696, 0.0), (2697, 0.04588314677411235), (2698, 0.0), (2699, 0.0), (2700, 0.04082482904638631), (2701, 0.043643578047198484), (2702, 0.0917662935482247), (2703, 0.051639777949432225), (2704, 0.04264014327112209), (2705, 0.0), (2706, 0.047140452079103175), (2707, 0.0), (2708, 0.053452248382484885), (2709, 0.05547001962252292), (2710, 0.044721359549995794), (2711, 0.043643578047198484), (2712, 0.0), (2713, 0.04264014327112209), (2714, 0.048507125007266595), (2715, 0.0), (2716, 0.08528028654224418), (2717, 0.13764944032233706), (2718, 0.04264014327112209), (2719, 0.043643578047198484), (2720, 0.0), (2721, 0.04588314677411235), (2722, 0.09701425001453319), (2723, 0.051639777949432225), (2724, 0.04588314677411235), (2725, 0.04082482904638631), (2726, 0.04170288281141496), (2727, 0.04000000000000001), (2728, 0.0), (2729, 0.0), (2730, 0.048507125007266595), (2731, 0.34914862437758787), (2732, 0.043643578047198484), (2733, 0.04588314677411235), (2734, 0.048507125007266595), (2735, 0.0), (2736, 0.11766968108291043), (2737, 0.044721359549995794), (2738, 0.0), (2739, 0.044721359549995794), (2740, 0.0), (2741, 0.0), (2742, 0.04170288281141496), (2743, 0.0), (2744, 0.0), (2745, 0.07844645405527362), (2746, 0.0), (2747, 0.0), (2748, 0.04588314677411235), (2749, 0.044721359549995794), (2750, 0.0917662935482247), (2751, 0.04264014327112209), (2752, 0.04588314677411235), (2753, 0.04170288281141496), (2754, 0.0), (2755, 0.0), (2756, 0.12247448713915893), (2757, 0.03849001794597506), (2758, 0.04170288281141496), (2759, 0.04264014327112209), (2760, 0.04588314677411235), (2761, 0.0), (2762, 0.13093073414159545), (2763, 0.048507125007266595), (2764, 0.11094003924504584), (2765, 0.047140452079103175), (2766, 0.043643578047198484), (2767, 0.08528028654224418), (2768, 0.0), (2769, 0.0917662935482247), (2770, 0.05773502691896259), (2771, 0.05), (2772, 0.09701425001453319), (2773, 0.08528028654224418), (2774, 0.13764944032233706), (2775, 0.17457431218879393), (2776, 0.048507125007266595), (2777, 0.07844645405527362), (2778, 0.047140452079103175), (2779, 0.05547001962252292), (2780, 0.0), (2781, 0.0), (2782, 0.0596284793999944), (2783, 0.0917662935482247), (2784, 0.03287979746107146), (2785, 0.0), (2786, 0.044721359549995794), (2787, 0.03651483716701107), (2788, 0.051639777949432225), (2789, 0.05773502691896259), (2790, 0.23094010767585035), (2791, 0.0), (2792, 0.22941573387056174), (2793, 0.23570226039551587), (2794, 0.043643578047198484), (2795, 0.0), (2796, 0.04264014327112209), (2797, 0.08728715609439697), (2798, 0.04170288281141496), (2799, 0.13764944032233706), (2800, 0.0917662935482247), (2801, 0.13764944032233706), (2802, 0.08164965809277262), (2803, 0.08000000000000002), (2804, 0.15000000000000002), (2805, 0.08528028654224418), (2806, 0.035355339059327376), (2807, 0.04000000000000001), (2808, 0.04264014327112209), (2809, 0.08944271909999159), (2810, 0.04264014327112209), (2811, 0.044721359549995794), (2812, 0.0), (2813, 0.047140452079103175), (2814, 0.047140452079103175), (2815, 0.04170288281141496), (2816, 0.0), (2817, 0.0), (2818, 0.1341640786499874), (2819, 0.0), (2820, 0.17457431218879393), (2821, 0.09701425001453319), (2822, 0.13764944032233706), (2823, 0.0), (2824, 0.043643578047198484), (2825, 0.043643578047198484), (2826, 0.04264014327112209), (2827, 0.044721359549995794), (2828, 0.08528028654224418), (2829, 0.04170288281141496), (2830, 0.0), (2831, 0.0), (2832, 0.03651483716701107), (2833, 0.0), (2834, 0.0), (2835, 0.04170288281141496), (2836, 0.12792042981336627), (2837, 0.0), (2838, 0.044721359549995794), (2839, 0.1341640786499874), (2840, 0.04170288281141496), (2841, 0.0917662935482247), (2842, 0.0), (2843, 0.048507125007266595), (2844, 0.048507125007266595), (2845, 0.08728715609439697), (2846, 0.0), (2847, 0.04170288281141496), (2848, 0.0), (2849, 0.04588314677411235), (2850, 0.0), (2851, 0.0), (2852, 0.044721359549995794), (2853, 0.0917662935482247), (2854, 0.0), (2855, 0.044721359549995794), (2856, 0.1), (2857, 0.09701425001453319), (2858, 0.1341640786499874), (2859, 0.05), (2860, 0.04082482904638631), (2861, 0.0), (2862, 0.08728715609439697), (2863, 0.044721359549995794), (2864, 0.1), (2865, 0.0), (2866, 0.05), (2867, 0.0), (2868, 0.0), (2869, 0.05547001962252292), (2870, 0.04588314677411235), (2871, 0.03651483716701107), (2872, 0.0), (2873, 0.0), (2874, 0.0), (2875, 0.1455213750217998), (2876, 0.08000000000000002), (2877, 0.04082482904638631), (2878, 0.22188007849009167), (2879, 0.04588314677411235), (2880, 0.13093073414159545), (2881, 0.043643578047198484), (2882, 0.053452248382484885), (2883, 0.053452248382484885), (2884, 0.08164965809277262), (2885, 0.1341640786499874), (2886, 0.17457431218879393), (2887, 0.043643578047198484), (2888, 0.12000000000000002), (2889, 0.0), (2890, 0.09701425001453319), (2891, 0.05), (2892, 0.11094003924504584), (2893, 0.04170288281141496), (2894, 0.04264014327112209), (2895, 0.0), (2896, 0.05), (2897, 0.0), (2898, 0.033806170189140665), (2899, 0.0), (2900, 0.0), (2901, 0.043643578047198484), (2902, 0.0), (2903, 0.051639777949432225), (2904, 0.04000000000000001), (2905, 0.08728715609439697), (2906, 0.04588314677411235), (2907, 0.047140452079103175), (2908, 0.05773502691896259), (2909, 0.11547005383792518), (2910, 0.053452248382484885), (2911, 0.0), (2912, 0.0), (2913, 0.04264014327112209), (2914, 0.16000000000000003), (2915, 0.17457431218879393), (2916, 0.08000000000000002), (2917, 0.043643578047198484), (2918, 0.0), (2919, 0.047140452079103175), (2920, 0.044721359549995794), (2921, 0.11094003924504584), (2922, 0.04588314677411235), (2923, 0.0), (2924, 0.05), (2925, 0.04000000000000001), (2926, 0.08728715609439697), (2927, 0.043643578047198484), (2928, 0.0), (2929, 0.0), (2930, 0.0), (2931, 0.09701425001453319), (2932, 0.16035674514745465), (2933, 0.05773502691896259), (2934, 0.043643578047198484), (2935, 0.08944271909999159), (2936, 0.044721359549995794), (2937, 0.0), (2938, 0.0), (2939, 0.05), (2940, 0.044721359549995794), (2941, 0.22360679774997896), (2942, 0.04588314677411235), (2943, 0.09701425001453319), (2944, 0.047140452079103175), (2945, 0.0), (2946, 0.04170288281141496), (2947, 0.044721359549995794), (2948, 0.1835325870964494), (2949, 0.043643578047198484), (2950, 0.04264014327112209), (2951, 0.04170288281141496), (2952, 0.04588314677411235), (2953, 0.03849001794597506), (2954, 0.07184212081070997), (2955, 0.044721359549995794), (2956, 0.053452248382484885), (2957, 0.13764944032233706), (2958, 0.08728715609439697), (2959, 0.15000000000000002), (2960, 0.07698003589195011), (2961, 0.12510864843424488), (2962, 0.047140452079103175), (2963, 0.05547001962252292), (2964, 0.0), (2965, 0.08728715609439697), (2966, 0.0), (2967, 0.043643578047198484), (2968, 0.09428090415820635), (2969, 0.043643578047198484), (2970, 0.05773502691896259), (2971, 0.053452248382484885), (2972, 0.051639777949432225), (2973, 0.051639777949432225), (2974, 0.08164965809277262), (2975, 0.048507125007266595), (2976, 0.05547001962252292), (2977, 0.08944271909999159), (2978, 0.0), (2979, 0.0), (2980, 0.0), (2981, 0.0), (2982, 0.09428090415820635), (2983, 0.044721359549995794), (2984, 0.048507125007266595), (2985, 0.048507125007266595), (2986, 0.08164965809277262), (2987, 0.0), (2988, 0.044721359549995794), (2989, 0.20412414523193156), (2990, 0.0), (2991, 0.0), (2992, 0.047140452079103175), (2993, 0.044721359549995794), (2994, 0.0), (2995, 0.0), (2996, 0.08728715609439697), (2997, 0.04588314677411235), (2998, 0.0), (2999, 0.0), (3000, 0.053452248382484885), (3001, 0.0), (3002, 0.0), (3003, 0.0), (3004, 0.0), (3005, 0.047140452079103175), (3006, 0.04170288281141496), (3007, 0.044721359549995794), (3008, 0.15396007178390023), (3009, 0.048507125007266595), (3010, 0.0), (3011, 0.0917662935482247), (3012, 0.16329931618554525), (3013, 0.0), (3014, 0.0), (3015, 0.09428090415820635), (3016, 0.05), (3017, 0.0), (3018, 0.0), (3019, 0.04000000000000001), (3020, 0.05773502691896259), (3021, 0.05773502691896259), (3022, 0.05547001962252292), (3023, 0.03779644730092272), (3024, 0.0), (3025, 0.10327955589886445), (3026, 0.05), (3027, 0.03922322702763681), (3028, 0.05547001962252292), (3029, 0.15396007178390023), (3030, 0.0), (3031, 0.07844645405527362), (3032, 0.10776318121606496), (3033, 0.08000000000000002), (3034, 0.04588314677411235), (3035, 0.0917662935482247), (3036, 0.0), (3037, 0.05773502691896259), (3038, 0.0), (3039, 0.04588314677411235), (3040, 0.12510864843424488), (3041, 0.043643578047198484), (3042, 0.0), (3043, 0.10327955589886445), (3044, 0.04170288281141496), (3045, 0.0917662935482247), (3046, 0.0), (3047, 0.048507125007266595), (3048, 0.09428090415820635), (3049, 0.0), (3050, 0.08528028654224418), (3051, 0.0), (3052, 0.13093073414159545), (3053, 0.0), (3054, 0.04000000000000001), (3055, 0.08164965809277262), (3056, 0.0), (3057, 0.04170288281141496), (3058, 0.0), (3059, 0.05), (3060, 0.048507125007266595), (3061, 0.08728715609439697), (3062, 0.1341640786499874), (3063, 0.044721359549995794), (3064, 0.08728715609439697), (3065, 0.0), (3066, 0.05), (3067, 0.11094003924504584), (3068, 0.04082482904638631), (3069, 0.1455213750217998), (3070, 0.047140452079103175), (3071, 0.04588314677411235), (3072, 0.05), (3073, 0.12247448713915893), (3074, 0.11547005383792516), (3075, 0.047140452079103175), (3076, 0.05773502691896259), (3077, 0.0), (3078, 0.05773502691896259), (3079, 0.0), (3080, 0.05547001962252292), (3081, 0.0), (3082, 0.0), (3083, 0.08528028654224418), (3084, 0.04000000000000001), (3085, 0.043643578047198484), (3086, 0.0), (3087, 0.053452248382484885), (3088, 0.13764944032233706), (3089, 0.0), (3090, 0.08944271909999159), (3091, 0.1341640786499874), (3092, 0.051639777949432225), (3093, 0.12792042981336627), (3094, 0.0), (3095, 0.048507125007266595), (3096, 0.053452248382484885), (3097, 0.0), (3098, 0.0), (3099, 0.0), (3100, 0.04588314677411235), (3101, 0.09428090415820635), (3102, 0.047140452079103175), (3103, 0.06030226891555273), (3104, 0.048507125007266595), (3105, 0.048507125007266595), (3106, 0.08944271909999159), (3107, 0.0), (3108, 0.0), (3109, 0.04264014327112209), (3110, 0.09428090415820635), (3111, 0.09428090415820635), (3112, 0.13764944032233706), (3113, 0.044721359549995794), (3114, 0.0), (3115, 0.0), (3116, 0.05), (3117, 0.0), (3118, 0.04588314677411235), (3119, 0.0632455532033676), (3120, 0.044721359549995794), (3121, 0.05773502691896259), (3122, 0.0), (3123, 0.09428090415820635), (3124, 0.03849001794597506), (3125, 0.033806170189140665), (3126, 0.05), (3127, 0.053452248382484885), (3128, 0.0), (3129, 0.0), (3130, 0.051639777949432225), (3131, 0.04170288281141496), (3132, 0.0), (3133, 0.0), (3134, 0.09428090415820635), (3135, 0.0), (3136, 0.0), (3137, 0.0), (3138, 0.04264014327112209), (3139, 0.0), (3140, 0.08164965809277262), (3141, 0.0), (3142, 0.0), (3143, 0.0), (3144, 0.15491933384829668), (3145, 0.043643578047198484), (3146, 0.0), (3147, 0.0), (3148, 0.0917662935482247), (3149, 0.04082482904638631), (3150, 0.0), (3151, 0.0), (3152, 0.047140452079103175), (3153, 0.04588314677411235), (3154, 0.05547001962252292), (3155, 0.07844645405527362), (3156, 0.044721359549995794), (3157, 0.09701425001453319), (3158, 0.0), (3159, 0.0), (3160, 0.04588314677411235), (3161, 0.04588314677411235), (3162, 0.0), (3163, 0.0), (3164, 0.05547001962252292), (3165, 0.12792042981336627), (3166, 0.05773502691896259), (3167, 0.0), (3168, 0.0), (3169, 0.0), (3170, 0.15118578920369088), (3171, 0.0), (3172, 0.053452248382484885), (3173, 0.13764944032233706), (3174, 0.0), (3175, 0.0), (3176, 0.0), (3177, 0.08164965809277262), (3178, 0.06963106238227915), (3179, 0.0), (3180, 0.21821789023599242), (3181, 0.13093073414159545), (3182, 0.0), (3183, 0.08728715609439697), (3184, 0.04170288281141496), (3185, 0.05773502691896259), (3186, 0.051639777949432225), (3187, 0.0), (3188, 0.044721359549995794), (3189, 0.0), (3190, 0.0), (3191, 0.048507125007266595), (3192, 0.0), (3193, 0.0), (3194, 0.11547005383792518), (3195, 0.08528028654224418), (3196, 0.08728715609439697), (3197, 0.12510864843424488), (3198, 0.043643578047198484), (3199, 0.16035674514745465), (3200, 0.05773502691896259), (3201, 0.044721359549995794), (3202, 0.0), (3203, 0.0), (3204, 0.044721359549995794), (3205, 0.053452248382484885), (3206, 0.05547001962252292), (3207, 0.11094003924504584), (3208, 0.04170288281141496), (3209, 0.04170288281141496), (3210, 0.0), (3211, 0.13093073414159545), (3212, 0.047140452079103175), (3213, 0.0), (3214, 0.0), (3215, 0.0), (3216, 0.0), (3217, 0.05), (3218, 0.0), (3219, 0.043643578047198484), (3220, 0.04588314677411235), (3221, 0.043643578047198484), (3222, 0.047140452079103175), (3223, 0.05547001962252292), (3224, 0.16641005886756877), (3225, 0.05773502691896259), (3226, 0.05547001962252292), (3227, 0.03779644730092272), (3228, 0.0), (3229, 0.09428090415820635), (3230, 0.0), (3231, 0.04264014327112209), (3232, 0.09428090415820635), (3233, 0.047140452079103175), (3234, 0.1341640786499874), (3235, 0.0), (3236, 0.08164965809277262), (3237, 0.0), (3238, 0.03922322702763681), (3239, 0.15396007178390023), (3240, 0.0), (3241, 0.048507125007266595), (3242, 0.13764944032233706), (3243, 0.0), (3244, 0.09428090415820635), (3245, 0.08728715609439697), (3246, 0.0), (3247, 0.0), (3248, 0.0), (3249, 0.0), (3250, 0.17056057308448835), (3251, 0.0), (3252, 0.04588314677411235), (3253, 0.04264014327112209), (3254, 0.048507125007266595), (3255, 0.09428090415820635), (3256, 0.0), (3257, 0.12247448713915893), (3258, 0.047140452079103175), (3259, 0.08944271909999159), (3260, 0.08944271909999159), (3261, 0.05), (3262, 0.08340576562282992), (3263, 0.0), (3264, 0.053452248382484885), (3265, 0.05), (3266, 0.0), (3267, 0.0), (3268, 0.0), (3269, 0.048507125007266595), (3270, 0.07184212081070997), (3271, 0.053452248382484885), (3272, 0.048507125007266595), (3273, 0.12792042981336627), (3274, 0.0), (3275, 0.13093073414159545), (3276, 0.08528028654224418), (3277, 0.0917662935482247), (3278, 0.09428090415820635), (3279, 0.048507125007266595), (3280, 0.05547001962252292), (3281, 0.0), (3282, 0.053452248382484885), (3283, 0.04264014327112209), (3284, 0.053452248382484885), (3285, 0.04588314677411235), (3286, 0.15491933384829668), (3287, 0.05547001962252292), (3288, 0.04082482904638631), (3289, 0.04264014327112209), (3290, 0.0), (3291, 0.12510864843424488), (3292, 0.05547001962252292), (3293, 0.25584085962673253), (3294, 0.13093073414159545), (3295, 0.05), (3296, 0.0), (3297, 0.12510864843424488), (3298, 0.043643578047198484), (3299, 0.10327955589886445), (3300, 0.0), (3301, 0.044721359549995794), (3302, 0.05547001962252292), (3303, 0.08528028654224418), (3304, 0.05773502691896259), (3305, 0.0), (3306, 0.11094003924504584), (3307, 0.047140452079103175), (3308, 0.05), (3309, 0.08164965809277262), (3310, 0.048507125007266595), (3311, 0.08728715609439697), (3312, 0.048507125007266595), (3313, 0.12247448713915893), (3314, 0.053452248382484885), (3315, 0.048507125007266595), (3316, 0.1341640786499874), (3317, 0.0), (3318, 0.09428090415820635), (3319, 0.05773502691896259), (3320, 0.0), (3321, 0.047140452079103175), (3322, 0.15491933384829668), (3323, 0.043643578047198484), (3324, 0.0), (3325, 0.051639777949432225), (3326, 0.16035674514745465), (3327, 0.0), (3328, 0.04264014327112209), (3329, 0.0), (3330, 0.047140452079103175), (3331, 0.0), (3332, 0.1455213750217998), (3333, 0.0), (3334, 0.08528028654224418), (3335, 0.0), (3336, 0.0), (3337, 1.0000000000000007), (3338, 0.048507125007266595), (3339, 0.04264014327112209), (3340, 0.09428090415820635), (3341, 0.04588314677411235), (3342, 0.08728715609439697), (3343, 0.04264014327112209), (3344, 0.048507125007266595), (3345, 0.08944271909999159), (3346, 0.0), (3347, 0.04588314677411235), (3348, 0.12792042981336627), (3349, 0.08944271909999159), (3350, 0.04000000000000001), (3351, 0.0), (3352, 0.2857738033247042), (3353, 0.0), (3354, 0.0), (3355, 0.05547001962252292), (3356, 0.0), (3357, 0.1341640786499874), (3358, 0.16681153124565984), (3359, 0.16035674514745465), (3360, 0.0), (3361, 0.0), (3362, 0.08728715609439697), (3363, 0.1455213750217998), (3364, 0.044721359549995794), (3365, 0.04588314677411235), (3366, 0.08340576562282992), (3367, 0.047140452079103175), (3368, 0.09428090415820635), (3369, 0.04000000000000001), (3370, 0.04000000000000001), (3371, 0.0), (3372, 0.08944271909999159), (3373, 0.05), (3374, 0.12792042981336627), (3375, 0.04170288281141496), (3376, 0.053452248382484885), (3377, 0.15491933384829668), (3378, 0.13093073414159545), (3379, 0.048507125007266595), (3380, 0.044721359549995794), (3381, 0.09701425001453319), (3382, 0.04082482904638631), (3383, 0.0), (3384, 0.044721359549995794), (3385, 0.043643578047198484), (3386, 0.0), (3387, 0.04170288281141496), (3388, 0.04170288281141496), (3389, 0.0), (3390, 0.23664319132398465), (3391, 0.2618614682831909), (3392, 0.05547001962252292), (3393, 0.05547001962252292), (3394, 0.047140452079103175), (3395, 0.0), (3396, 0.051639777949432225), (3397, 0.1), (3398, 0.047140452079103175), (3399, 0.08000000000000002), (3400, 0.10690449676496977), (3401, 0.0), (3402, 0.0), (3403, 0.0), (3404, 0.048507125007266595), (3405, 0.0), (3406, 0.08528028654224418), (3407, 0.04082482904638631), (3408, 0.047140452079103175), (3409, 0.13093073414159545), (3410, 0.08944271909999159), (3411, 0.08728715609439697), (3412, 0.10690449676496977), (3413, 0.03592106040535498), (3414, 0.044721359549995794), (3415, 0.053452248382484885), (3416, 0.15491933384829668), (3417, 0.12247448713915893), (3418, 0.0), (3419, 0.048507125007266595), (3420, 0.12000000000000002), (3421, 0.04264014327112209), (3422, 0.05547001962252292), (3423, 0.0), (3424, 0.04082482904638631), (3425, 0.08164965809277262), (3426, 0.04588314677411235), (3427, 0.043643578047198484), (3428, 0.0), (3429, 0.13093073414159545), (3430, 0.08340576562282992), (3431, 0.12792042981336627), (3432, 0.06030226891555273), (3433, 0.043643578047198484), (3434, 0.044721359549995794), (3435, 0.043643578047198484), (3436, 0.047140452079103175), (3437, 0.053452248382484885), (3438, 0.1341640786499874), (3439, 0.0), (3440, 0.12510864843424488), (3441, 0.048507125007266595), (3442, 0.044721359549995794), (3443, 0.0), (3444, 0.0), (3445, 0.04264014327112209), (3446, 0.043643578047198484), (3447, 0.1835325870964494), (3448, 0.0), (3449, 0.04264014327112209), (3450, 0.3336230624913197), (3451, 0.0), (3452, 0.04588314677411235), (3453, 0.11094003924504584), (3454, 0.13093073414159545), (3455, 0.048507125007266595), (3456, 0.0), (3457, 0.04588314677411235), (3458, 0.0), (3459, 0.0), (3460, 0.0), (3461, 0.053452248382484885), (3462, 0.043643578047198484), (3463, 0.13764944032233706), (3464, 0.0), (3465, 0.04588314677411235), (3466, 0.04082482904638631), (3467, 0.08164965809277262), (3468, 0.1), (3469, 0.0), (3470, 0.12247448713915893), (3471, 0.0), (3472, 0.044721359549995794), (3473, 0.03922322702763681), (3474, 0.04082482904638631), (3475, 0.12792042981336627), (3476, 0.04000000000000001), (3477, 0.08528028654224418), (3478, 0.0), (3479, 0.0917662935482247), (3480, 0.044721359549995794), (3481, 0.04588314677411235), (3482, 0.04588314677411235), (3483, 0.044721359549995794), (3484, 0.0), (3485, 0.0), (3486, 0.053452248382484885), (3487, 0.05547001962252292), (3488, 0.09428090415820635), (3489, 0.048507125007266595), (3490, 0.04588314677411235), (3491, 0.09701425001453319), (3492, 0.12247448713915893), (3493, 0.10327955589886445), (3494, 0.04000000000000001), (3495, 0.13764944032233706), (3496, 0.044721359549995794), (3497, 0.053452248382484885), (3498, 0.048507125007266595), (3499, 0.04588314677411235), (3500, 0.05773502691896259), (3501, 0.05547001962252292), (3502, 0.0), (3503, 0.0), (3504, 0.14142135623730953), (3505, 0.0), (3506, 0.1), (3507, 0.21320071635561044), (3508, 0.051639777949432225), (3509, 0.0), (3510, 0.053452248382484885), (3511, 0.04082482904638631), (3512, 0.044721359549995794), (3513, 0.05547001962252292), (3514, 0.043643578047198484), (3515, 0.0), (3516, 0.08000000000000002), (3517, 0.05547001962252292), (3518, 0.13764944032233706), (3519, 0.05), (3520, 0.04264014327112209), (3521, 0.11094003924504584), (3522, 0.043643578047198484), (3523, 0.0), (3524, 0.0), (3525, 0.051639777949432225), (3526, 0.21320071635561044), (3527, 0.047140452079103175), (3528, 0.05547001962252292), (3529, 0.047140452079103175), (3530, 0.04000000000000001), (3531, 0.0), (3532, 0.04264014327112209), (3533, 0.16000000000000003), (3534, 0.044721359549995794), (3535, 0.04264014327112209), (3536, 0.044721359549995794), (3537, 0.1341640786499874), (3538, 0.08728715609439697), (3539, 0.047140452079103175), (3540, 0.04588314677411235), (3541, 0.13764944032233706), (3542, 0.051639777949432225), (3543, 0.08164965809277262), (3544, 0.05547001962252292), (3545, 0.04588314677411235), (3546, 0.0), (3547, 0.05), (3548, 0.11766968108291043), (3549, 0.04588314677411235), (3550, 0.051639777949432225), (3551, 0.14142135623730953), (3552, 0.043643578047198484), (3553, 0.13764944032233706), (3554, 0.0), (3555, 0.0), (3556, 0.04170288281141496), (3557, 0.0), (3558, 0.04082482904638631), (3559, 0.0), (3560, 0.04264014327112209), (3561, 0.047140452079103175), (3562, 0.053452248382484885), (3563, 0.0), (3564, 0.15000000000000002), (3565, 0.0), (3566, 0.08728715609439697), (3567, 0.13764944032233706), (3568, 0.1341640786499874), (3569, 0.05), (3570, 0.04588314677411235), (3571, 0.044721359549995794), (3572, 0.0), (3573, 0.0), (3574, 0.05), (3575, 0.0), (3576, 0.04170288281141496), (3577, 0.09701425001453319), (3578, 0.0), (3579, 0.044721359549995794), (3580, 0.0), (3581, 0.13764944032233706), (3582, 0.048507125007266595), (3583, 0.03651483716701107), (3584, 0.08728715609439697), (3585, 0.047140452079103175), (3586, 0.0), (3587, 0.047140452079103175), (3588, 0.043643578047198484), (3589, 0.053452248382484885), (3590, 0.05547001962252292), (3591, 0.10690449676496977), (3592, 0.0), (3593, 0.04264014327112209), (3594, 0.17457431218879393), (3595, 0.0), (3596, 0.04000000000000001), (3597, 0.0), (3598, 0.05773502691896259), (3599, 0.04170288281141496), (3600, 0.0), (3601, 0.0), (3602, 0.043643578047198484), (3603, 0.12510864843424488), (3604, 0.0), (3605, 0.04082482904638631), (3606, 0.0), (3607, 0.0), (3608, 0.044721359549995794), (3609, 0.048507125007266595), (3610, 0.05773502691896259), (3611, 0.1341640786499874), (3612, 0.044721359549995794), (3613, 0.08164965809277262), (3614, 0.08340576562282992), (3615, 0.15118578920369088), (3616, 0.17056057308448835), (3617, 0.0), (3618, 0.04588314677411235), (3619, 0.04170288281141496), (3620, 0.0), (3621, 0.044721359549995794), (3622, 0.08728715609439697), (3623, 0.0), (3624, 0.043643578047198484), (3625, 0.0), (3626, 0.048507125007266595), (3627, 0.048507125007266595), (3628, 0.048507125007266595), (3629, 0.04588314677411235), (3630, 0.0), (3631, 0.048507125007266595), (3632, 0.05547001962252292), (3633, 0.044721359549995794), (3634, 0.09428090415820635), (3635, 0.04170288281141496), (3636, 0.13764944032233706), (3637, 0.2), (3638, 0.14142135623730953), (3639, 0.12792042981336627), (3640, 0.0917662935482247), (3641, 0.047140452079103175), (3642, 0.047140452079103175), (3643, 0.1485562705416415), (3644, 0.12792042981336627), (3645, 0.048507125007266595), (3646, 0.0), (3647, 0.13093073414159545), (3648, 0.0), (3649, 0.05773502691896259), (3650, 0.048507125007266595), (3651, 0.04588314677411235), (3652, 0.0), (3653, 0.0), (3654, 0.04588314677411235), (3655, 0.053452248382484885), (3656, 0.0), (3657, 0.0), (3658, 0.17888543819998318), (3659, 0.04588314677411235), (3660, 0.0), (3661, 0.05773502691896259), (3662, 0.12792042981336627), (3663, 0.04588314677411235), (3664, 0.047140452079103175), (3665, 0.15491933384829668), (3666, 0.048507125007266595), (3667, 0.043643578047198484), (3668, 0.0917662935482247), (3669, 0.05547001962252292), (3670, 0.0), (3671, 0.0), (3672, 0.0), (3673, 0.043643578047198484), (3674, 0.05547001962252292), (3675, 0.04588314677411235), (3676, 0.0), (3677, 0.0), (3678, 0.047140452079103175), (3679, 0.0917662935482247), (3680, 0.0), (3681, 0.047140452079103175), (3682, 0.0), (3683, 0.0), (3684, 0.0917662935482247), (3685, 0.13093073414159545), (3686, 0.053452248382484885), (3687, 0.0), (3688, 0.22283440581246222), (3689, 0.043643578047198484), (3690, 0.044721359549995794), (3691, 0.1341640786499874), (3692, 0.05), (3693, 0.04588314677411235), (3694, 0.1), (3695, 0.04588314677411235), (3696, 0.24494897427831788), (3697, 0.0), (3698, 0.1341640786499874), (3699, 0.13764944032233706), (3700, 0.12792042981336627), (3701, 0.1885618083164127), (3702, 0.0), (3703, 0.09428090415820635), (3704, 0.1835325870964494), (3705, 0.04264014327112209), (3706, 0.03849001794597506), (3707, 0.0), (3708, 0.044721359549995794), (3709, 0.12510864843424488), (3710, 0.04588314677411235), (3711, 0.043643578047198484), (3712, 0.09701425001453319), (3713, 0.04264014327112209), (3714, 0.11094003924504584), (3715, 0.0), (3716, 0.1455213750217998), (3717, 0.04588314677411235), (3718, 0.05547001962252292), (3719, 0.047140452079103175), (3720, 0.0), (3721, 0.0), (3722, 0.04170288281141496), (3723, 0.13093073414159545), (3724, 0.0), (3725, 0.14142135623730953), (3726, 0.1885618083164127), (3727, 0.16035674514745465), (3728, 0.1889822365046136), (3729, 0.051639777949432225), (3730, 0.0), (3731, 0.037139067635410375), (3732, 0.1341640786499874), (3733, 0.0), (3734, 0.2085144140570748), (3735, 0.0), (3736, 0.051639777949432225), (3737, 0.13093073414159545), (3738, 0.04588314677411235), (3739, 0.0917662935482247), (3740, 0.047140452079103175), (3741, 0.11766968108291043), (3742, 0.0), (3743, 0.2683281572999748), (3744, 0.0), (3745, 0.04588314677411235), (3746, 0.0), (3747, 0.053452248382484885), (3748, 0.044721359549995794), (3749, 0.0), (3750, 0.16000000000000003), (3751, 0.08340576562282992), (3752, 0.0), (3753, 0.03651483716701107), (3754, 0.0), (3755, 0.0), (3756, 0.05547001962252292), (3757, 0.05), (3758, 0.08944271909999159), (3759, 0.03922322702763681), (3760, 0.09701425001453319), (3761, 0.04588314677411235), (3762, 0.053452248382484885), (3763, 0.13093073414159545), (3764, 0.043643578047198484), (3765, 0.21821789023599242), (3766, 0.08728715609439697), (3767, 0.0917662935482247), (3768, 0.0), (3769, 0.044721359549995794), (3770, 0.0), (3771, 0.0), (3772, 0.08528028654224418), (3773, 0.08164965809277262), (3774, 0.0), (3775, 0.0), (3776, 0.04082482904638631), (3777, 0.05), (3778, 0.048507125007266595), (3779, 0.10690449676496977), (3780, 0.048507125007266595), (3781, 0.06030226891555273), (3782, 0.04588314677411235), (3783, 0.047140452079103175), (3784, 0.0917662935482247), (3785, 0.1341640786499874), (3786, 0.0), (3787, 0.0), (3788, 0.053452248382484885), (3789, 0.13764944032233706), (3790, 0.10327955589886445), (3791, 0.1455213750217998), (3792, 0.10690449676496977), (3793, 0.0632455532033676), (3794, 0.08944271909999159), (3795, 0.044721359549995794), (3796, 0.05547001962252292), (3797, 0.047140452079103175), (3798, 0.05773502691896259), (3799, 0.0917662935482247), (3800, 0.0), (3801, 0.05), (3802, 0.044721359549995794), (3803, 0.0), (3804, 0.08000000000000002), (3805, 0.051639777949432225), (3806, 0.0), (3807, 0.0), (3808, 0.0), (3809, 0.0), (3810, 0.044721359549995794), (3811, 0.0917662935482247), (3812, 0.15000000000000002), (3813, 0.11338934190276817), (3814, 0.047140452079103175), (3815, 0.12792042981336627), (3816, 0.0), (3817, 0.15000000000000002), (3818, 0.048507125007266595), (3819, 0.22360679774997896), (3820, 0.0), (3821, 0.04170288281141496), (3822, 0.08728715609439697), (3823, 0.05773502691896259), (3824, 0.04588314677411235), (3825, 0.048507125007266595), (3826, 0.0), (3827, 0.0), (3828, 0.13093073414159545), (3829, 0.0), (3830, 0.0), (3831, 0.28284271247461906), (3832, 0.05), (3833, 0.13764944032233706), (3834, 0.13093073414159545), (3835, 0.0), (3836, 0.0), (3837, 0.08000000000000002), (3838, 0.04588314677411235), (3839, 0.1341640786499874), (3840, 0.0), (3841, 0.0), (3842, 0.047140452079103175), (3843, 0.0), (3844, 0.043643578047198484), (3845, 0.0), (3846, 0.0), (3847, 0.05), (3848, 0.0), (3849, 0.09428090415820635), (3850, 0.1341640786499874), (3851, 0.13764944032233706), (3852, 0.11547005383792518), (3853, 0.0), (3854, 0.0), (3855, 0.0), (3856, 0.047140452079103175), (3857, 0.11094003924504584), (3858, 0.10327955589886445), (3859, 0.0917662935482247), (3860, 0.0), (3861, 0.0), (3862, 0.04588314677411235), (3863, 0.11094003924504584), (3864, 0.047140452079103175), (3865, 0.047140452079103175), (3866, 0.13093073414159545), (3867, 0.044721359549995794), (3868, 0.05), (3869, 0.17457431218879393), (3870, 0.08944271909999159), (3871, 0.0), (3872, 0.044721359549995794), (3873, 0.11766968108291043), (3874, 0.044721359549995794), (3875, 0.2065591117977289), (3876, 0.043643578047198484), (3877, 0.043643578047198484), (3878, 0.047140452079103175), (3879, 0.043643578047198484), (3880, 0.12510864843424488), (3881, 0.23094010767585033), (3882, 0.0), (3883, 0.0), (3884, 0.0), (3885, 0.0), (3886, 0.08728715609439697), (3887, 0.17056057308448835), (3888, 0.0), (3889, 0.0), (3890, 0.0), (3891, 0.0), (3892, 0.048507125007266595), (3893, 0.09428090415820635), (3894, 0.04588314677411235), (3895, 0.0), (3896, 0.04170288281141496), (3897, 0.0), (3898, 0.047140452079103175), (3899, 0.04588314677411235), (3900, 0.047140452079103175), (3901, 0.0), (3902, 0.0), (3903, 0.12792042981336627), (3904, 0.0), (3905, 0.08944271909999159), (3906, 0.03849001794597506), (3907, 0.0), (3908, 0.0), (3909, 0.0), (3910, 0.0), (3911, 0.05773502691896259), (3912, 0.10690449676496977), (3913, 0.05547001962252292), (3914, 0.08728715609439697), (3915, 0.0), (3916, 0.0), (3917, 0.0), (3918, 0.04170288281141496), (3919, 0.0), (3920, 0.04264014327112209), (3921, 0.05547001962252292), (3922, 0.05), (3923, 0.08944271909999159), (3924, 0.047140452079103175), (3925, 0.0), (3926, 0.051639777949432225), (3927, 0.04588314677411235), (3928, 0.0), (3929, 0.0), (3930, 0.1), (3931, 0.17888543819998318), (3932, 0.10327955589886445), (3933, 0.0), (3934, 0.08164965809277262), (3935, 0.08164965809277262), (3936, 0.1455213750217998), (3937, 0.03849001794597506), (3938, 0.0632455532033676), (3939, 0.0), (3940, 0.03849001794597506), (3941, 0.04588314677411235), (3942, 0.0), (3943, 0.0), (3944, 0.08528028654224418), (3945, 0.1), (3946, 0.05), (3947, 0.0), (3948, 0.0), (3949, 0.0), (3950, 0.051639777949432225), (3951, 0.0), (3952, 0.08728715609439697), (3953, 0.051639777949432225), (3954, 0.0), (3955, 0.09428090415820635), (3956, 0.0), (3957, 0.053452248382484885), (3958, 0.0), (3959, 0.0), (3960, 0.0), (3961, 0.051639777949432225), (3962, 0.04170288281141496), (3963, 0.0), (3964, 0.0), (3965, 0.04588314677411235), (3966, 0.2683281572999748), (3967, 0.05773502691896259), (3968, 0.0), (3969, 0.09701425001453319), (3970, 0.0), (3971, 0.0), (3972, 0.11094003924504584), (3973, 0.043643578047198484), (3974, 0.04082482904638631), (3975, 0.04588314677411235), (3976, 0.11094003924504584), (3977, 0.06030226891555273), (3978, 0.10690449676496977), (3979, 0.0), (3980, 0.0), (3981, 0.08944271909999159), (3982, 0.048507125007266595), (3983, 0.044721359549995794), (3984, 0.0), (3985, 0.0), (3986, 0.0), (3987, 0.0), (3988, 0.0), (3989, 0.044721359549995794), (3990, 0.08728715609439697), (3991, 0.0), (3992, 0.0), (3993, 0.0), (3994, 0.0), (3995, 0.05547001962252292), (3996, 0.1), (3997, 0.0), (3998, 0.0), (3999, 0.047140452079103175), (4000, 0.12000000000000002), (4001, 0.0), (4002, 0.0), (4003, 0.0), (4004, 0.051639777949432225), (4005, 0.0), (4006, 0.0), (4007, 0.0), (4008, 0.044721359549995794), (4009, 0.0), (4010, 0.04000000000000001), (4011, 0.0), (4012, 0.0), (4013, 0.04588314677411235), (4014, 0.0), (4015, 0.13764944032233706), (4016, 0.12510864843424488), (4017, 0.048507125007266595), (4018, 0.0), (4019, 0.03922322702763681), (4020, 0.0), (4021, 0.043643578047198484), (4022, 0.17457431218879393), (4023, 0.044721359549995794), (4024, 0.07844645405527362), (4025, 0.0), (4026, 0.08944271909999159), (4027, 0.06666666666666667), (4028, 0.05), (4029, 0.0), (4030, 0.0), (4031, 0.0), (4032, 0.04588314677411235), (4033, 0.044721359549995794), (4034, 0.0), (4035, 0.0), (4036, 0.0), (4037, 0.10327955589886445), (4038, 0.05547001962252292), (4039, 0.0), (4040, 0.12060453783110546), (4041, 0.14142135623730953), (4042, 0.0), (4043, 0.0), (4044, 0.10690449676496977), (4045, 0.05), (4046, 0.0), (4047, 0.05773502691896259), (4048, 0.053452248382484885), (4049, 0.04000000000000001), (4050, 0.0), (4051, 0.053452248382484885), (4052, 0.0), (4053, 0.043643578047198484), (4054, 0.05), (4055, 0.05547001962252292), (4056, 0.0), (4057, 0.06030226891555273), (4058, 0.048507125007266595), (4059, 0.0), (4060, 0.051639777949432225), (4061, 0.048507125007266595), (4062, 0.03922322702763681), (4063, 0.13764944032233706), (4064, 0.047140452079103175), (4065, 0.25584085962673253), (4066, 0.0), (4067, 0.044721359549995794), (4068, 0.0), (4069, 0.0), (4070, 0.11094003924504584), (4071, 0.04264014327112209), (4072, 0.0), (4073, 0.0), (4074, 0.0), (4075, 0.0), (4076, 0.16329931618554525), (4077, 0.0), (4078, 0.043643578047198484), (4079, 0.17888543819998318), (4080, 0.0), (4081, 0.04264014327112209), (4082, 0.11094003924504584), (4083, 0.047140452079103175), (4084, 0.03922322702763681), (4085, 0.03922322702763681), (4086, 0.05773502691896259), (4087, 0.0917662935482247), (4088, 0.04588314677411235), (4089, 0.08000000000000002), (4090, 0.12792042981336627), (4091, 0.051639777949432225), (4092, 0.09701425001453319), (4093, 0.047140452079103175), (4094, 0.048507125007266595), (4095, 0.04082482904638631), (4096, 0.0), (4097, 0.053452248382484885), (4098, 0.1835325870964494), (4099, 0.1341640786499874), (4100, 0.12247448713915893), (4101, 0.047140452079103175), (4102, 0.0), (4103, 0.08528028654224418), (4104, 0.047140452079103175), (4105, 0.0), (4106, 0.048507125007266595), (4107, 0.037139067635410375), (4108, 0.0), (4109, 0.048507125007266595), (4110, 0.0), (4111, 0.05547001962252292), (4112, 0.05), (4113, 0.07844645405527362), (4114, 0.04588314677411235), (4115, 0.051639777949432225), (4116, 0.0), (4117, 0.0), (4118, 0.0), (4119, 0.12792042981336627), (4120, 0.0), (4121, 0.048507125007266595), (4122, 0.051639777949432225), (4123, 0.0), (4124, 0.21320071635561044), (4125, 0.05773502691896259), (4126, 0.047140452079103175), (4127, 0.043643578047198484), (4128, 0.048507125007266595), (4129, 0.05), (4130, 0.044721359549995794), (4131, 0.0), (4132, 0.0), (4133, 0.0), (4134, 0.03592106040535498), (4135, 0.3411211461689767), (4136, 0.23570226039551587), (4137, 0.0), (4138, 0.0), (4139, 0.14142135623730953), (4140, 0.0), (4141, 0.0), (4142, 0.06030226891555273), (4143, 0.05547001962252292), (4144, 0.13093073414159545), (4145, 0.044721359549995794), (4146, 0.051639777949432225), (4147, 0.23094010767585035), (4148, 0.0), (4149, 0.0), (4150, 0.04588314677411235), (4151, 0.0), (4152, 0.04170288281141496), (4153, 0.0), (4154, 0.053452248382484885), (4155, 0.04588314677411235), (4156, 0.0), (4157, 0.04264014327112209), (4158, 0.048507125007266595), (4159, 0.15000000000000002), (4160, 0.10690449676496977), (4161, 0.0), (4162, 0.08000000000000002), (4163, 0.04588314677411235), (4164, 0.048507125007266595), (4165, 0.043643578047198484), (4166, 0.08340576562282992), (4167, 0.08000000000000002), (4168, 0.05547001962252292), (4169, 0.05773502691896259), (4170, 0.043643578047198484), (4171, 0.04264014327112209), (4172, 0.22283440581246225), (4173, 0.04000000000000001), (4174, 0.10606601717798213), (4175, 0.04264014327112209), (4176, 0.0), (4177, 0.044721359549995794), (4178, 0.043643578047198484), (4179, 0.06030226891555273), (4180, 0.0), (4181, 0.0), (4182, 0.04000000000000001), (4183, 0.0), (4184, 0.17320508075688776), (4185, 0.0), (4186, 0.0), (4187, 0.0), (4188, 0.0), (4189, 0.04588314677411235), (4190, 0.08944271909999159), (4191, 0.0), (4192, 0.04588314677411235), (4193, 0.0), (4194, 0.044721359549995794), (4195, 0.09428090415820635), (4196, 0.08944271909999159), (4197, 0.04082482904638631), (4198, 0.05773502691896259), (4199, 0.053452248382484885), (4200, 0.09701425001453319), (4201, 0.044721359549995794), (4202, 0.0), (4203, 0.11094003924504584), (4204, 0.043643578047198484), (4205, 0.16641005886756877), (4206, 0.11766968108291043), (4207, 0.0), (4208, 0.05547001962252292), (4209, 0.1341640786499874), (4210, 0.0), (4211, 0.20412414523193156), (4212, 0.05773502691896259), (4213, 0.0), (4214, 0.0), (4215, 0.0), (4216, 0.09701425001453319), (4217, 0.2), (4218, 0.04588314677411235), (4219, 0.0), (4220, 0.03779644730092272), (4221, 0.048507125007266595), (4222, 0.04588314677411235), (4223, 0.1341640786499874), (4224, 0.0), (4225, 0.08728715609439697), (4226, 0.12247448713915893), (4227, 0.0), (4228, 0.04588314677411235), (4229, 0.0), (4230, 0.13093073414159545), (4231, 0.04588314677411235), (4232, 0.08944271909999159), (4233, 0.06030226891555273), (4234, 0.0), (4235, 0.0), (4236, 0.06030226891555273), (4237, 0.0), (4238, 0.047140452079103175), (4239, 0.053452248382484885), (4240, 0.0), (4241, 0.0), (4242, 0.0), (4243, 0.053452248382484885), (4244, 0.047140452079103175), (4245, 0.0), (4246, 0.048507125007266595), (4247, 0.11547005383792518), (4248, 0.0), (4249, 0.03922322702763681), (4250, 0.0), (4251, 0.047140452079103175), (4252, 0.0632455532033676), (4253, 0.053452248382484885), (4254, 0.0), (4255, 0.05547001962252292), (4256, 0.10690449676496977), (4257, 0.051639777949432225), (4258, 0.0), (4259, 0.0), (4260, 0.04000000000000001), (4261, 0.0), (4262, 0.0), (4263, 0.08528028654224418), (4264, 0.044721359549995794), (4265, 0.16681153124565984), (4266, 0.053452248382484885), (4267, 0.08340576562282992), (4268, 0.0917662935482247), (4269, 0.1264911064067352), (4270, 0.08340576562282992), (4271, 0.04588314677411235), (4272, 0.048507125007266595), (4273, 0.12060453783110546), (4274, 0.0), (4275, 0.053452248382484885), (4276, 0.0), (4277, 0.0), (4278, 0.0), (4279, 0.0), (4280, 0.051639777949432225), (4281, 0.043643578047198484), (4282, 0.0), (4283, 0.048507125007266595), (4284, 0.0), (4285, 0.06030226891555273), (4286, 0.0), (4287, 0.1341640786499874), (4288, 0.05), (4289, 0.0), (4290, 0.09428090415820635), (4291, 0.08728715609439697), (4292, 0.0917662935482247), (4293, 0.0), (4294, 0.051639777949432225), (4295, 0.044721359549995794), (4296, 0.053452248382484885), (4297, 0.0), (4298, 0.0), (4299, 0.11094003924504584), (4300, 0.09701425001453319), (4301, 0.053452248382484885), (4302, 0.0), (4303, 0.044721359549995794), (4304, 0.053452248382484885), (4305, 0.0), (4306, 0.04588314677411235), (4307, 0.0), (4308, 0.08944271909999159), (4309, 0.051639777949432225), (4310, 0.17457431218879393), (4311, 0.0), (4312, 0.043643578047198484), (4313, 0.0), (4314, 0.0), (4315, 0.0), (4316, 0.0), (4317, 0.0), (4318, 0.05773502691896259), (4319, 0.0), (4320, 0.12792042981336627), (4321, 0.0), (4322, 0.0), (4323, 0.0), (4324, 0.051639777949432225), (4325, 0.0), (4326, 0.16681153124565984), (4327, 0.0), (4328, 0.0), (4329, 0.09428090415820635), (4330, 0.053452248382484885), (4331, 0.044721359549995794), (4332, 0.04170288281141496), (4333, 0.048507125007266595), (4334, 0.05), (4335, 0.0), (4336, 0.0), (4337, 0.17457431218879393), (4338, 0.05), (4339, 0.0), (4340, 0.0), (4341, 0.0), (4342, 0.05547001962252292), (4343, 0.0), (4344, 0.0), (4345, 0.048507125007266595), (4346, 0.047140452079103175), (4347, 0.0), (4348, 0.04588314677411235), (4349, 0.1455213750217998), (4350, 0.04000000000000001), (4351, 0.04588314677411235), (4352, 0.0), (4353, 0.0), (4354, 0.051639777949432225), (4355, 0.047140452079103175), (4356, 0.044721359549995794), (4357, 0.12060453783110546), (4358, 0.05), (4359, 0.04588314677411235), (4360, 0.047140452079103175), (4361, 0.0), (4362, 0.051639777949432225), (4363, 0.0), (4364, 0.13093073414159545), (4365, 0.048507125007266595), (4366, 0.0), (4367, 0.04082482904638631), (4368, 0.0), (4369, 0.06030226891555273), (4370, 0.2529822128134704), (4371, 0.1835325870964494), (4372, 0.0), (4373, 0.043643578047198484), (4374, 0.0), (4375, 0.053452248382484885), (4376, 0.08528028654224418), (4377, 0.16641005886756877), (4378, 0.03779644730092272), (4379, 0.044721359549995794), (4380, 0.04588314677411235), (4381, 0.0), (4382, 0.0), (4383, 0.0), (4384, 0.053452248382484885), (4385, 0.0), (4386, 0.051639777949432225), (4387, 0.0), (4388, 0.04588314677411235), (4389, 0.0), (4390, 0.0), (4391, 0.08000000000000002), (4392, 0.21821789023599242), (4393, 0.13093073414159545), (4394, 0.0917662935482247), (4395, 0.053452248382484885), (4396, 0.0), (4397, 0.16000000000000003), (4398, 0.047140452079103175), (4399, 0.09428090415820635), (4400, 0.0), (4401, 0.0), (4402, 0.044721359549995794), (4403, 0.048507125007266595), (4404, 0.1455213750217998), (4405, 0.0), (4406, 0.047140452079103175), (4407, 0.09428090415820635), (4408, 0.13764944032233706), (4409, 0.0), (4410, 0.053452248382484885), (4411, 0.06666666666666667), (4412, 0.047140452079103175), (4413, 0.0632455532033676), (4414, 0.0), (4415, 0.0), (4416, 0.06030226891555273), (4417, 0.05547001962252292), (4418, 0.0), (4419, 0.0), (4420, 0.0), (4421, 0.0), (4422, 0.053452248382484885), (4423, 0.043643578047198484), (4424, 0.053452248382484885), (4425, 0.0), (4426, 0.07071067811865475), (4427, 0.04588314677411235), (4428, 0.0), (4429, 0.048507125007266595), (4430, 0.0), (4431, 0.0), (4432, 0.24253562503633297), (4433, 0.0), (4434, 0.044721359549995794), (4435, 0.0), (4436, 0.048507125007266595), (4437, 0.043643578047198484), (4438, 0.04588314677411235), (4439, 0.04264014327112209), (4440, 0.0), (4441, 0.16000000000000003), (4442, 0.0), (4443, 0.04588314677411235), (4444, 0.048507125007266595), (4445, 0.09428090415820635), (4446, 0.0), (4447, 0.08000000000000002), (4448, 0.04082482904638631), (4449, 0.16035674514745465), (4450, 0.0), (4451, 0.0), (4452, 0.03651483716701107), (4453, 0.03922322702763681), (4454, 0.03779644730092272), (4455, 0.053452248382484885), (4456, 0.05), (4457, 0.17056057308448835), (4458, 0.0), (4459, 0.051639777949432225), (4460, 0.047140452079103175), (4461, 0.14142135623730953), (4462, 0.05547001962252292), (4463, 0.048507125007266595), (4464, 0.0), (4465, 0.04082482904638631), (4466, 0.0), (4467, 0.24000000000000005), (4468, 0.0), (4469, 0.0), (4470, 0.048507125007266595), (4471, 0.0), (4472, 0.08944271909999159), (4473, 0.0), (4474, 0.09428090415820635), (4475, 0.05), (4476, 0.21380899352993954), (4477, 0.0), (4478, 0.0), (4479, 0.0), (4480, 0.05547001962252292), (4481, 0.0), (4482, 0.11094003924504584), (4483, 0.05), (4484, 0.13093073414159545), (4485, 0.04588314677411235), (4486, 0.047140452079103175), (4487, 0.047140452079103175), (4488, 0.16641005886756877), (4489, 0.0), (4490, 0.05547001962252292), (4491, 0.0), (4492, 0.0), (4493, 0.06666666666666667), (4494, 0.051639777949432225), (4495, 0.0), (4496, 0.0), (4497, 0.04264014327112209), (4498, 0.043643578047198484), (4499, 0.053452248382484885), (4500, 0.0), (4501, 0.12060453783110546), (4502, 0.17320508075688776), (4503, 0.0), (4504, 0.0), (4505, 0.051639777949432225), (4506, 0.0), (4507, 0.0), (4508, 0.0), (4509, 0.14142135623730953), (4510, 0.08164965809277262), (4511, 0.09428090415820635), (4512, 0.03922322702763681), (4513, 0.0), (4514, 0.047140452079103175), (4515, 0.0), (4516, 0.0), (4517, 0.0), (4518, 0.044721359549995794), (4519, 0.053452248382484885), (4520, 0.047140452079103175), (4521, 0.0), (4522, 0.053452248382484885), (4523, 0.05773502691896259), (4524, 0.0), (4525, 0.05), (4526, 0.17888543819998318), (4527, 0.05), (4528, 0.1455213750217998), (4529, 0.13093073414159545), (4530, 0.0), (4531, 0.15491933384829668), (4532, 0.04264014327112209), (4533, 0.043643578047198484), (4534, 0.0), (4535, 0.047140452079103175), (4536, 0.0), (4537, 0.0), (4538, 0.0), (4539, 0.047140452079103175), (4540, 0.06666666666666667), (4541, 0.11094003924504584), (4542, 0.04588314677411235), (4543, 0.05773502691896259), (4544, 0.0), (4545, 0.0), (4546, 0.0), (4547, 0.0), (4548, 0.053452248382484885), (4549, 0.043643578047198484), (4550, 0.0), (4551, 0.08000000000000002), (4552, 0.0), (4553, 0.0), (4554, 0.0), (4555, 0.0), (4556, 0.16641005886756877), (4557, 0.0), (4558, 0.0), (4559, 0.0), (4560, 0.0), (4561, 0.0), (4562, 0.0), (4563, 0.04170288281141496), (4564, 0.2), (4565, 0.08944271909999159), (4566, 0.0), (4567, 0.043643578047198484), (4568, 0.0), (4569, 0.0), (4570, 0.0), (4571, 0.0), (4572, 0.043643578047198484), (4573, 0.12510864843424488), (4574, 0.08164965809277262), (4575, 0.0), (4576, 0.0917662935482247), (4577, 0.0), (4578, 0.0), (4579, 0.0), (4580, 0.05773502691896259), (4581, 0.0), (4582, 0.044721359549995794), (4583, 0.0), (4584, 0.0), (4585, 0.0), (4586, 0.0), (4587, 0.0), (4588, 0.044721359549995794), (4589, 0.08944271909999159), (4590, 0.05547001962252292), (4591, 0.044721359549995794), (4592, 0.1), (4593, 0.04082482904638631), (4594, 0.08340576562282992), (4595, 0.044721359549995794), (4596, 0.0), (4597, 0.0), (4598, 0.0), (4599, 0.09701425001453319), (4600, 0.0), (4601, 0.0), (4602, 0.09701425001453319), (4603, 0.043643578047198484), (4604, 0.0), (4605, 0.043643578047198484), (4606, 0.0), (4607, 0.0632455532033676), (4608, 0.0), (4609, 0.0), (4610, 0.0917662935482247), (4611, 0.0), (4612, 0.05547001962252292), (4613, 0.05), (4614, 0.05547001962252292), (4615, 0.04588314677411235), (4616, 0.0), (4617, 0.0), (4618, 0.06030226891555273), (4619, 0.1), (4620, 0.09428090415820635), (4621, 0.0), (4622, 0.0), (4623, 0.0), (4624, 0.05), (4625, 0.0), (4626, 0.09701425001453319), (4627, 0.11547005383792518), (4628, 0.0), (4629, 0.0), (4630, 0.22188007849009167), (4631, 0.11547005383792516), (4632, 0.1), (4633, 0.0), (4634, 0.16641005886756877), (4635, 0.04000000000000001), (4636, 0.044721359549995794), (4637, 0.044721359549995794), (4638, 0.3464101615137755), (4639, 0.0), (4640, 0.0), (4641, 0.13333333333333333), (4642, 0.16329931618554525), (4643, 0.047140452079103175), (4644, 0.0), (4645, 0.0), (4646, 0.05773502691896259), (4647, 0.0917662935482247), (4648, 0.043643578047198484), (4649, 0.17457431218879393), (4650, 0.0), (4651, 0.0917662935482247), (4652, 0.051639777949432225), (4653, 0.0632455532033676), (4654, 0.048507125007266595), (4655, 0.05773502691896259), (4656, 0.16035674514745465), (4657, 0.0), (4658, 0.06030226891555273), (4659, 0.051639777949432225), (4660, 0.05547001962252292), (4661, 0.04000000000000001), (4662, 0.05547001962252292), (4663, 0.0), (4664, 0.2065591117977289), (4665, 0.0), (4666, 0.0), (4667, 0.05773502691896259), (4668, 0.0), (4669, 0.0), (4670, 0.0), (4671, 0.0), (4672, 0.03849001794597506), (4673, 0.0), (4674, 0.0), (4675, 0.08728715609439697), (4676, 0.053452248382484885), (4677, 0.05), (4678, 0.051639777949432225), (4679, 0.0), (4680, 0.14142135623730953), (4681, 0.0), (4682, 0.0), (4683, 0.051639777949432225), (4684, 0.0), (4685, 0.0), (4686, 0.04170288281141496), (4687, 0.04588314677411235), (4688, 0.04588314677411235), (4689, 0.0), (4690, 0.05773502691896259), (4691, 0.048507125007266595), (4692, 0.16641005886756877), (4693, 0.053452248382484885), (4694, 0.11094003924504584), (4695, 0.04588314677411235), (4696, 0.04082482904638631), (4697, 0.0), (4698, 0.0), (4699, 0.053452248382484885), (4700, 0.04588314677411235), (4701, 0.037139067635410375), (4702, 0.06030226891555273), (4703, 0.051639777949432225), (4704, 0.11338934190276817), (4705, 0.05), (4706, 0.047140452079103175), (4707, 0.047140452079103175), (4708, 0.06666666666666667), (4709, 0.0), (4710, 0.0), (4711, 0.0), (4712, 0.0), (4713, 0.0), (4714, 0.09701425001453319), (4715, 0.04264014327112209), (4716, 0.0), (4717, 0.04170288281141496), (4718, 0.0), (4719, 0.048507125007266595), (4720, 0.051639777949432225), (4721, 0.0), (4722, 0.10690449676496977), (4723, 0.0), (4724, 0.04264014327112209), (4725, 0.05), (4726, 0.08528028654224418), (4727, 0.048507125007266595), (4728, 0.0), (4729, 0.0), (4730, 0.15491933384829668), (4731, 0.0), (4732, 0.0), (4733, 0.1), (4734, 0.053452248382484885), (4735, 0.09428090415820635), (4736, 0.0), (4737, 0.0), (4738, 0.04588314677411235), (4739, 0.0), (4740, 0.09428090415820635), (4741, 0.0), (4742, 0.03849001794597506), (4743, 0.0), (4744, 0.051639777949432225), (4745, 0.0), (4746, 0.05547001962252292), (4747, 0.047140452079103175), (4748, 0.0), (4749, 0.12247448713915893), (4750, 0.06030226891555273), (4751, 0.05773502691896259), (4752, 0.033806170189140665), (4753, 0.048507125007266595), (4754, 0.05547001962252292), (4755, 0.0), (4756, 0.0), (4757, 0.0), (4758, 0.043643578047198484), (4759, 0.0), (4760, 0.12060453783110546), (4761, 0.0), (4762, 0.051639777949432225), (4763, 0.0), (4764, 0.053452248382484885), (4765, 0.0), (4766, 0.05), (4767, 0.0), (4768, 0.053452248382484885), (4769, 0.0632455532033676), (4770, 0.05547001962252292), (4771, 0.06030226891555273), (4772, 0.17056057308448835), (4773, 0.0), (4774, 0.0632455532033676), (4775, 0.05547001962252292), (4776, 0.09428090415820635), (4777, 0.0632455532033676), (4778, 0.13764944032233706), (4779, 0.1264911064067352), (4780, 0.17320508075688776), (4781, 0.0), (4782, 0.16035674514745465), (4783, 0.0), (4784, 0.0632455532033676), (4785, 0.053452248382484885), (4786, 0.0), (4787, 0.053452248382484885), (4788, 0.08728715609439697), (4789, 0.048507125007266595), (4790, 0.05547001962252292), (4791, 0.0), (4792, 0.08728715609439697), (4793, 0.048507125007266595), (4794, 0.0), (4795, 0.04588314677411235), (4796, 0.04082482904638631), (4797, 0.0), (4798, 0.08164965809277262), (4799, 0.0), (4800, 0.2085144140570748), (4801, 0.0), (4802, 0.0)]\n"
     ]
    }
   ],
   "source": [
    "similar_movies = list(enumerate(cosine_sim[movie_index]))\n",
    "print(similar_movies)"
   ]
  },
  {
   "cell_type": "code",
   "execution_count": 34,
   "metadata": {},
   "outputs": [],
   "source": [
    "sorted_similar_movies = sorted(similar_movies, key=lambda x: x[1], reverse=True)[1:]"
   ]
  },
  {
   "cell_type": "code",
   "execution_count": 35,
   "metadata": {
    "scrolled": true
   },
   "outputs": [
    {
     "name": "stdout",
     "output_type": "stream",
     "text": [
      "Top 5 similar movies to The Godfather are: \n",
      "\n",
      "The Godfather: Part II\n",
      "Amidst the Devil's Wings\n",
      "Gangster's Paradise: Jerusalema\n",
      "West Side Story\n",
      "The Son of No One\n",
      "Closer\n",
      "Stomp the Yard\n",
      "Cold Mountain\n",
      "August Rush\n",
      "Action Jackson\n",
      "In Cold Blood\n",
      "Wanted\n",
      "Donnie Brasco\n",
      "We Own the Night\n",
      "Scarface\n"
     ]
    }
   ],
   "source": [
    "i = 0\n",
    "print('Top 5 similar movies to ' + movie_user_likes+' are: \\n')\n",
    "for element in sorted_similar_movies:\n",
    "    print(get_title_from_index(element[0]))\n",
    "    i += 1\n",
    "    if i>= 15:\n",
    "        break"
   ]
  },
  {
   "cell_type": "markdown",
   "metadata": {},
   "source": [
    "# space monster이 찾아지는지 확인해보자"
   ]
  },
  {
   "cell_type": "code",
   "execution_count": 18,
   "metadata": {},
   "outputs": [
    {
     "data": {
      "text/plain": [
       "4798    united states\\u2013mexico barrier legs arms pa...\n",
       "4799     Edward Burns Kerry Bish\\u00e9 Marsha Dietlein...\n",
       "4800    date love at first sight narration investigati...\n",
       "4801     Daniel Henney Eliza Coupe Bill Paxton Alan Ru...\n",
       "4802    obsession camcorder crush dream girl Drew Barr...\n",
       "Name: combined_features, dtype: object"
      ]
     },
     "execution_count": 18,
     "metadata": {},
     "output_type": "execute_result"
    }
   ],
   "source": [
    "df['combined_features'].tail(5)"
   ]
  },
  {
   "cell_type": "code",
   "execution_count": 19,
   "metadata": {},
   "outputs": [
    {
     "data": {
      "text/plain": [
       "0       culture clash future space war space colony so...\n",
       "1       ocean drug abuse exotic island east india trad...\n",
       "2       spy based on novel secret agent sequel mi6 Dan...\n",
       "3       dc comics crime fighter terrorist secret ident...\n",
       "4       based on novel mars medallion space travel pri...\n",
       "                              ...                        \n",
       "4798    united states\\u2013mexico barrier legs arms pa...\n",
       "4799     Edward Burns Kerry Bish\\u00e9 Marsha Dietlein...\n",
       "4800    date love at first sight narration investigati...\n",
       "4801     Daniel Henney Eliza Coupe Bill Paxton Alan Ru...\n",
       "4802    obsession camcorder crush dream girl Drew Barr...\n",
       "Name: combined_features, Length: 4803, dtype: object"
      ]
     },
     "execution_count": 19,
     "metadata": {},
     "output_type": "execute_result"
    }
   ],
   "source": [
    "df['combined_features']"
   ]
  },
  {
   "cell_type": "code",
   "execution_count": 20,
   "metadata": {},
   "outputs": [
    {
     "data": {
      "text/plain": [
       "'culture clash future space war space colony society Sam Worthington Zoe Saldana Sigourney Weaver Stephen Lang Michelle Rodriguez Action Adventure Fantasy Science Fiction '"
      ]
     },
     "execution_count": 20,
     "metadata": {},
     "output_type": "execute_result"
    }
   ],
   "source": [
    "df['combined_features'][0]"
   ]
  },
  {
   "cell_type": "code",
   "execution_count": 23,
   "metadata": {},
   "outputs": [],
   "source": [
    "a = df['combined_features'][get_index_from_title('Avatar')]\n",
    "b = df['combined_features'][get_index_from_title('The Dark Knight Rises')]\n",
    "# a = set(a.split())\n",
    "# b = set(b.split())\n",
    "# c = a.union(b)\n",
    "# d = ' '.join(c)\n",
    "d = a+b\n",
    "kk = df.append({'combined_features': d}, ignore_index=True)\n",
    "# kk['combined_features']"
   ]
  },
  {
   "cell_type": "code",
   "execution_count": 24,
   "metadata": {},
   "outputs": [
    {
     "data": {
      "text/plain": [
       "(4804,)"
      ]
     },
     "execution_count": 24,
     "metadata": {},
     "output_type": "execute_result"
    }
   ],
   "source": [
    "# df['combined_features'].tail(5)\n",
    "kk['combined_features'].shape"
   ]
  },
  {
   "cell_type": "code",
   "execution_count": 26,
   "metadata": {
    "scrolled": false
   },
   "outputs": [
    {
     "name": "stdout",
     "output_type": "stream",
     "text": [
      "4803\n",
      "Top 5 similar movies to Avatar are: \n",
      "\n",
      "Batman Begins\n",
      "The Dark Knight\n",
      "Amidst the Devil's Wings\n",
      "Alien\n",
      "Batman Returns\n",
      "Guardians of the Galaxy\n",
      "Batman\n",
      "Suicide Squad\n",
      "Batman & Robin\n",
      "Superman\n",
      "The Fifth Element\n",
      "Planet of the Apes\n",
      "Aliens\n",
      "Moonraker\n",
      "Star Wars: Clone Wars: Volume 1\n",
      "Star Trek Into Darkness\n",
      "Star Trek Beyond\n",
      "Babylon A.D.\n",
      "Vantage Point\n",
      "The Helix... Loaded\n"
     ]
    }
   ],
   "source": [
    "cv = CountVectorizer()  # creating new CountVectorizer() object\n",
    "count_matrix = cv.fit_transform(kk['combined_features'])\n",
    "# feeding combined strings(movie contents) to CountVectorizer() object\n",
    "cosine_sim = cosine_similarity(count_matrix)\n",
    "movie_index = df.shape[0]\n",
    "print(movie_index)\n",
    "similar_movies = list(enumerate(cosine_sim[movie_index]))\n",
    "sorted_similar_movies = sorted(similar_movies, key=lambda x: x[1], reverse=True)[1:]\n",
    "\n",
    "i = 0\n",
    "print('Top 5 similar movies to ' + movie_user_likes+' are: \\n')\n",
    "for element in sorted_similar_movies:\n",
    "    if get_title_from_index(element[0]) == 'Avatar' or get_title_from_index(element[0]) == 'The Dark Knight Rises':\n",
    "        continue\n",
    "    print(get_title_from_index(element[0]))\n",
    "    i += 1\n",
    "    if i>= 20:\n",
    "        break"
   ]
  }
 ],
 "metadata": {
  "kernelspec": {
   "display_name": "Python 3",
   "language": "python",
   "name": "python3"
  },
  "language_info": {
   "codemirror_mode": {
    "name": "ipython",
    "version": 3
   },
   "file_extension": ".py",
   "mimetype": "text/x-python",
   "name": "python",
   "nbconvert_exporter": "python",
   "pygments_lexer": "ipython3",
   "version": "3.7.4"
  },
  "toc": {
   "base_numbering": 1,
   "nav_menu": {},
   "number_sections": true,
   "sideBar": true,
   "skip_h1_title": false,
   "title_cell": "Table of Contents",
   "title_sidebar": "Contents",
   "toc_cell": false,
   "toc_position": {},
   "toc_section_display": true,
   "toc_window_display": false
  }
 },
 "nbformat": 4,
 "nbformat_minor": 2
}
