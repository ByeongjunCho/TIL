{
 "cells": [
  {
   "cell_type": "code",
   "execution_count": 3,
   "metadata": {},
   "outputs": [],
   "source": [
    "from tmdbv3api import TMDb\n",
    "tmdb = TMDb()\n",
    "tmdb.api_key = '656eda0a49ae6aa988c8afc002555d1a'\n",
    "\n",
    "tmdb.language = 'ko'\n",
    "tmdb.debug = True"
   ]
  },
  {
   "cell_type": "code",
   "execution_count": 15,
   "metadata": {},
   "outputs": [
    {
     "name": "stderr",
     "output_type": "stream",
     "text": [
      "INFO:tmdbv3api.tmdb:{'results': [{'popularity': 312.739, 'vote_count': 5774, 'video': False, 'poster_path': '/wrCwH6WOvXQvVuqcKNUrLDCDxdw.jpg', 'id': 475557, 'adult': False, 'backdrop_path': '/n6bUvigpRFqSwmPp1m2YADdbRBc.jpg', 'original_language': 'en', 'original_title': 'Joker', 'genre_ids': [80, 18, 53], 'title': '조커', 'vote_average': 8.4, 'overview': '홀어머니와 사는 아서 플렉(호아킨 피닉스)은 코미디언을 꿈꾸지만 그의 삶은 좌절과 절망으로 가득 차 있다. 광대 아르바이트는 그에게 모욕을 가져다주기 일쑤고, 긴장하면 웃음을 통제할 수 없는 신경병 증세는 그를 더욱 고립시킨다. 정부 예산 긴축으로 인해 정신과 약물을 지원하던 공공의료 서비스마저 없어져 버린 어느 날, 아서는 지하철에서 시비를 걸어온 증권사 직원들에게 얻어맞던 와중에 동료가 건네준 권총으로 그들을 쏴 버리고 만다. 군중들은 지배계급에 대한 저항의 아이콘이 된 그를 추종하기 시작하며 광대 마스크로 얼굴을 가리고 거리로 쏟아져 나오기 시작하는데...', 'release_date': '2019-10-02'}, {'popularity': 295.758, 'vote_count': 73, 'video': False, 'poster_path': '/8S2AFd8DF539pxdn7TCIDqXlwRA.jpg', 'id': 330457, 'adult': False, 'backdrop_path': '/2niqBT3WmbsR8fy07URik6fFJIf.jpg', 'original_language': 'en', 'original_title': 'Frozen II', 'genre_ids': [12, 16, 35, 10402, 10751], 'title': '겨울왕국 2', 'vote_average': 6.2, 'overview': '어느 날 부턴가 의문의 목소리가 엘사를 부르고, 평화로운 아렌델 왕국을 위협한다. 트롤은 모든 것은 과거에서 시작되었음을 알려주며 엘사의 힘의 비밀과 진실을 찾아 떠나야한다고 조언한다. 위험에 빠진 아렌델 왕국을 구해야만 하는 엘사와 안나는 숨겨진 과거의 진실을 찾아 크리스토프, 올라프 그리고 스벤과 함께 위험천만한 놀라운 모험을 떠나게 된다. 자신의 힘을 두려워했던 엘사는 이제 이 모험을 헤쳐나가기에 자신의 힘이 충분하다고 믿어야만 하는데…', 'release_date': '2019-11-20'}, {'popularity': 193.812, 'vote_count': 638, 'video': False, 'poster_path': '/nIoDNiWWOtCFdJRi89aFI98cdj0.jpg', 'id': 290859, 'adult': False, 'backdrop_path': '/a6cDxdwaQIFjSkXf7uskg78ZyTq.jpg', 'original_language': 'en', 'original_title': 'Terminator: Dark Fate', 'genre_ids': [28, 878], 'title': '터미네이터: 다크 페이트', 'vote_average': 6.4, 'overview': '심판의 날 그 후, 뒤바뀐 미래. 새로운 인류의 희망 ‘대니’를 지키기 위해 슈퍼 솔져 ‘그레이스’가 미래에서 찾아오고, ‘대니’를 제거하기 위한 터미네이터 ‘Rev-9’의 추격이 시작된다.  최첨단 기술력으로 무장한 최강의 적 터미네이터 ‘Rev-9’의 무차별적인 공격에 쫓기기 시작하던 ‘그레이스’와 ‘대니’ 앞에 터미네이터 헌터 ‘사라 코너’가 나타나 도움을 준다. 인류의 수호자이자 기계로 강화된 슈퍼 솔져 ‘그레이스’와 ‘사라 코너’는 ‘대니’를 지키기 위해 새로운 조력자를 찾아 나서고, 터미네이터 ‘Rev-9’은 그들의 뒤를 끈질기게 추격하는데...', 'release_date': '2019-10-23'}, {'popularity': 133.013, 'vote_count': 595, 'video': False, 'poster_path': '/fxMT7ex1n89UJIPWEO8wtLVbFfw.jpg', 'id': 423204, 'adult': False, 'backdrop_path': '/k2WyDw2NTUIWnuEs5gT7wgrCQg6.jpg', 'original_language': 'en', 'original_title': 'Angel Has Fallen', 'genre_ids': [28], 'title': '엔젤 해즈 폴른', 'vote_average': 5.8, 'overview': \"비밀 경호국 최고 요원 ‘배닝’(제라드 버틀러)의 엄호 중 '트럼불' 대통령(모건 프리먼)을 향한 초대형 규모의 드론 테러가 발생한다. 가까스로 대통령을 구하고 유일하게 살아남은 '배닝'은 완벽히 조작된 음모에 의해 대통령 암살사건의 테러범으로 지목되고, 국가 영웅은 한순간에 일급 수배자가 되어 FBI에게 쫓기게 되는데...\", 'release_date': '2019-08-21'}, {'popularity': 160.568, 'vote_count': 623, 'video': False, 'poster_path': '/avT0fOGqsu5ctQVhWv3FvWwzxgV.jpg', 'id': 453405, 'adult': False, 'backdrop_path': '/c3F4P2oauA7IQmy4hM0OmRt2W7d.jpg', 'original_language': 'en', 'original_title': 'Gemini Man', 'genre_ids': [28, 53], 'title': '제미니 맨', 'vote_average': 5.7, 'overview': '최강의 요원 헨리(윌 스미스)는 자신과 완벽하게 닮은 의문의 요원(윌 스미스)에게 맹렬한 추격을 당한다. 한편 헨리와 이제 막 동료가 된 대니(메리 엘리자베스 윈스티드), 헨리의 오랜 동료 배런(베네딕트 웡)은 의문의 요원에게 이상한 낌새를 느끼고 정체를 파헤치기 시작하고, 그가 헨리의 DNA를 추출해 탄생한 ‘제미니 프로젝트’ 요원임을 알게 된다. 헨리의 전성기와 너무나 완벽하게 닮은 한 사람을 만나 충격에 빠지는 헨리와 동료들. 그들은 ‘제미니 프로젝트’를 파괴하기 위한 작전을 시작하는데…', 'release_date': '2019-10-02'}, {'popularity': 120.582, 'vote_count': 84, 'video': False, 'poster_path': '/36YiDLw3IWkQyhfJnCjG2GCNgg9.jpg', 'id': 458897, 'adult': False, 'backdrop_path': '/P7QwQE8HJaB5bIIACyRdXVV7gO.jpg', 'original_language': 'en', 'original_title': \"Charlie's Angels\", 'genre_ids': [28, 12, 35], 'title': '미녀 삼총사', 'vote_average': 6.6, 'overview': '', 'release_date': '2019-11-14'}, {'popularity': 162.361, 'vote_count': 2038, 'video': False, 'poster_path': '/kkkS7NYPY4QZcZY6vfkAx0vjJRa.jpg', 'id': 474350, 'adult': False, 'backdrop_path': '/8moTOzunF7p40oR5XhlDvJckOSW.jpg', 'original_language': 'en', 'original_title': 'It Chapter Two', 'genre_ids': [18, 27], 'title': '그것: 두 번째 이야기', 'vote_average': 6.9, 'overview': '27년마다 아이들이 사라지는 마을 데리, 또 다시 ‘그것’이 나타났다. 27년 전, 가장 무서워하는 것의 모습으로 나타나 아이들을 잡아먹는 그것 페니와이즈에 맞섰던 ‘루저 클럽’ 친구들은 어른이 되어도 더 커져만 가는 그것의 공포를 끝내기 위해 피할 수 없는 마지막 대결에 나선다.', 'release_date': '2019-09-04'}, {'popularity': 116.595, 'vote_count': 88, 'video': False, 'poster_path': '/suPfemWGPk8xOePePITOhg1C5EP.jpg', 'id': 568012, 'adult': False, 'backdrop_path': '/iGnCzXEx0cFlUbpyAMeHwHWhPhx.jpg', 'original_language': 'ja', 'original_title': 'ワンピーススタンピード', 'genre_ids': [28, 12, 16], 'title': '원피스 : 스탬피드', 'vote_average': 7.3, 'overview': \"해적의 해적에 의한 해적을 위한 세계 최고의 축제, 해적 박람회! 축제꾼이라 불리는 박람회의 주최자 '브에나 페스타'에게 초대장을 받은 밀짚모자 일당. 박람회에 들어서니 화려한 파빌리온이 즐비해있고, 최악의 세대를 비롯한 많은 해적들이 몰려들어 흥을 돋우고 있었다. 박람회의 빅 이벤트는 해적왕 로저가 남긴 보물 찾기! 보물을 손에 넣고 이름을 날리고 싶은 해적들의 보물 쟁탈전이 시작된다!\", 'release_date': '2019-08-09'}, {'popularity': 95.556, 'vote_count': 260, 'video': False, 'poster_path': '/ok4jQwrA54NGuw0qyGgVGCVe9H.jpg', 'id': 359724, 'adult': False, 'backdrop_path': '/n3UanIvmnBlH531pykuzNs4LbH6.jpg', 'original_language': 'en', 'original_title': 'Ford v Ferrari', 'genre_ids': [28, 18, 36], 'title': '포드 V 페라리', 'vote_average': 8, 'overview': '1960년대, 매출 감소에 빠진 ‘포드’는 판매 활로를 찾기 위해 스포츠카 레이스를 장악한 절대적 1위 ‘페라리’와의 인수 합병을 추진한다. 막대한 자금력에도 불구, 계약에 실패하고 엔초 페라리로부터 모욕까지 당한 헨리 포드 2세는 르망 24시간 레이스에서 페라리를 박살 낼 차를 만들 것을 지시한다. 세계 3대 자동차 레이싱 대회이자 ‘지옥의 레이스’로 불리는 르망 24시간 레이스. 출전 경험조차 없는 ‘포드’는 대회 6연패를 차지한 ‘페라리’에 대항하기 위해 르망 레이스 우승자 출신 자동차 디자이너 ‘캐롤 셸비’(맷 데이먼)를 고용하고, 그는 누구와도 타협하지 않지만 열정과 실력만큼은 최고인 레이서 ‘켄 마일스’(크리스찬 베일)를 자신의 파트너로 영입한다. 포드의 경영진은 제 멋대로인 ‘켄 마일스’를 눈엣가시처럼 여기며 자신들의 입맛에 맞춘 레이스를 펼치기를 강요하지만 두 사람은 어떤 간섭에도 굴하지 않고 불가능을 뛰어넘기 위한 질주를 시작하는데…', 'release_date': '2019-10-10'}, {'popularity': 78.037, 'vote_count': 160, 'video': False, 'poster_path': '/q125RHUDgR4gjwh1QkfYuJLYkL.jpg', 'id': 508965, 'adult': False, 'backdrop_path': '/mlxKite1x1PgmIhJgAxNS9eHmH8.jpg', 'original_language': 'en', 'original_title': 'Klaus', 'genre_ids': [12, 16, 35, 10751], 'title': '클라우스', 'vote_average': 8.7, 'overview': '활기 넘치는 젊은 우체부와 세상을 등지고 장난감을 만드는 목수. 전혀 어울리지 않는 둘의 우정이 차디찬 세상에 온기를 불어넣는다. 《슈퍼배드》 작가의 산타 탄생 이야기.', 'release_date': '2019-11-08'}, {'popularity': 70.189, 'vote_count': 922, 'video': False, 'poster_path': '/btpvGjqLBHgRnobKGlzbBD4jzmf.jpg', 'id': 420809, 'adult': False, 'backdrop_path': '/skvI4rYFrKXS73BJxWGH54Omlvv.jpg', 'original_language': 'en', 'original_title': 'Maleficent: Mistress of Evil', 'genre_ids': [12, 14, 10751], 'title': '말레피센트 2', 'vote_average': 7.2, 'overview': '강력한 어둠의 요정이자 무어스 숲의 수호자 ‘말레피센트’가 딸처럼 돌봐온 ‘오로라’와 필립 왕자의 결혼 약속으로 인간 왕국의 ‘잉그리스 왕비’와 대립하게 되고 이에 요정과 인간의 연합이 깨지면서 벌어지는 거대한 전쟁을 그린 판타지 블록버스터', 'release_date': '2019-10-16'}, {'popularity': 63.374, 'vote_count': 1483, 'video': False, 'poster_path': '/ePXuKdXZuJx8hHMNr2yM4jY2L7Z.jpg', 'id': 559969, 'adult': False, 'backdrop_path': '/ijiE9WoGSwSzM16zTxvUneJ8RXc.jpg', 'original_language': 'en', 'original_title': 'El Camino: A Breaking Bad Movie', 'genre_ids': [80, 18, 53], 'title': '브레이킹 배드 무비: 엘 카미노', 'vote_average': 7, 'overview': '도망자로 돌아온 제시 핑크맨. 범죄로부터, 과거로부터, 그는 달아나야만 한다. 《브레이킹 배드》의 제작자 빈스 길리건이 각본과 연출을 맡은 영화. 에런 폴이 출연한다.', 'release_date': '2019-10-11'}, {'popularity': 60.35, 'id': 501170, 'video': False, 'vote_count': 456, 'vote_average': 7.2, 'title': '닥터 슬립', 'release_date': '2019-10-30', 'original_language': 'en', 'original_title': 'Doctor Sleep', 'genre_ids': [27, 18, 14], 'backdrop_path': '/1nm0sk8UUx9jHCTHuMKe2jkt4Pn.jpg', 'adult': False, 'overview': '어린시절 아버지가 남긴 트라우마에서 벗어나지 못한 대니는 자신이 가진 샤이닝 능력으로 죽음을 앞둔 이들을 돕는 닥터 슬립으로 불리며 살고 있다. 우연히 누구보다 강력한 샤이닝 능력을 지닌 12살 소녀 아브라 스톤을 만나게 되면서, 샤이닝 능력자들을 먹고 영원한 생명을 이어나가는 트루 낫이라는 비밀조직과 맞서게 되는데…', 'poster_path': '/zcXjQEHfwuHrZKzpbrCPGnpPNtk.jpg'}, {'popularity': 62.464, 'vote_count': 319, 'video': False, 'poster_path': '/xvYCZ740XvngXK0FNeSNVTJJJ5v.jpg', 'id': 499701, 'adult': False, 'backdrop_path': '/61sbyO47yIpsMFyLhY1MWcqjg1Q.jpg', 'original_language': 'en', 'original_title': 'Dora and the Lost City of Gold', 'genre_ids': [12, 35, 10751], 'title': '도라와 잃어버린 황금의 도시', 'vote_average': 6.4, 'overview': '10대 탐험가 도라가 친구들을 이끌고 모험에 나선다. 도라는 부모님을 구하고, 잃어버린 황금의 도시에 얽힌 미스테리를 풀어야 한다.', 'release_date': '2019-08-08'}, {'popularity': 50.261, 'vote_count': 255, 'video': False, 'poster_path': '/yLfkkyEl3kfqj3jBln1m1zXnv9V.jpg', 'id': 480105, 'adult': False, 'backdrop_path': '/3uG3aOhEzFCjcQulsJQiAzLSrw8.jpg', 'original_language': 'en', 'original_title': '47 Meters Down: Uncaged', 'genre_ids': [12, 27, 53], 'title': '47 미터 2', 'vote_average': 4.8, 'overview': \"물에 잠긴 고대 마야의 수중도시 '시발바'를 향해 짜릿한 동굴 다이빙에 나선 '미아'와 친구들은 예기치 못한 사고로 미로 같은 동굴 속에 갇혀 헤매던 중 오랜 시간 굶주린 블라인드 샤크와 맞닥뜨리게 된다. 산소도, 탈출구도 없는 칠흑 같은 어둠 속에 갇힌 이들은 눈 보다 예민한 제3의 감각으로 좁혀오는 상어떼를 피해 목숨을 건 극한의 숨바꼭질을 시작하는데...\", 'release_date': '2019-08-15'}, {'popularity': 45.961, 'vote_count': 1388, 'video': False, 'poster_path': '/tcmj4YQ6p79OD8ECpRAbV8Yjk0c.jpg', 'id': 496243, 'adult': False, 'backdrop_path': '/TU9NIjwzjoKPwQHoHshkFcQUCG.jpg', 'original_language': 'ko', 'original_title': '기생충', 'genre_ids': [35, 18, 53], 'title': '기생충', 'vote_average': 8.5, 'overview': '전원 백수로 살 길 막막하지만 사이는 좋은 기택(송강호) 가족. 장남 기우(최우식)에게 명문대생 친구가 연결시켜 준 고액 과외 자리는 모처럼 싹튼 고정수입의 희망이다. 온 가족의 도움과 기대 속에 박 사장(이선균) 집으로 향하는 기우. 글로벌 IT기업의 CEO인 박 사장의 저택에 도착하자 젊고 아름다운 사모님 연교(조여정)와 가정부 충숙(장혜진)이 기우를 맞이한다. 큰 문제 없이 박 사장의 딸 다혜(정지소)의 과외를 시작한 기우. 그러나 이렇게 시작된 두 가족의 만남 뒤로, 걷잡을 수 없는 사건이 기다리고 있는데...', 'release_date': '2019-05-30'}, {'popularity': 52.507, 'vote_count': 64, 'video': False, 'poster_path': '/oyKnosHXQ7kkhlGwqsWOvn4RgKR.jpg', 'id': 513409, 'adult': False, 'backdrop_path': '/n0Yk3pEix6EvMfcFxpTQKMUtl6V.jpg', 'original_language': 'en', 'original_title': 'Earthquake Bird', 'genre_ids': [18, 9648, 53, 10749], 'title': '지진새', 'vote_average': 5.5, 'overview': '1980년대 도쿄, 짙은 그늘을 품은 이국의 여인. 어느 날, 그녀의 일본인 연인을 유혹하던 친구가 실종된다. 어긋난 사랑이, 치명적인 삼각관계가, 끝내 죽음을 부른 걸까.', 'release_date': '2019-11-01'}, {'popularity': 53.763, 'vote_count': 3, 'video': False, 'poster_path': '/tC3oqkvF6E1RzaTBMb7IivcLx96.jpg', 'id': 501907, 'adult': False, 'backdrop_path': '/wfPR0NQsM4RkLPpWLCbuyNgKC3k.jpg', 'original_language': 'en', 'original_title': 'A Beautiful Day in the Neighborhood', 'genre_ids': [18], 'title': '어 뷰티풀 데이 인 더 네이버후드', 'vote_average': 10, 'overview': '', 'release_date': '2019-11-22'}, {'popularity': 45.08, 'vote_count': 473, 'video': False, 'poster_path': '/1ok4v9dbalAS1AQaplFxbFmC9kb.jpg', 'id': 338967, 'adult': False, 'backdrop_path': '/jCCdt0e8Xe9ttvevD4S3TSMNdH.jpg', 'original_language': 'en', 'original_title': 'Zombieland: Double Tap', 'genre_ids': [28, 35, 27], 'title': '좀비랜드: 더블 탭', 'vote_average': 7.3, 'overview': '좀비로 세상이 망한지 10년, 자신들만의 재능을 발휘하고 생존 규칙을 지키며 여전히 꿋꿋하게 살아가고 있는 희한한 가족 탤러해시, 콜럼버스, 위치타, 리틀록. 하지만 ‘좀비랜드’에 더욱 진화한 좀비가 나타나고 이들은 새로운 인간 생존자들과 함께 사투를 시작하는데…', 'release_date': '2019-10-09'}, {'popularity': 38.701, 'id': 504949, 'video': False, 'vote_count': 541, 'vote_average': 7.2, 'title': '더 킹: 헨리 5세', 'release_date': '2019-10-11', 'original_language': 'en', 'original_title': 'The King', 'genre_ids': [18, 36, 10752], 'backdrop_path': '/r0AWsZ9dBvC2No3kND9nxv3iRbb.jpg', 'adult': False, 'overview': '잉글랜드 왕의 후계자가 될 생각은 조금도 없는 방탕한 왕자, 할(티모시 샬라메). 그는 왕궁을 등진 채 민중들과 어울려 지내고 있다. 하지만 아버지가 돌아가신 후, 장남인 그는 헨리 5세로 즉위하고, 그동안 그토록 피하고 싶었던 삶을 살 수밖에 없다. 왕궁 내 정치와 혼란, 아버지가 남긴 전쟁을 이끌어가야 하는 젊은 왕. 뿐만 아니라, 그는 가장 친한 친구이자 멘토, 이제는 늙은 알코올중독자가 되어버린 기사 존 폴스타프(조엘 에저턴)를 포함해, 과거의 삶과 관련된 감정들로 괴로워한다.', 'poster_path': '/lmDWUkKhCvhBwLTX0I6ZEiirk7x.jpg'}], 'page': 1, 'total_results': 1433, 'dates': {'maximum': '2019-11-27', 'minimum': '2019-10-10'}, 'total_pages': 72}\n"
     ]
    },
    {
     "name": "stdout",
     "output_type": "stream",
     "text": [
      "[조커, 겨울왕국 2, 터미네이터: 다크 페이트, 엔젤 해즈 폴른, 제미니 맨, 미녀 삼총사, 그것: 두 번째 이야기, 원피스 : 스탬피드, 포드 V 페라리, 클라우스, 말레피센트 2, 브레이킹 배드 무비: 엘 카미노, 닥터 슬립, 도라와 잃어버린 황금의 도시, 47 미터 2, 기생충, 지진새, 어 뷰티풀 데이 인 더 네이버후드, 좀비랜드: 더블 탭, 더 킹: 헨리 5세]\n"
     ]
    }
   ],
   "source": [
    "from tmdbv3api import Movie\n",
    "\n",
    "k = movie.now_playing()\n",
    "\n",
    "print(k)\n",
    "# movie.lists()\n",
    "# recommendations = movie.recommendations(movie_id=111)\n",
    "\n",
    "# for recommendation in recommendations:\n",
    "#     print(recommendation.title)\n",
    "#     print(recommendation.overview)"
   ]
  },
  {
   "cell_type": "code",
   "execution_count": 16,
   "metadata": {},
   "outputs": [
    {
     "data": {
      "text/plain": [
       "['__class__',\n",
       " '__delattr__',\n",
       " '__dict__',\n",
       " '__dir__',\n",
       " '__doc__',\n",
       " '__eq__',\n",
       " '__format__',\n",
       " '__ge__',\n",
       " '__getattribute__',\n",
       " '__gt__',\n",
       " '__hash__',\n",
       " '__init__',\n",
       " '__init_subclass__',\n",
       " '__le__',\n",
       " '__lt__',\n",
       " '__module__',\n",
       " '__ne__',\n",
       " '__new__',\n",
       " '__reduce__',\n",
       " '__reduce_ex__',\n",
       " '__repr__',\n",
       " '__setattr__',\n",
       " '__sizeof__',\n",
       " '__str__',\n",
       " '__subclasshook__',\n",
       " '__weakref__',\n",
       " '_base',\n",
       " '_call',\n",
       " '_get_obj',\n",
       " '_remaining',\n",
       " '_reset',\n",
       " '_urls',\n",
       " 'api_key',\n",
       " 'credits',\n",
       " 'debug',\n",
       " 'details',\n",
       " 'external',\n",
       " 'images',\n",
       " 'keywords',\n",
       " 'language',\n",
       " 'latest',\n",
       " 'lists',\n",
       " 'now_playing',\n",
       " 'page',\n",
       " 'popular',\n",
       " 'recommendations',\n",
       " 'reviews',\n",
       " 'search',\n",
       " 'similar',\n",
       " 'top_rated',\n",
       " 'total_pages',\n",
       " 'total_results',\n",
       " 'upcoming',\n",
       " 'videos',\n",
       " 'wait_on_rate_limit']"
      ]
     },
     "execution_count": 16,
     "metadata": {},
     "output_type": "execute_result"
    }
   ],
   "source": [
    "dir(movie)"
   ]
  }
 ],
 "metadata": {
  "kernelspec": {
   "display_name": "Python 3",
   "language": "python",
   "name": "python3"
  },
  "language_info": {
   "codemirror_mode": {
    "name": "ipython",
    "version": 3
   },
   "file_extension": ".py",
   "mimetype": "text/x-python",
   "name": "python",
   "nbconvert_exporter": "python",
   "pygments_lexer": "ipython3",
   "version": "3.7.4"
  },
  "toc": {
   "base_numbering": 1,
   "nav_menu": {},
   "number_sections": true,
   "sideBar": true,
   "skip_h1_title": false,
   "title_cell": "Table of Contents",
   "title_sidebar": "Contents",
   "toc_cell": false,
   "toc_position": {},
   "toc_section_display": true,
   "toc_window_display": false
  }
 },
 "nbformat": 4,
 "nbformat_minor": 2
}
