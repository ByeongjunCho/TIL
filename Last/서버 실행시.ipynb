{
 "cells": [
  {
   "cell_type": "code",
   "execution_count": 2,
   "metadata": {},
   "outputs": [],
   "source": [
    "from pprint import pprint\n",
    "import json\n",
    "import pandas as pd\n",
    "import numpy as np\n",
    "from sklearn.feature_extraction.text import CountVectorizer\n",
    "from sklearn.metrics.pairwise import cosine_similarity\n",
    "import csv"
   ]
  },
  {
   "cell_type": "markdown",
   "metadata": {},
   "source": [
    "# JSON을 CSV로 변경 함수"
   ]
  },
  {
   "cell_type": "code",
   "execution_count": 3,
   "metadata": {},
   "outputs": [],
   "source": [
    "def json_to_csv(jsonFileName, wantCsvFileName):  # 루트 경로가 아니면 경로까지 추가 필요\n",
    "    # json 파일 읽어오기\n",
    "    with open(jsonFileName) as f:\n",
    "        json_data = json.load(f)\n",
    "    # json파일을 csv로 변경하여 저장\n",
    "    csv_data = open(wantCsvFileName, 'w', encoding='utf-8')\n",
    "    csvwriter = csv.writer(csv_data)\n",
    "    count = 0\n",
    "    for kk in json_data:\n",
    "        if count == 0:\n",
    "            header = kk.keys()\n",
    "            csvwriter.writerow(header)\n",
    "            count += 1\n",
    "        csvwriter.writerow(kk.values())\n",
    "    csv_data.close()\n",
    "\n",
    "json_to_csv('data.txt', 'test.csv')"
   ]
  },
  {
   "cell_type": "markdown",
   "metadata": {},
   "source": [
    "# csv형식의 파일을 로드하고 원하는 특징을 이용해 수정"
   ]
  },
  {
   "cell_type": "code",
   "execution_count": 6,
   "metadata": {},
   "outputs": [],
   "source": [
    "df = pd.read_csv(\"movie.csv\")\n",
    "features = ['genreAlt']  # 원하는 속성 입력\n",
    "def combine_features(row):\n",
    "    result = ''\n",
    "    for c in features:\n",
    "        result += ' '.join(row['genreAlt'].split(','))\n",
    "    return result\n",
    "# NaN을 빈 string로 채움\n",
    "for feature in features:\n",
    "    df[features] = df[features].fillna('')  # NaN을 ''로 변경하여 채워줌\n",
    "df['combined_features'] = df.apply(combine_features, axis=1) # combine feature df에 추가"
   ]
  },
  {
   "cell_type": "markdown",
   "metadata": {},
   "source": [
    "# 영화 정보를 넣었을 경우 가장 비슷한 형식의 영화 정보 출력 함수"
   ]
  },
  {
   "cell_type": "code",
   "execution_count": 64,
   "metadata": {},
   "outputs": [],
   "source": [
    "# 영화 인덱스를 이용한 영화제목 출력함수\n",
    "def get_title_from_index(where, index):\n",
    "    return where['movieNm'][index]\n",
    "# 영화 제목을 이용한 인덱스 출력 함수\n",
    "def get_index_from_title(where, movieNm):\n",
    "    return where.loc[df['movieNm'] == movieNm].index[0]\n",
    "\n",
    "def movie_recommend(MovieNames, others, nums): # 두개의 파라미터 다 리스트 형식으로 입력\n",
    "    all_combined_features = []\n",
    "    for name in MovieNames:\n",
    "        all_combined_features += df['combined_features'][get_index_from_title(df, name)].split()\n",
    "    all_combined_features += others\n",
    "    tmp_df = df.append({'combined_features' : ' '.join(set(all_combined_features))}, ignore_index=True)\n",
    "    \n",
    "    # countVector 유사도 검사\n",
    "    cv = CountVectorizer()\n",
    "    count_matrix = cv.fit_transform(tmp_df['combined_features'])\n",
    "    cosine_sim = cosine_similarity(count_matrix)\n",
    "    index = df.shape[0]\n",
    "    similar_movies = list(enumerate(cosine_sim[index]))\n",
    "    sorted_similar_movies = sorted(similar_movies, key=lambda x: x[1], reverse=True)\n",
    "    \n",
    "    result = []\n",
    "    \n",
    "    \n",
    "    for e in sorted_similar_movies:\n",
    "        if e[1] < 0.3 or len(result) == nums:\n",
    "            break\n",
    "        title = get_title_from_index(tmp_df, e[0])\n",
    "#         print(title)\n",
    "#         print(type(title))\n",
    "#         print(title in MovieNames)\n",
    "#         print(title is not str)\n",
    "        if (title in MovieNames) or str(title) == 'nan':\n",
    "            continue\n",
    "        \n",
    "        result.append(title)\n",
    "    return result"
   ]
  },
  {
   "cell_type": "code",
   "execution_count": 65,
   "metadata": {},
   "outputs": [
    {
     "name": "stdout",
     "output_type": "stream",
     "text": [
      "['싱', '너의 여자친구']\n"
     ]
    }
   ],
   "source": [
    "a = movie_recommend(['허슬러'], [], 10)\n",
    "print(a)"
   ]
  }
 ],
 "metadata": {
  "kernelspec": {
   "display_name": "Python 3",
   "language": "python",
   "name": "python3"
  },
  "language_info": {
   "codemirror_mode": {
    "name": "ipython",
    "version": 3
   },
   "file_extension": ".py",
   "mimetype": "text/x-python",
   "name": "python",
   "nbconvert_exporter": "python",
   "pygments_lexer": "ipython3",
   "version": "3.7.4"
  },
  "toc": {
   "base_numbering": 1,
   "nav_menu": {},
   "number_sections": true,
   "sideBar": true,
   "skip_h1_title": false,
   "title_cell": "Table of Contents",
   "title_sidebar": "Contents",
   "toc_cell": false,
   "toc_position": {},
   "toc_section_display": true,
   "toc_window_display": false
  }
 },
 "nbformat": 4,
 "nbformat_minor": 2
}
